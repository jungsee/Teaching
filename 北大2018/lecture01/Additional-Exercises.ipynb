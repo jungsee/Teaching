{
 "cells": [
  {
   "cell_type": "markdown",
   "metadata": {},
   "source": [
    "### More Exercises on Essentials, Numpy, Matplotlib and SciPy"
   ]
  },
  {
   "cell_type": "markdown",
   "metadata": {},
   "source": [
    "### Exercise 1\n",
    "Generating an array of 10,000,000 random numbers, then set its negative elements to 0.  \n",
    "You are requried to provide **three** implementations: one *using loop*, two *without using loop*.   \n",
    "Please compare their performance by using the $\\%time$ magic command on each implementation."
   ]
  },
  {
   "cell_type": "code",
   "execution_count": 1,
   "metadata": {
    "collapsed": true
   },
   "outputs": [],
   "source": [
    "# Exercise 1\n",
    "\n",
    "import numpy as np\n",
    "import matplotlib.pyplot as plt\n",
    "\n",
    "z = np.random.randn(10000000)"
   ]
  },
  {
   "cell_type": "code",
   "execution_count": 2,
   "metadata": {},
   "outputs": [
    {
     "name": "stdout",
     "output_type": "stream",
     "text": [
      "1 loop, best of 3: 7.65 s per loop\n"
     ]
    }
   ],
   "source": [
    "%%timeit\n",
    "for i in range(z.size):\n",
    "    if z[i] < 0:\n",
    "        z[i] = 0\n",
    "    else:\n",
    "        z[i] = z[i]"
   ]
  },
  {
   "cell_type": "code",
   "execution_count": 3,
   "metadata": {},
   "outputs": [
    {
     "name": "stdout",
     "output_type": "stream",
     "text": [
      "The slowest run took 9.42 times longer than the fastest. This could mean that an intermediate result is being cached.\n",
      "100 loops, best of 3: 16 ms per loop\n"
     ]
    }
   ],
   "source": [
    "z = np.random.randn(10000000)\n",
    "%timeit z[z < 0] = 0"
   ]
  },
  {
   "cell_type": "code",
   "execution_count": 4,
   "metadata": {},
   "outputs": [
    {
     "name": "stdout",
     "output_type": "stream",
     "text": [
      "The slowest run took 9.73 times longer than the fastest. This could mean that an intermediate result is being cached.\n",
      "100 loops, best of 3: 15.4 ms per loop\n"
     ]
    }
   ],
   "source": [
    "z = np.random.randn(10000000)\n",
    "%timeit z[np.where(z < 0)] = 0"
   ]
  },
  {
   "cell_type": "markdown",
   "metadata": {},
   "source": [
    "### Exercise 2\n",
    "Generate a $4 x k$ matrix, where $k$ is an input given by user, this matrix should look like this:  \n",
    "[  \n",
    " [0, 4, 8, ..., 4(k-1)],  \n",
    " [1, 5, 9, ..., 4(k-1)+1],  \n",
    " [2, 6,10, ..., 4(k-1)+2],  \n",
    " [3, 7,11, ..., 4(k-1)+3]  \n",
    "]  \n",
    "**Note:** try to avoid using loop, and implement it in less than 4 lines of code."
   ]
  },
  {
   "cell_type": "code",
   "execution_count": 5,
   "metadata": {},
   "outputs": [],
   "source": [
    "k =16\n",
    "l = np.reshape(np.arange(k), (k//4, 4)).T"
   ]
  },
  {
   "cell_type": "markdown",
   "metadata": {},
   "source": [
    "### Exercise 3\n",
    "Write a function $gcd(a, b)$ to compute the *Greatest Common Divisor* for two naturals $a$ and $b$, which are provided by user input. Then write a function $lcm(a, b)$ by making use of your $gcd$ function to compute the *Least Common Multiple* for $a$ and $b$. Your $gcd$ function should present the result as well as the process on finding the result like below:  \n",
    "\n",
    "```python\n",
    "gcd(123456, 7890)  \n",
    "0: gcd(123456, 7890)  \n",
    "1: gcd(7890, 5106)  \n",
    "2: gcd(5106, 2784)  \n",
    "3: gcd(2784, 2322)  \n",
    "4: gcd(2322, 462)  \n",
    "5: gcd(462, 12)  \n",
    "6: gcd(12, 6)  \n",
    "Out[595]:  \n",
    "6```\n"
   ]
  },
  {
   "cell_type": "code",
   "execution_count": 6,
   "metadata": {},
   "outputs": [],
   "source": [
    "def gcd(a, b, d=None):\n",
    "    if d is None:\n",
    "        d = min(a, b)\n",
    "    if a % d == 0 and b % d == 0:\n",
    "        return d\n",
    "    else:\n",
    "        d = d - 1\n",
    "        return gcd(a, b, d=d)\n",
    "    \n",
    "def lcm(a, b):\n",
    "    d = gcm(a, b)\n",
    "    m = min(a/d, b/d)\n",
    "    return m * max(a, b)"
   ]
  },
  {
   "cell_type": "code",
   "execution_count": 7,
   "metadata": {},
   "outputs": [
    {
     "data": {
      "text/plain": [
       "6"
      ]
     },
     "execution_count": 7,
     "metadata": {},
     "output_type": "execute_result"
    }
   ],
   "source": [
    "z = gcd(462, 12)\n",
    "z"
   ]
  },
  {
   "cell_type": "markdown",
   "metadata": {},
   "source": [
    "### Exercise 4\n",
    "Write a function to remove redundant white spaces from a line of text.  \n",
    "e.g. '$This\\ is \\ \\ \\ \\ \\ \\ \\ \\ \\ \\ \\ for\\ removing \\ \\ \\ \\ \\ \\ \\ redundant\\ spaces$'   \n",
    "=>  '$This\\ is\\ for\\ removing\\ redundant\\ spaces$'   \n",
    "\n",
    "**Note**: try to avoid using loop, check out the built-in functions of Python"
   ]
  },
  {
   "cell_type": "code",
   "execution_count": 8,
   "metadata": {},
   "outputs": [
    {
     "data": {
      "text/plain": [
       "'This is for removing redundant spaces'"
      ]
     },
     "execution_count": 8,
     "metadata": {},
     "output_type": "execute_result"
    }
   ],
   "source": [
    "l = 'This is      for removing       redundant spaces'\n",
    "\" \".join(l.split())"
   ]
  },
  {
   "cell_type": "markdown",
   "metadata": {},
   "source": [
    "### Exercise 5\n",
    "Given an array, e.g., [2, 18, 9, 22, 17, 24, 8, 12, 27],  \n",
    "generate a subarry from elements which are multiples of 3, e.g., [18, 9, 24, 12, 27]   \n",
    "\n",
    "**Note**: try to avoid using loop, check out the built-in functions of Python"
   ]
  },
  {
   "cell_type": "code",
   "execution_count": 9,
   "metadata": {},
   "outputs": [
    {
     "data": {
      "text/plain": [
       "array([18,  9, 24, 12, 27])"
      ]
     },
     "execution_count": 9,
     "metadata": {},
     "output_type": "execute_result"
    }
   ],
   "source": [
    "z = np.array([2, 18, 9, 22, 17, 24, 8, 12, 27])\n",
    "\n",
    "d = z[z%3 == 0]\n",
    "d"
   ]
  },
  {
   "cell_type": "markdown",
   "metadata": {},
   "source": [
    "### Exercise 6\n",
    "Read a text file, get the 20 most frequent words from the text file, output the words as well as their counts.  \n",
    "**Note:** \n",
    "1. You should exclude punctuations such as \", . ! # $ ...\". In other words, only count English words\n",
    "2. You should provide a dictionary to your code which exclude counting any word in this list, e.g., a dictionray may look like this: [to, a, as, this, for, in, on, but].\n",
    "\n",
    "**Hint: ** You may need some knowledge on regular expressions and its usage in Python."
   ]
  },
  {
   "cell_type": "code",
   "execution_count": 10,
   "metadata": {},
   "outputs": [],
   "source": [
    "import pandas as pd\n",
    "\n",
    "f = open('Walden.txt', 'r')\n",
    "out = f.read()\n",
    "word_list = out.split()\n",
    "counter = {}\n",
    "for word in word_list:\n",
    "    if word in counter.keys():\n",
    "        counter[word] += 1\n",
    "    else:\n",
    "        counter[word] = 1"
   ]
  },
  {
   "cell_type": "code",
   "execution_count": 11,
   "metadata": {},
   "outputs": [
    {
     "data": {
      "text/plain": [
       "the      6928\n",
       "and      4474\n",
       "of       3465\n",
       "to       3038\n",
       "a        2958\n",
       "I        1989\n",
       "in       1933\n",
       "that     1261\n",
       "is       1252\n",
       "as       1132\n",
       "it       1102\n",
       "not      1008\n",
       "for       921\n",
       "was       865\n",
       "or        854\n",
       "with      848\n",
       "which     835\n",
       "my        743\n",
       "be        717\n",
       "his       702\n",
       "dtype: int64"
      ]
     },
     "execution_count": 11,
     "metadata": {},
     "output_type": "execute_result"
    }
   ],
   "source": [
    "series = pd.Series(counter)\n",
    "series.sort_values(ascending=False)[:20]"
   ]
  },
  {
   "cell_type": "markdown",
   "metadata": {},
   "source": [
    "### Exercise 7\n",
    "Given a large integer N, find out all the prime numbers less than N. You may optimize your program in multiple passes, and compare their performance to evaluate your improvent.   \n",
    "\n",
    "**Note:** Suppose initially the only prime number that your program knows is 2."
   ]
  },
  {
   "cell_type": "code",
   "execution_count": 12,
   "metadata": {},
   "outputs": [],
   "source": [
    "def is_prime(n):\n",
    "    divisors = []\n",
    "    for i in range(1, n+1):\n",
    "        if n % i == 0:\n",
    "            divisors.append(i)\n",
    "    return len(divisors)==2        \n",
    "\n",
    "def find_prime(N):\n",
    "    primes = []\n",
    "    for i in range(1, N + 1):\n",
    "        if is_prime(i):\n",
    "            primes.append(i)\n",
    "    return primes"
   ]
  }
 ],
 "metadata": {
  "kernelspec": {
   "display_name": "Python 3",
   "language": "python",
   "name": "python3"
  },
  "language_info": {
   "codemirror_mode": {
    "name": "ipython",
    "version": 3
   },
   "file_extension": ".py",
   "mimetype": "text/x-python",
   "name": "python",
   "nbconvert_exporter": "python",
   "pygments_lexer": "ipython3",
   "version": "3.6.1"
  }
 },
 "nbformat": 4,
 "nbformat_minor": 2
}
