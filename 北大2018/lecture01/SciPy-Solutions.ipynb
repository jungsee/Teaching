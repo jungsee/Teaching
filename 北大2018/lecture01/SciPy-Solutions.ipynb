{
 "cells": [
  {
   "cell_type": "markdown",
   "metadata": {},
   "source": [
    "# SciPy Exercises"
   ]
  },
  {
   "cell_type": "markdown",
   "metadata": {
    "collapsed": true
   },
   "source": [
    "### 1. For the linear regression example code in the lecture, change the parameters and we have the following code:"
   ]
  },
  {
   "cell_type": "code",
   "execution_count": 2,
   "metadata": {},
   "outputs": [
    {
     "data": {
      "text/plain": [
       "(2.2604801014173987, -0.049702508217282948)"
      ]
     },
     "execution_count": 2,
     "metadata": {},
     "output_type": "execute_result"
    }
   ],
   "source": [
    "import numpy as np\n",
    "from scipy.stats import linregress\n",
    "\n",
    "x = np.random.randn(20)\n",
    "y = 2 * x + 0.5 * np.random.randn(20)\n",
    "slope, intercept, r_value, p_value, std_err = linregress(x, y)\n",
    "slope, intercept"
   ]
  },
  {
   "cell_type": "markdown",
   "metadata": {},
   "source": [
    "Please plot the samples and the linear regression function like below"
   ]
  },
  {
   "attachments": {
    "linear-reg.png": {
     "image/png": "[encoded data removed]"
    }
   },
   "cell_type": "markdown",
   "metadata": {
    "scrolled": true
   },
   "source": [
    "![linear-reg.png](attachment:linear-reg.png)"
   ]
  },
  {
   "cell_type": "markdown",
   "metadata": {},
   "source": [
    "**Solution**"
   ]
  },
  {
   "cell_type": "code",
   "execution_count": 3,
   "metadata": {},
   "outputs": [
    {
     "data": {
      "image/png": "[encoded data removed]",
      "text/plain": [
       "<matplotlib.figure.Figure at 0x47084e0>"
      ]
     },
     "metadata": {},
     "output_type": "display_data"
    }
   ],
   "source": [
    "import matplotlib.pyplot as plt\n",
    "from scipy.stats import linregress\n",
    "\n",
    "x = np.random.randn(20)\n",
    "y = 2*x + 0.5 * np.random.randn(20)\n",
    "slope, intercept, r_value, p_value, std_err = linregress(x, y)\n",
    "\n",
    "plt.plot(x, y, 'o', label='original data')\n",
    "plt.plot(x, slope*x + intercept, 'r', label='fitted line')\n",
    "plt.show()"
   ]
  },
  {
   "cell_type": "markdown",
   "metadata": {},
   "source": [
    "### 2. Given a function: \n",
    "$f(x) = x^2 - 3x + 7$\n",
    "\n",
    "Suppose we know an $x_0$ which makes $f(x_0) = 385$, please get the value of $x_0$\n",
    "\n",
    "**Hint:** You may use *multivariate root finding* introduced in the lecture for solving this problem.\n",
    "\n",
    "**Solution**"
   ]
  },
  {
   "cell_type": "code",
   "execution_count": 11,
   "metadata": {},
   "outputs": [
    {
     "name": "stdout",
     "output_type": "stream",
     "text": [
      "x:21.0, y:385.0\n"
     ]
    }
   ],
   "source": [
    "from scipy.optimize import fsolve\n",
    "from scipy.optimize import fmin\n",
    "\n",
    "def fy(xy, k):\n",
    "    x, y = xy.tolist()\n",
    "    return [\n",
    "        x**2 - 3*x + 7 - y,\n",
    "        y - k\n",
    "    ]\n",
    "\n",
    "r = fsolve(fy, [1, 1], 385)\n",
    "print('x:{}, y:{}'.format(r[0], r[1]))"
   ]
  },
  {
   "cell_type": "markdown",
   "metadata": {},
   "source": [
    "###  3. Write a recursive implementation of the bisection function described above"
   ]
  },
  {
   "cell_type": "markdown",
   "metadata": {},
   "source": [
    "- **recusive function calls**: a function that calls itself"
   ]
  },
  {
   "cell_type": "markdown",
   "metadata": {},
   "source": [
    "**Solution**"
   ]
  },
  {
   "cell_type": "code",
   "execution_count": 15,
   "metadata": {},
   "outputs": [
    {
     "name": "stdout",
     "output_type": "stream",
     "text": [
      "f(x) = +0.34147194,  x = 0.5\n",
      "f(x) = -0.75000000,  x = 0.25\n",
      "f(x) = -0.14557446,  x = 0.375\n",
      "f(x) = +0.11913883,  x = 0.4375\n",
      "f(x) = -0.00865271,  x = 0.40625\n",
      "f(x) = +0.05648211,  x = 0.421875\n",
      "f(x) = +0.02421260,  x = 0.4140625\n",
      "f(x) = +0.00785290,  x = 0.41015625\n",
      "f(x) = -0.00038186,  x = 0.408203125\n",
      "f(x) = +0.00374006,  x = 0.4091796875\n",
      "f(x) = +0.00168023,  x = 0.40869140625\n",
      "f(x) = +0.00064947,  x = 0.408447265625\n",
      "f(x) = +0.00013388,  x = 0.4083251953125\n",
      "f(x) = -0.00012397,  x = 0.40826416015625\n"
     ]
    }
   ],
   "source": [
    "import numpy as np\n",
    "\n",
    "def bisect(f, a, b, tol=10e-5):\n",
    "    \"\"\"\n",
    "    Implements the bisection root finding algorithm, assuming that f is a\n",
    "    real-valued function on [a, b] satisfying f(a) < 0 < f(b).\n",
    "    \"\"\"\n",
    "    lower, upper = a, b\n",
    "    if upper - lower < tol:\n",
    "        return 0.5 * (upper + lower)\n",
    "    else:\n",
    "        middle = 0.5 * (upper + lower)\n",
    "        y = f(middle)\n",
    "        print('f(x) = {:+.8f},  x = {}'.format(y, middle))\n",
    "        if y > 0:   # Implies root is between lower and middle\n",
    "            bisect(f, lower, middle)\n",
    "        else:               # Implies root is between middle and upper\n",
    "            bisect(f, middle, upper)\n",
    "            \n",
    "# Test bisect() function\n",
    "f = lambda x: np.sin(4 * (x - 0.25)) + x + x**20 - 1\n",
    "\n",
    "bisect(f, 0, 1)"
   ]
  }
 ],
 "metadata": {
  "kernelspec": {
   "display_name": "Python 3",
   "language": "python",
   "name": "python3"
  },
  "language_info": {
   "codemirror_mode": {
    "name": "ipython",
    "version": 3
   },
   "file_extension": ".py",
   "mimetype": "text/x-python",
   "name": "python",
   "nbconvert_exporter": "python",
   "pygments_lexer": "ipython3",
   "version": "3.6.3"
  }
 },
 "nbformat": 4,
 "nbformat_minor": 2
}
