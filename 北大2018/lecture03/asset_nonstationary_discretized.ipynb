{
 "cells": [
  {
   "cell_type": "markdown",
   "metadata": {},
   "source": [
    "## Asset Pricing with Dividend Growth via Discretization\n",
    "\n",
    "#### John Stachurski"
   ]
  },
  {
   "cell_type": "markdown",
   "metadata": {},
   "source": [
    "We aim to compute the price dividend ratio\n",
    "\n",
    "$$\n",
    "    V_t = \\mathbb E_t\n",
    "        \\left[\n",
    "            M_{t+1} \\frac{D_{t+1}}{D_t}\n",
    "            (1 + V_{t+1})\n",
    "        \\right]\n",
    "$$\n",
    "\n",
    "given the SDF and dividend process."
   ]
  },
  {
   "cell_type": "markdown",
   "metadata": {},
   "source": [
    "We consider the case of nonstationary dividends and consumption, where\n",
    "\n",
    "$$ \\ln \\frac{D_{t+1}}{D_t} = \\mu_d + X_t + \\sigma_d \\eta_{d, t+1} $$\n",
    "\n",
    "The shock sequence $\\{ \\eta_{d,t} \\}$ is IID and standard normal.  The state process $\\{X_t\\}$ obeys\n",
    "\n",
    "$$ X_{t+1} = \\rho X_t + \\sigma \\xi_{t+1} $$\n",
    "\n",
    "where $\\{ \\xi_t \\}$ is IID and standard normal. \n",
    "\n",
    "Consumption is also nonstationary, obeying\n",
    "\n",
    "$$ \\ln \\frac{C_{t+1}}{C_t} = \\mu_c + X_t + \\sigma_c \\eta_{c, t+1} $$\n",
    "\n",
    "The sequence $\\{ \\eta_{c,t} \\}$ is likewise IID and standard normal.\n",
    "\n",
    "We use the Lucas SDF\n",
    "\n",
    "$$ M_{t+1} = \\beta \\frac{u'(C_{t+1})}{u'(C_t)} $$\n",
    "\n",
    "The utility function is \n",
    "\n",
    "$$ u(c) = \\frac{c^{1-\\gamma}}{1 - \\gamma} $$\n",
    "\n",
    "Hence\n",
    "\n",
    "$$ \n",
    "    M_{t+1} \n",
    "    = \\beta \\left( \\frac{C_{t+1}}{C_t} \\right)^{-\\gamma} \n",
    "    = \\beta \\exp(-\\gamma(  \\mu_c + X_t + \\sigma_c \\eta_{c, t+1} ))\n",
    "$$"
   ]
  },
  {
   "cell_type": "code",
   "execution_count": 1,
   "metadata": {
    "collapsed": true
   },
   "outputs": [],
   "source": [
    "import numpy as np\n",
    "import matplotlib.pyplot as plt\n",
    "import quantecon as qe\n",
    "from scipy.linalg import solve, eigvals"
   ]
  },
  {
   "cell_type": "markdown",
   "metadata": {},
   "source": [
    "I'm going to use a simple tuple to store parameters.  This is less elegant than some other Python options (look out for Data Classes coming in Python 3.7) but has the advantage that it works cleanly with Numba."
   ]
  },
  {
   "cell_type": "code",
   "execution_count": 2,
   "metadata": {
    "collapsed": true
   },
   "outputs": [],
   "source": [
    "default_params = (0.96,  # β\n",
    "                  2.0,   # γ\n",
    "                  0.9,   # ρ\n",
    "                  0.05,  # σ\n",
    "                  0.01,  # μ_d\n",
    "                  0.01,  # σ_d\n",
    "                  0.05,  # μ_c\n",
    "                  0.01)  # σ_c"
   ]
  },
  {
   "cell_type": "markdown",
   "metadata": {},
   "source": [
    "### Discretization "
   ]
  },
  {
   "cell_type": "markdown",
   "metadata": {},
   "source": [
    "\n",
    "When we discretize we'll reduce the state process to $n$ states using Tauchen's method.  \n",
    "\n",
    "Let $Q$ be the resulting stochastic (i.e., Markov) matrix.\n",
    "\n",
    "In this case (supply details),\n",
    "\n",
    "$$\n",
    "    A(x, y) \n",
    "    = \\beta \\exp\n",
    "        \\left(\n",
    "        -\\gamma \\mu_c + \\mu_d\n",
    "        + (1 - \\gamma) x\n",
    "        + \\frac{\\gamma^2 \\sigma_c^2 + \\sigma_d^2}{2}\n",
    "        \\right)\n",
    "        Q(x, y)\n",
    "$$\n"
   ]
  },
  {
   "cell_type": "code",
   "execution_count": 3,
   "metadata": {
    "collapsed": true
   },
   "outputs": [],
   "source": [
    "def price_div_discretized(params, n=20):\n",
    "\n",
    "    # Unpack parameters\n",
    "    β, γ, ρ, σ, μ_d, σ_d, μ_c, σ_c = params\n",
    "\n",
    "    # Discretize state process\n",
    "    mc = qe.tauchen(ρ, σ, n=n)\n",
    "    Q = mc.P\n",
    "\n",
    "    # Compute the matrix A\n",
    "    A = np.empty((n, n))\n",
    "    for i in range(n):\n",
    "        for j in range(n):\n",
    "            t1 = -γ * μ_c + μ_d + (1 - γ) * mc.state_values[i]\n",
    "            t2 = (γ**2 * σ_c**2 + σ_d**2) / 2 \n",
    "            A[i, j] = β * np.exp(t1 + t2) * Q[i, j]\n",
    "\n",
    "    # Test stability\n",
    "    rA = np.max(np.abs(eigvals(A)))\n",
    "    print(f\"Computed A with spectral radius {rA}\")\n",
    "    \n",
    "    # Compute price-dividend ratio\n",
    "    I = np.identity(n)\n",
    "    v = solve(I - A, A @ np.ones((n, 1)))\n",
    "    \n",
    "    return v, mc.state_values\n",
    "    \n"
   ]
  },
  {
   "cell_type": "markdown",
   "metadata": {},
   "source": [
    "Now let's compute the price dividend ratio at the default parameters and plot it against the state."
   ]
  },
  {
   "cell_type": "code",
   "execution_count": 4,
   "metadata": {},
   "outputs": [
    {
     "name": "stdout",
     "output_type": "stream",
     "text": [
      "Computed A with spectral radius 0.9806937813181014\n"
     ]
    }
   ],
   "source": [
    "v, x = price_div_discretized(default_params)"
   ]
  },
  {
   "cell_type": "code",
   "execution_count": 5,
   "metadata": {},
   "outputs": [
    {
     "data": {
      "image/png": "[encoded data removed]",
      "text/plain": [
       "<matplotlib.figure.Figure at 0x7f224f74d390>"
      ]
     },
     "metadata": {},
     "output_type": "display_data"
    }
   ],
   "source": [
    "fig, ax = plt.subplots()\n",
    "ax.set_xlabel(\"$x$\")\n",
    "ax.set_ylabel(\"$v(x)$\")\n",
    "ax.plot(x, v)\n",
    "plt.show()"
   ]
  },
  {
   "cell_type": "code",
   "execution_count": null,
   "metadata": {
    "collapsed": true
   },
   "outputs": [],
   "source": []
  }
 ],
 "metadata": {
  "kernelspec": {
   "display_name": "Python 3",
   "language": "python",
   "name": "python3"
  },
  "language_info": {
   "codemirror_mode": {
    "name": "ipython",
    "version": 3
   },
   "file_extension": ".py",
   "mimetype": "text/x-python",
   "name": "python",
   "nbconvert_exporter": "python",
   "pygments_lexer": "ipython3",
   "version": "3.6.3"
  }
 },
 "nbformat": 4,
 "nbformat_minor": 2
}
