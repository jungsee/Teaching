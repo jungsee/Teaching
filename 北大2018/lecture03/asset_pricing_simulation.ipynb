{
 "cells": [
  {
   "cell_type": "markdown",
   "metadata": {},
   "source": [
    "## Asset Pricing via Simulation\n",
    "\n",
    "#### John Stachurski"
   ]
  },
  {
   "cell_type": "code",
   "execution_count": 1,
   "metadata": {
    "collapsed": true
   },
   "outputs": [],
   "source": [
    "import numpy as np\n",
    "import matplotlib.pyplot as plt\n",
    "from numba import jit, prange\n",
    "from numpy.random import randn"
   ]
  },
  {
   "cell_type": "markdown",
   "metadata": {},
   "source": [
    "We aim to compute the price dividend ratio\n",
    "\n",
    "$$\n",
    "    V_t = \\mathbb E_t\n",
    "        \\left[\n",
    "            M_{t+1} \\frac{D_{t+1}}{D_t}\n",
    "            (1 + V_{t+1})\n",
    "        \\right]\n",
    "$$\n",
    "\n",
    "given the SDF and dividend process."
   ]
  },
  {
   "cell_type": "markdown",
   "metadata": {},
   "source": [
    "We consider the case of nonstationary dividends and consumption, where\n",
    "\n",
    "$$ \\ln \\frac{D_{t+1}}{D_t} = \\mu_d + X_t + \\sigma_d \\eta_{d, t+1} $$\n",
    "\n",
    "The shock sequence $\\{ \\eta_{d,t} \\}$ is IID and standard normal.  The state process $\\{X_t\\}$ obeys\n",
    "\n",
    "$$ X_{t+1} = \\rho X_t + \\sigma \\xi_{t+1} $$\n",
    "\n",
    "where $\\{ \\xi_t \\}$ is IID and standard normal. \n",
    "\n",
    "Consumption is also nonstationary, obeying\n",
    "\n",
    "$$ \\ln \\frac{C_{t+1}}{C_t} = \\mu_c + X_t + \\sigma_c \\eta_{c, t+1} $$\n",
    "\n",
    "The sequence $\\{ \\eta_{c,t} \\}$ is likewise IID and standard normal.\n",
    "\n",
    "We use the Lucas SDF\n",
    "\n",
    "$$ M_{t+1} = \\beta \\frac{u'(C_{t+1})}{u'(C_t)} $$\n",
    "\n",
    "The utility function is \n",
    "\n",
    "$$ u(c) = \\frac{c^{1-\\gamma}}{1 - \\gamma} $$\n",
    "\n",
    "Hence\n",
    "\n",
    "$$ \n",
    "    M_{t+1} \n",
    "    = \\beta \\left( \\frac{C_{t+1}}{C_t} \\right)^{-\\gamma} \n",
    "    = \\beta \\exp(-\\gamma(  \\mu_c + X_t + \\sigma_c \\eta_{c, t+1} ))\n",
    "$$"
   ]
  },
  {
   "cell_type": "markdown",
   "metadata": {},
   "source": [
    "### Simulation Method"
   ]
  },
  {
   "cell_type": "markdown",
   "metadata": {},
   "source": [
    "For $m$ in 1 to $M$, simulate the observation\n",
    "\n",
    "$$ \\Lambda(x, N, m) := \\sum_{n=1}^N \\prod_{i=1}^n A_i^{(m)} $$\n",
    "\n",
    "where $X_0 = x$ and $m$ indicates observation $m$."
   ]
  },
  {
   "cell_type": "markdown",
   "metadata": {},
   "source": [
    "Compute\n",
    "\n",
    "$$ \\hat v(x, M, n) := \\frac{1}{M} \\sum_{m=1}^M \\Lambda(x, N, m) $$\n",
    "\n",
    "This is an estimate of $v(x)$\n"
   ]
  },
  {
   "cell_type": "code",
   "execution_count": 2,
   "metadata": {
    "collapsed": true
   },
   "outputs": [],
   "source": [
    "@jit(nopython=True)\n",
    "def simulate_forward_sum_ave(x0,\n",
    "                         β=0.96,\n",
    "                         γ=2.0,\n",
    "                         ρ=0.9,\n",
    "                         σ=0.05,\n",
    "                         μ_d=0.01,\n",
    "                         σ_d=0.01,\n",
    "                         μ_c=0.05,\n",
    "                         σ_c=0.01,\n",
    "                         N=1000,\n",
    "                         M=20000):\n",
    "    \n",
    "    Λ_vals = np.empty(M)\n",
    "    \n",
    "    for m in range(M):\n",
    "        \n",
    "        # Generate the path correspoding to m\n",
    "        np.random.seed(m)\n",
    "        A_path = np.empty(N)\n",
    "        x = x0\n",
    "        for t in range(N):\n",
    "            η_c = randn()\n",
    "            η_d = randn()\n",
    "            t1 = -γ * μ_c + μ_d + (1 - γ) * x \n",
    "            t2 = - γ * σ_c * η_c + σ_d * η_d\n",
    "            A_path[t] = β * np.exp(t1 + t2)\n",
    "            x = ρ * x + σ * randn()\n",
    "\n",
    "        # Compute the forward value of that path\n",
    "        A_prod = 1.0\n",
    "        Λ = 0.0\n",
    "        for n in range(N):\n",
    "            A_prod *= A_path[n]\n",
    "            Λ += A_prod\n",
    "    \n",
    "        # Record the result, adding it to the sum\n",
    "        Λ_vals[m] = Λ\n",
    "            \n",
    "    return Λ_vals.mean()\n",
    "        "
   ]
  },
  {
   "cell_type": "code",
   "execution_count": 3,
   "metadata": {
    "collapsed": true
   },
   "outputs": [],
   "source": [
    "@jit(nopython=True, parallel=True)\n",
    "def compute_prices_across_states(x_vals):\n",
    "    n = len(x_vals)\n",
    "    v_vals = np.empty(n)\n",
    "    for i in prange(n):\n",
    "        v_vals[i] = simulate_forward_sum_ave(x_vals[i])\n",
    "    return v_vals"
   ]
  },
  {
   "cell_type": "code",
   "execution_count": 4,
   "metadata": {
    "collapsed": true
   },
   "outputs": [],
   "source": [
    "x_vals = np.linspace(-0.3, 0.3, 20)"
   ]
  },
  {
   "cell_type": "code",
   "execution_count": 5,
   "metadata": {
    "collapsed": true
   },
   "outputs": [],
   "source": [
    "v_vals = compute_prices_across_states(x_vals)"
   ]
  },
  {
   "cell_type": "code",
   "execution_count": 46,
   "metadata": {},
   "outputs": [
    {
     "data": {
      "image/png": "[encoded data removed]",
      "text/plain": [
       "<matplotlib.figure.Figure at 0x7f4bc74869b0>"
      ]
     },
     "metadata": {},
     "output_type": "display_data"
    }
   ],
   "source": [
    "fig, ax = plt.subplots()\n",
    "ax.plot(x_vals, v_vals)\n",
    "ax.set_xlabel(\"$x$\")\n",
    "ax.set_ylabel(\"$v(x)$\")\n",
    "plt.show()"
   ]
  },
  {
   "cell_type": "markdown",
   "metadata": {},
   "source": [
    "The method is slow for this small state space but produces the right figure.\n",
    "\n",
    "With larger state spaces it becomes the best method."
   ]
  },
  {
   "cell_type": "code",
   "execution_count": null,
   "metadata": {
    "collapsed": true
   },
   "outputs": [],
   "source": []
  }
 ],
 "metadata": {
  "kernelspec": {
   "display_name": "Python 3",
   "language": "python",
   "name": "python3"
  },
  "language_info": {
   "codemirror_mode": {
    "name": "ipython",
    "version": 3
   },
   "file_extension": ".py",
   "mimetype": "text/x-python",
   "name": "python",
   "nbconvert_exporter": "python",
   "pygments_lexer": "ipython3",
   "version": "3.6.3"
  }
 },
 "nbformat": 4,
 "nbformat_minor": 2
}
