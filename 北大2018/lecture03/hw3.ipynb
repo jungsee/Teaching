{
 "cells": [
  {
   "cell_type": "markdown",
   "metadata": {},
   "source": [
    "## Homework 3\n",
    "\n",
    "#### John Stachurski\n",
    "\n",
    "Shenzhen Winter Camp 2018"
   ]
  },
  {
   "cell_type": "markdown",
   "metadata": {},
   "source": [
    "### Exercise 1"
   ]
  },
  {
   "cell_type": "markdown",
   "metadata": {},
   "source": [
    "Recall our inventory problem where inventory follows\n",
    "\n",
    "\n",
    "\\begin{equation*}\n",
    "  X_{t+1} = \n",
    "  \\begin{cases}\n",
    "      ( S - D_{t+1})^+ & \\quad \\text{if } X_t \\leq s \\\\\n",
    "      ( X_t - D_{t+1} )^+ &  \\quad \\text{if } X_t > s\n",
    "  \\end{cases}\n",
    "\\end{equation*}\n",
    "\n",
    "The demand sequence is IID and obeys\n",
    "\n",
    "$$ \\mathbb P \\{D_t = d\\} = (1 - p)^d p $$\n",
    "\n",
    "for $d = 0, 1, \\ldots$.  Here $p$ is a parameter in $(0, 1)$."
   ]
  },
  {
   "cell_type": "markdown",
   "metadata": {},
   "source": [
    "Let\n",
    "\n",
    "$$ \n",
    "    h_s(x) = x + (S - x) \\mathbb 1\\{x \\leq s \\}\n",
    "$$\n",
    "\n",
    "denote stock on hand after the restocking decision is made.  Profits are given by\n",
    "\n",
    "$$ \n",
    "    \\pi(X_t, D_{t+1}) \n",
    "    = \\min\\{h_s(X_t), D_{t+1}\\} - c \\mathbb 1\\{X_t \\leq s\\}\n",
    "$$\n",
    "\n",
    "Here $c$ is a fixed cost of restocking.  We are assuming that the marginal cost of stock is zero for simplicity, and that the unit price of output is 1."
   ]
  },
  {
   "cell_type": "markdown",
   "metadata": {},
   "source": [
    "Maximize long run average profits for the firm by choosing $s$ optimally.  You can do this visually, if you like, by plotting profits as a function of $s$.\n",
    "\n",
    "In doing so, assume that $S=20$ and $p=0.5$.\n",
    "\n",
    "Use simulation and the law of large numbers.  Try to optimize the execution speed of your implementation."
   ]
  },
  {
   "cell_type": "code",
   "execution_count": null,
   "metadata": {
    "collapsed": true
   },
   "outputs": [],
   "source": []
  }
 ],
 "metadata": {
  "kernelspec": {
   "display_name": "Python 3",
   "language": "python",
   "name": "python3"
  },
  "language_info": {
   "codemirror_mode": {
    "name": "ipython",
    "version": 3
   },
   "file_extension": ".py",
   "mimetype": "text/x-python",
   "name": "python",
   "nbconvert_exporter": "python",
   "pygments_lexer": "ipython3",
   "version": "3.6.3"
  }
 },
 "nbformat": 4,
 "nbformat_minor": 2
}
