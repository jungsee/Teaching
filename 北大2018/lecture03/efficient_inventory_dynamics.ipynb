{
 "cells": [
  {
   "cell_type": "markdown",
   "metadata": {},
   "source": [
    "## Efficient Simulation in the Inventory Model\n",
    "\n",
    "\n",
    "#### John Stachurski"
   ]
  },
  {
   "cell_type": "markdown",
   "metadata": {},
   "source": [
    "As we saw, simulation can be time consuming, especially if we need to simulate many paths.  And it's often true that large sample sizes are necessary to get an accurate picture.  Let's look at speeding up our simulations using the [Numba](https://numba.pydata.org/) library from Anaconda."
   ]
  },
  {
   "cell_type": "code",
   "execution_count": 1,
   "metadata": {
    "collapsed": true
   },
   "outputs": [],
   "source": [
    "import numpy as np\n",
    "import numba"
   ]
  },
  {
   "cell_type": "markdown",
   "metadata": {},
   "source": [
    "Parameters:"
   ]
  },
  {
   "cell_type": "code",
   "execution_count": 3,
   "metadata": {
    "collapsed": true
   },
   "outputs": [],
   "source": [
    "s, S = 10.0, 100.0\n",
    "p = 0.4"
   ]
  },
  {
   "cell_type": "markdown",
   "metadata": {},
   "source": [
    "### Simulating One Path"
   ]
  },
  {
   "cell_type": "markdown",
   "metadata": {},
   "source": [
    "Let's look at simulating one path without any optimization."
   ]
  },
  {
   "cell_type": "code",
   "execution_count": 4,
   "metadata": {
    "collapsed": true
   },
   "outputs": [],
   "source": [
    "def sim_one_inventory_path_simple(initial_x=50.0, \n",
    "                                  sim_length=10000):\n",
    "        \n",
    "    dvals = np.random.geometric(p, size=sim_length-1) - 1\n",
    "    X = np.empty(sim_length)\n",
    "    X[0] = initial_x\n",
    "    \n",
    "    for t, d in enumerate(dvals):\n",
    "        x = X[t]\n",
    "        if x <= s:\n",
    "            X[t+1] = max(S - d, 0)\n",
    "        else:\n",
    "            X[t+1] = max(x - d, 0)\n",
    "            \n",
    "    return X"
   ]
  },
  {
   "cell_type": "markdown",
   "metadata": {},
   "source": [
    "How fast does this run?"
   ]
  },
  {
   "cell_type": "code",
   "execution_count": 5,
   "metadata": {},
   "outputs": [
    {
     "name": "stdout",
     "output_type": "stream",
     "text": [
      "672 ms ± 5.46 ms per loop (mean ± std. dev. of 7 runs, 1 loop each)\n"
     ]
    }
   ],
   "source": [
    "timeit X = sim_one_inventory_path_simple(sim_length=1000000)"
   ]
  },
  {
   "cell_type": "markdown",
   "metadata": {},
   "source": [
    "Now let's build a jitted version."
   ]
  },
  {
   "cell_type": "code",
   "execution_count": 6,
   "metadata": {
    "collapsed": true
   },
   "outputs": [],
   "source": [
    "@numba.jit(nopython=True)\n",
    "def sim_one_inventory_path_jitted(initial_x=50.0, sim_length=10000):\n",
    "    \n",
    "    dvals = np.random.geometric(p, size=sim_length-1) - 1\n",
    "    X = np.empty(sim_length, dtype=np.int32)\n",
    "    X[0] = initial_x\n",
    "    \n",
    "    for t, d in enumerate(dvals):\n",
    "        x = X[t]\n",
    "        if x <= s:\n",
    "            X[t+1] = max(S - d, 0)\n",
    "        else:\n",
    "            X[t+1] = max(x - d, 0)\n",
    "            \n",
    "    return X"
   ]
  },
  {
   "cell_type": "markdown",
   "metadata": {},
   "source": [
    "This is **much** faster:"
   ]
  },
  {
   "cell_type": "code",
   "execution_count": 7,
   "metadata": {
    "scrolled": true
   },
   "outputs": [
    {
     "name": "stdout",
     "output_type": "stream",
     "text": [
      "43.2 ms ± 127 µs per loop (mean ± std. dev. of 7 runs, 1 loop each)\n"
     ]
    }
   ],
   "source": [
    "timeit X = sim_one_inventory_path_jitted(sim_length=1000000)"
   ]
  },
  {
   "cell_type": "markdown",
   "metadata": {},
   "source": [
    "### Simulating Many Paths"
   ]
  },
  {
   "cell_type": "markdown",
   "metadata": {},
   "source": [
    "Here's a jitted (and hence fast) piece of code for simulating many paths."
   ]
  },
  {
   "cell_type": "code",
   "execution_count": 9,
   "metadata": {
    "collapsed": true
   },
   "outputs": [],
   "source": [
    "@numba.jit(nopython=True)\n",
    "def sim_paths_jitted(initial_x=50.0, \n",
    "                     num_paths=50000,\n",
    "                     sim_length=400):\n",
    "    \n",
    "    X = np.empty((num_paths, sim_length), dtype=np.int32)\n",
    "    X[:, 0] = initial_x\n",
    "    \n",
    "    for t in range(sim_length-1):\n",
    "        dvals = np.random.geometric(p, size=num_paths) - 1\n",
    "        for m in range(num_paths):\n",
    "            x, d = X[m, t], dvals[m]\n",
    "            if x <= s:\n",
    "                y = max(S - d, 0)\n",
    "            else:\n",
    "                y = max(x - d, 0)\n",
    "            X[m, t+1] = y\n",
    "    return X\n"
   ]
  },
  {
   "cell_type": "markdown",
   "metadata": {},
   "source": [
    "Let's check it's doing what we think it should."
   ]
  },
  {
   "cell_type": "code",
   "execution_count": 10,
   "metadata": {
    "collapsed": true
   },
   "outputs": [],
   "source": [
    "X = sim_paths_jitted(num_paths=6, sim_length=4)"
   ]
  },
  {
   "cell_type": "code",
   "execution_count": 11,
   "metadata": {},
   "outputs": [
    {
     "data": {
      "text/plain": [
       "array([[50, 45, 43, 40],\n",
       "       [50, 49, 48, 48],\n",
       "       [50, 48, 47, 46],\n",
       "       [50, 47, 47, 46],\n",
       "       [50, 46, 46, 41],\n",
       "       [50, 49, 49, 46]], dtype=int32)"
      ]
     },
     "execution_count": 11,
     "metadata": {},
     "output_type": "execute_result"
    }
   ],
   "source": [
    "X"
   ]
  },
  {
   "cell_type": "markdown",
   "metadata": {},
   "source": [
    "Now let's get a reading on the time."
   ]
  },
  {
   "cell_type": "code",
   "execution_count": 13,
   "metadata": {},
   "outputs": [
    {
     "name": "stdout",
     "output_type": "stream",
     "text": [
      "1.29 s ± 25.2 ms per loop (mean ± std. dev. of 7 runs, 1 loop each)\n"
     ]
    }
   ],
   "source": [
    "timeit X = sim_paths_jitted()"
   ]
  },
  {
   "cell_type": "markdown",
   "metadata": {},
   "source": [
    "We can do something similar using Numba's `@vectorize` decorator."
   ]
  },
  {
   "cell_type": "code",
   "execution_count": 14,
   "metadata": {
    "collapsed": true
   },
   "outputs": [],
   "source": [
    "@numba.vectorize\n",
    "def G_vectorized(x, d):\n",
    "    if x <= s:\n",
    "        y = max(S - d, 0)\n",
    "    else:\n",
    "        y = max(x - d, 0)\n",
    "    return y\n"
   ]
  },
  {
   "cell_type": "code",
   "execution_count": 18,
   "metadata": {
    "collapsed": true
   },
   "outputs": [],
   "source": [
    "def sim_paths_vectorized(initial_x=50.0, \n",
    "                              num_paths=50000,\n",
    "                              sim_length=400):\n",
    "    \n",
    "    X = np.empty((num_paths, sim_length), dtype=np.int32)\n",
    "    X[:, 0] = initial_x\n",
    "\n",
    "    for t in range(sim_length-1):\n",
    "        dvals = np.random.geometric(p, size=num_paths) - 1\n",
    "        X[:, t+1] = G_vectorized(X[:, t], dvals)\n",
    "    return X"
   ]
  },
  {
   "cell_type": "code",
   "execution_count": 19,
   "metadata": {
    "collapsed": true
   },
   "outputs": [],
   "source": [
    "X = sim_paths_vectorized(num_paths=6, sim_length=4)"
   ]
  },
  {
   "cell_type": "code",
   "execution_count": 20,
   "metadata": {},
   "outputs": [
    {
     "data": {
      "text/plain": [
       "array([[50, 45, 44, 39],\n",
       "       [50, 50, 49, 49],\n",
       "       [50, 50, 49, 48],\n",
       "       [50, 47, 46, 45],\n",
       "       [50, 50, 47, 45],\n",
       "       [50, 49, 48, 46]], dtype=int32)"
      ]
     },
     "execution_count": 20,
     "metadata": {},
     "output_type": "execute_result"
    }
   ],
   "source": [
    "X"
   ]
  },
  {
   "cell_type": "markdown",
   "metadata": {},
   "source": [
    "Here's the timing, which is similar to the jitted version."
   ]
  },
  {
   "cell_type": "code",
   "execution_count": 21,
   "metadata": {},
   "outputs": [
    {
     "name": "stdout",
     "output_type": "stream",
     "text": [
      "1.1 s ± 12.4 ms per loop (mean ± std. dev. of 7 runs, 1 loop each)\n"
     ]
    }
   ],
   "source": [
    "timeit X = sim_paths_vectorized()"
   ]
  },
  {
   "cell_type": "markdown",
   "metadata": {},
   "source": [
    "We can also target the vectorized function for parallel execution."
   ]
  },
  {
   "cell_type": "code",
   "execution_count": 24,
   "metadata": {
    "collapsed": true
   },
   "outputs": [],
   "source": [
    "@numba.vectorize('float64(float64, float64)', target='parallel')\n",
    "def G_vectorized_parallel(x, d):\n",
    "    if x <= s:\n",
    "        y = max(S - d, 0)\n",
    "    else:\n",
    "        y = max(x - d, 0)\n",
    "    return y"
   ]
  },
  {
   "cell_type": "code",
   "execution_count": 25,
   "metadata": {
    "collapsed": true
   },
   "outputs": [],
   "source": [
    "def sim_paths_vectorized_parallel(initial_x=50.0, \n",
    "                                      num_paths=50000,\n",
    "                                      sim_length=400):\n",
    "    \n",
    "    X = np.empty((num_paths, sim_length), dtype=np.int32)\n",
    "    X[:, 0] = initial_x\n",
    "    \n",
    "    for t in range(sim_length-1):\n",
    "        dvals = np.random.geometric(p, size=num_paths) - 1\n",
    "        X[:, t+1] = G_vectorized_parallel(X[:, t], dvals)\n",
    "    return X"
   ]
  },
  {
   "cell_type": "code",
   "execution_count": 26,
   "metadata": {},
   "outputs": [],
   "source": [
    "X = sim_paths_vectorized_parallel(num_paths=6, sim_length=4)"
   ]
  },
  {
   "cell_type": "code",
   "execution_count": 27,
   "metadata": {},
   "outputs": [
    {
     "data": {
      "text/plain": [
       "array([[50, 47, 44, 43],\n",
       "       [50, 50, 44, 44],\n",
       "       [50, 49, 49, 49],\n",
       "       [50, 50, 48, 48],\n",
       "       [50, 50, 49, 49],\n",
       "       [50, 50, 49, 46]], dtype=int32)"
      ]
     },
     "execution_count": 27,
     "metadata": {},
     "output_type": "execute_result"
    }
   ],
   "source": [
    "X"
   ]
  },
  {
   "cell_type": "markdown",
   "metadata": {},
   "source": [
    "The timing is not much improved because the individual tasks are relatively small, and hence multiple threads are not efficiently exploited."
   ]
  },
  {
   "cell_type": "code",
   "execution_count": 28,
   "metadata": {},
   "outputs": [
    {
     "name": "stdout",
     "output_type": "stream",
     "text": [
      "1.12 s ± 5.72 ms per loop (mean ± std. dev. of 7 runs, 1 loop each)\n"
     ]
    }
   ],
   "source": [
    "timeit X = sim_paths_vectorized_parallel()"
   ]
  },
  {
   "cell_type": "markdown",
   "metadata": {},
   "source": [
    "Let's try for more efficient parallelization, where the work is divided into a smaller number of chunks."
   ]
  },
  {
   "cell_type": "code",
   "execution_count": 29,
   "metadata": {
    "collapsed": true
   },
   "outputs": [],
   "source": [
    "@numba.jit(nopython=True, parallel=True)\n",
    "def sim_paths_jitted_parallel(num_paths=50000, \n",
    "                              sim_length=400,\n",
    "                              sections=500):\n",
    "    \n",
    "    X = np.empty((num_paths, sim_length), dtype=np.int32)\n",
    "\n",
    "    section_size = num_paths // sections\n",
    "    \n",
    "    for i in numba.prange(sections):\n",
    "        j = i * section_size\n",
    "        X[j:j+section_size, :] = sim_paths_jitted(num_paths=section_size, \n",
    "                                                sim_length=sim_length)\n",
    "    return X"
   ]
  },
  {
   "cell_type": "code",
   "execution_count": 30,
   "metadata": {
    "collapsed": true
   },
   "outputs": [],
   "source": [
    "X = sim_paths_jitted_parallel(num_paths=8, \n",
    "                              sim_length=10, \n",
    "                              sections=2)"
   ]
  },
  {
   "cell_type": "code",
   "execution_count": 31,
   "metadata": {},
   "outputs": [
    {
     "data": {
      "text/plain": [
       "array([[50, 50, 48, 45, 45, 44, 42, 41, 38, 37],\n",
       "       [50, 48, 48, 48, 45, 43, 42, 42, 41, 41],\n",
       "       [50, 50, 46, 46, 46, 43, 42, 42, 41, 30],\n",
       "       [50, 47, 46, 44, 44, 44, 44, 42, 42, 42],\n",
       "       [50, 50, 50, 49, 48, 45, 40, 38, 36, 36],\n",
       "       [50, 50, 47, 47, 47, 47, 46, 46, 43, 40],\n",
       "       [50, 49, 49, 49, 47, 46, 42, 40, 40, 39],\n",
       "       [50, 50, 50, 46, 46, 46, 45, 43, 42, 42]], dtype=int32)"
      ]
     },
     "execution_count": 31,
     "metadata": {},
     "output_type": "execute_result"
    }
   ],
   "source": [
    "X"
   ]
  },
  {
   "cell_type": "markdown",
   "metadata": {},
   "source": [
    "Now the speed up from parallelization is significant."
   ]
  },
  {
   "cell_type": "code",
   "execution_count": 34,
   "metadata": {},
   "outputs": [
    {
     "name": "stdout",
     "output_type": "stream",
     "text": [
      "238 ms ± 4.92 ms per loop (mean ± std. dev. of 7 runs, 1 loop each)\n"
     ]
    }
   ],
   "source": [
    "timeit X = sim_paths_jitted_parallel()"
   ]
  },
  {
   "cell_type": "code",
   "execution_count": null,
   "metadata": {
    "collapsed": true
   },
   "outputs": [],
   "source": []
  }
 ],
 "metadata": {
  "kernelspec": {
   "display_name": "Python 3",
   "language": "python",
   "name": "python3"
  },
  "language_info": {
   "codemirror_mode": {
    "name": "ipython",
    "version": 3
   },
   "file_extension": ".py",
   "mimetype": "text/x-python",
   "name": "python",
   "nbconvert_exporter": "python",
   "pygments_lexer": "ipython3",
   "version": "3.6.3"
  }
 },
 "nbformat": 4,
 "nbformat_minor": 2
}
