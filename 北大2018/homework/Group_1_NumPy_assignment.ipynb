{
 "cells": [
  {
   "cell_type": "markdown",
   "metadata": {},
   "source": [
    "# NumPy\n",
    "\n",
    "## Group 1 member: Yun LI, Yi LIANG, Hemin HE, Xiaoyi HAO, Yang LI, Yuwen CHE"
   ]
  },
  {
   "cell_type": "markdown",
   "metadata": {},
   "source": [
    "### 1."
   ]
  },
  {
   "cell_type": "code",
   "execution_count": 36,
   "metadata": {},
   "outputs": [
    {
     "name": "stdout",
     "output_type": "stream",
     "text": [
      "586.0\n"
     ]
    }
   ],
   "source": [
    "import numpy as np\n",
    "\n",
    "def p(x, coeff): # x is a point and coeff is a list of coefficients\n",
    "    if x == 0:\n",
    "        print(coeff[1])\n",
    "    else:\n",
    "        x_vectorized = np.linspace(x, x, len(coeff))\n",
    "        x_comprod = x_vectorized.cumprod()/x\n",
    "        p = x_comprod@coeff\n",
    "        print(p)\n",
    "        \n",
    "p(5,[1,2,3,4]) # Test"
   ]
  },
  {
   "cell_type": "markdown",
   "metadata": {},
   "source": [
    "### 2."
   ]
  },
  {
   "cell_type": "code",
   "execution_count": 83,
   "metadata": {},
   "outputs": [
    {
     "name": "stdout",
     "output_type": "stream",
     "text": [
      "CPU times: user 10 µs, sys: 1e+03 ns, total: 11 µs\n",
      "Wall time: 13.1 µs\n"
     ]
    },
    {
     "data": {
      "text/plain": [
       "0"
      ]
     },
     "execution_count": 83,
     "metadata": {},
     "output_type": "execute_result"
    }
   ],
   "source": [
    "from random import uniform  # Sample algorithm from the question \n",
    "\n",
    "def sample(q):\n",
    "    a = 0.0\n",
    "    U = uniform(0, 1) # Generate a random variable from U(0,1)\n",
    "    for i in range(len(q)):\n",
    "        if a < U <= a + q[i]:\n",
    "            return i\n",
    "        a = a + q[i]  \n",
    "        \n",
    "%time sample([0.8,0.2,0.05,0.05]) # Test"
   ]
  },
  {
   "cell_type": "code",
   "execution_count": 82,
   "metadata": {},
   "outputs": [
    {
     "name": "stdout",
     "output_type": "stream",
     "text": [
      "0\n",
      "CPU times: user 327 µs, sys: 200 µs, total: 527 µs\n",
      "Wall time: 385 µs\n"
     ]
    }
   ],
   "source": [
    "import numpy as np\n",
    "from random import uniform\n",
    "\n",
    "def sample(q):  # The simplest sample function\n",
    "    U = uniform(0,1)\n",
    "    qv = np.array(q)\n",
    "    q_cumsum = qv.cumsum()\n",
    "    x = q_cumsum.searchsorted(U) # x is the position of U in q_cumsum\n",
    "    print(x)\n",
    "    \n",
    "sample([0.8,0.2,0.05,0.05]) # Test"
   ]
  },
  {
   "cell_type": "code",
   "execution_count": 81,
   "metadata": {},
   "outputs": [
    {
     "name": "stdout",
     "output_type": "stream",
     "text": [
      "[2, 1, 3, 0, 0, 2, 2, 1, 2, 1, 3, 1, 2, 0, 1, 1, 3, 2, 1, 3, 3, 1, 2, 0, 3, 2, 3, 1, 3, 3, 3, 0, 0, 1, 0, 3, 1, 2, 2, 2, 2, 1, 0, 1, 0, 3, 3, 3, 3, 1, 2, 1, 2, 1, 0, 3, 0, 2, 0, 0, 0, 1, 1, 2, 2, 1, 3, 2, 1, 1, 1, 3, 1, 1, 3, 3, 3, 0, 2, 0, 3, 1, 0, 0, 3, 0, 0, 1, 1, 3, 3, 1, 3, 3, 1, 3, 1, 1, 3, 1]\n"
     ]
    }
   ],
   "source": [
    "import numpy as np\n",
    "from random import uniform\n",
    "\n",
    "def draw(q,k):  # draw function with two arguements\n",
    "    qv = np.array(q)\n",
    "    q_cumsum = qv.cumsum()\n",
    "    x_list = []\n",
    "    for i in range(k):\n",
    "        U = uniform(0,1)\n",
    "        x = q_cumsum.searchsorted(U) # x is the position of U in q_cumsum\n",
    "        x_list.append(x)\n",
    "    print(x_list)\n",
    "    \n",
    "draw([0.25,0.25,0.25,0.25],100) # Test"
   ]
  },
  {
   "cell_type": "markdown",
   "metadata": {},
   "source": [
    "### 3."
   ]
  },
  {
   "cell_type": "code",
   "execution_count": 187,
   "metadata": {},
   "outputs": [
    {
     "name": "stdout",
     "output_type": "stream",
     "text": [
      "0.5\n"
     ]
    }
   ],
   "source": [
    "from random import uniform\n",
    "\n",
    "samples = [uniform(0, 1) for i in range(10)]\n",
    "\n",
    "def F(x): # F is defined based on samples, the original function\n",
    "    F = 0\n",
    "    for i in range(len(samples)):\n",
    "        if x > samples[i] :\n",
    "            F = F + 1\n",
    "        else:\n",
    "            F = F\n",
    "    print(F/len(samples))            \n",
    "    \n",
    "\n",
    "F(0.5)  # Evaluate ecdf at x = 0.5"
   ]
  },
  {
   "cell_type": "code",
   "execution_count": 8,
   "metadata": {},
   "outputs": [
    {
     "name": "stdout",
     "output_type": "stream",
     "text": [
      "0.5\n"
     ]
    }
   ],
   "source": [
    "from random import uniform\n",
    "import numpy as np\n",
    "\n",
    "samples = [uniform(0, 1) for i in range(10)] \n",
    "\n",
    "def F(x): # The first function\n",
    "    vs = np.array(samples)\n",
    "    F = vs.searchsorted(x)/len(samples)\n",
    "    print(F)\n",
    "    \n",
    "F(0.5) "
   ]
  },
  {
   "cell_type": "code",
   "execution_count": 24,
   "metadata": {},
   "outputs": [
    {
     "name": "stdout",
     "output_type": "stream",
     "text": [
      "0.5\n"
     ]
    }
   ],
   "source": [
    "from random import uniform\n",
    "import numpy as np\n",
    "\n",
    "samples = [uniform(0, 1) for i in range(10)] \n",
    "\n",
    "def F(a,b): # The second function with [a,b]\n",
    "    vs = np.array(samples)\n",
    "    a1 = vs.searchsorted(a)\n",
    "    b1 = vs.searchsorted(b)\n",
    "    F = (b1 - a1)/(len(samples))\n",
    "    print(F)\n",
    "\n",
    "F(0.1,0.5)"
   ]
  },
  {
   "cell_type": "markdown",
   "metadata": {},
   "source": [
    "### 4."
   ]
  },
  {
   "cell_type": "code",
   "execution_count": 97,
   "metadata": {},
   "outputs": [
    {
     "name": "stdout",
     "output_type": "stream",
     "text": [
      "2.0\n",
      "CPU times: user 350 µs, sys: 205 µs, total: 555 µs\n",
      "Wall time: 390 µs\n"
     ]
    }
   ],
   "source": [
    "import numpy as np\n",
    "\n",
    "def variance(A): # a is a list\n",
    "    a = np.array(A)\n",
    "    a_mean = sum(a)/len(a)\n",
    "    a_sod = (a - a_mean)**2\n",
    "    a_var = sum(a_sod)/len(a)\n",
    "    print(a_var)\n",
    "\n",
    "%time variance([1,2,3,4,5]) # Test"
   ]
  },
  {
   "cell_type": "code",
   "execution_count": 98,
   "metadata": {},
   "outputs": [
    {
     "name": "stdout",
     "output_type": "stream",
     "text": [
      "CPU times: user 94 µs, sys: 11 µs, total: 105 µs\n",
      "Wall time: 98 µs\n"
     ]
    },
    {
     "data": {
      "text/plain": [
       "2.0"
      ]
     },
     "execution_count": 98,
     "metadata": {},
     "output_type": "execute_result"
    }
   ],
   "source": [
    "a = [1,2,3,4,5]\n",
    "a = np.array(A)\n",
    "\n",
    "%time a.var()"
   ]
  },
  {
   "cell_type": "markdown",
   "metadata": {},
   "source": [
    "### 5."
   ]
  },
  {
   "cell_type": "code",
   "execution_count": 31,
   "metadata": {},
   "outputs": [
    {
     "name": "stdout",
     "output_type": "stream",
     "text": [
      "[[ True  True]\n",
      " [ True  True]]\n",
      "[[ True  True]\n",
      " [ True  True]]\n"
     ]
    }
   ],
   "source": [
    "import numpy as np\n",
    "\n",
    "U = []\n",
    "for i in range(12):\n",
    "    e = np.random.randn()\n",
    "    U.append(e)\n",
    "A = np.array([U[0:4]])\n",
    "A.shape = (2, 2)\n",
    "B = np.array([U[4:8]])\n",
    "B.shape = (2, 2)\n",
    "C = np.array([U[8:12]])\n",
    "C.shape = (2, 2)\n",
    "\n",
    "print(abs((A@B)@C-A@(B@C)) < 0.01) #1\n",
    "print(abs((A@B).T-(B.T)@(A.T)) < 0.01) #2\n"
   ]
  },
  {
   "cell_type": "markdown",
   "metadata": {},
   "source": [
    "### 6."
   ]
  },
  {
   "cell_type": "code",
   "execution_count": 32,
   "metadata": {
    "collapsed": true
   },
   "outputs": [],
   "source": [
    "a = np.random.uniform(0,1,(3,3))\n",
    "\n",
    "b = np.asarray(a) # The dependent copy of a # 1\n",
    "c = np.array(a) # The independent copy of a\n",
    "\n",
    "d = a # The dependent copy of a # 2\n",
    "e = np.empty_like(a) # The independent copy of a \n",
    "np.copyto(e, a)\n",
    "\n",
    "# The difference is that any changes to b affects a, while changes to c keeps a intact."
   ]
  },
  {
   "cell_type": "markdown",
   "metadata": {},
   "source": [
    "### 7."
   ]
  },
  {
   "cell_type": "code",
   "execution_count": 19,
   "metadata": {},
   "outputs": [
    {
     "data": {
      "image/png": "[encoded data removed]",
      "text/plain": [
       "<matplotlib.figure.Figure at 0x113097278>"
      ]
     },
     "metadata": {},
     "output_type": "display_data"
    }
   ],
   "source": [
    "import numpy as np\n",
    "import math\n",
    "import matplotlib.pyplot as plt\n",
    "\n",
    "a = np.linspace(100, 1, 100)\n",
    "pi = math.pi\n",
    "b = np.linspace(pi, pi, 100)\n",
    "c = b/a\n",
    "sin_sq = np.sin(c)**2\n",
    "cos_sq = np.cos(c)**2\n",
    "\n",
    "print(sin_sq)\n",
    "print(cos_sq)\n",
    "\n",
    "plt.plot(sin_sq, 'b-')\n",
    "plt.plot(cos_sq, 'r-')\n",
    "plt.show()\n"
   ]
  },
  {
   "cell_type": "markdown",
   "metadata": {},
   "source": [
    "### 8."
   ]
  },
  {
   "cell_type": "code",
   "execution_count": 54,
   "metadata": {},
   "outputs": [
    {
     "data": {
      "text/plain": [
       "True"
      ]
     },
     "execution_count": 54,
     "metadata": {},
     "output_type": "execute_result"
    }
   ],
   "source": [
    "import numpy as np\n",
    "A = np.array([1,2,3,4,5,6,7,8,9,10])\n",
    "def f(a):\n",
    "    x = a%5 \n",
    "    if x.all():\n",
    "        return False\n",
    "    else:\n",
    "        return True\n",
    "\n",
    "f(A)"
   ]
  }
 ],
 "metadata": {
  "kernelspec": {
   "display_name": "Python 3",
   "language": "python",
   "name": "python3"
  },
  "language_info": {
   "codemirror_mode": {
    "name": "ipython",
    "version": 3
   },
   "file_extension": ".py",
   "mimetype": "text/x-python",
   "name": "python",
   "nbconvert_exporter": "python",
   "pygments_lexer": "ipython3",
   "version": "3.6.3"
  }
 },
 "nbformat": 4,
 "nbformat_minor": 2
}
