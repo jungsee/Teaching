{
 "cells": [
  {
   "cell_type": "markdown",
   "metadata": {},
   "source": [
    "## Homework from Team 2 (John)"
   ]
  },
  {
   "cell_type": "markdown",
   "metadata": {},
   "source": [
    "** Authors: Liling HUANG, Zhangjie LV, Kaisheng LIAN, Yuhong ZHU, Shurui LIU **"
   ]
  },
  {
   "cell_type": "markdown",
   "metadata": {},
   "source": [
    "** Date: 2018 / 01/ 29 **"
   ]
  },
  {
   "cell_type": "code",
   "execution_count": null,
   "metadata": {
    "collapsed": true
   },
   "outputs": [],
   "source": [
    "import pandas as pd\n",
    "import numpy as np\n",
    "import matplotlib.pyplot as plt\n",
    "from scipy import linal"
   ]
  },
  {
   "cell_type": "markdown",
   "metadata": {},
   "source": [
    "* Solution 1"
   ]
  },
  {
   "cell_type": "code",
   "execution_count": 372,
   "metadata": {},
   "outputs": [
    {
     "name": "stdout",
     "output_type": "stream",
     "text": [
      "1.00442776945\n",
      "Wall time: 1.51 ms\n"
     ]
    },
    {
     "data": {
      "text/plain": [
       "1.4994401860590756e-05"
      ]
     },
     "execution_count": 372,
     "metadata": {},
     "output_type": "execute_result"
    }
   ],
   "source": [
    "### Calculating the evalues and evectors \n",
    "import numpy as np\n",
    "import scipy as sci\n",
    "A= np.loadtxt('matrix_data.txt') \n",
    "a,b=np.linalg.eig(A)\n",
    "print(a.max())\n",
    "\n",
    "### Calculating the gap.\n",
    "v=np.ones(10).reshape(10,1)\n",
    "i=80058\n",
    "B=np.matrix(A)\n",
    "%time (np.linalg.norm(B**i*v))**(1/i)-a.max()"
   ]
  },
  {
   "cell_type": "markdown",
   "metadata": {},
   "source": [
    "* Solution 2"
   ]
  },
  {
   "cell_type": "code",
   "execution_count": 341,
   "metadata": {},
   "outputs": [],
   "source": [
    "import numpy as np\n",
    "import scipy.linalg as la\n",
    "A = pd.read_csv('matrix_data.txt',header=None,sep=' ')\n",
    "A_array = A.values\n",
    "eigen_A = la.eigvals(A)\n",
    "rA = np.abs(eigen_A).max()\n",
    "##by the way, here we would like to show some other ideas to prove LSR, \n",
    "##and we will also expand on why the second one can prove this LSR theorem\n",
    "def la_check_LSR(matrix, initial_v , i = 100):\n",
    "    #first of all, get all eigen_val and eigen_vec \n",
    "    mixed_eig = la.eig(A_array)\n",
    "    eigen_val = mixed_eig[0]\n",
    "    eigen_vec = mixed_eig[1]\n",
    "    #second, input v with all elements positive, and decomp v into linear combination of eigen_vectors, i.e. solve linear equations\n",
    "    decomp_v2base = la.solve(eigen_vec,initial_v) ##array of coefficients \n",
    "    ##since all eigen_vector are linear indepedent, all required v can be generated\n",
    "    Ai_v = np.zeros(10)\n",
    "    for j in range(10):\n",
    "        Ai_v = Ai_v + decomp_v2base[j]*(eigen_val[j]**i)*eigen_vec[j] #Here we exploit the property of eigen value\n",
    "        \n",
    "    result =  np.power(Ai_v.T @ Ai_v,1/i) - rA \n",
    "    \n",
    "    return result"
   ]
  },
  {
   "cell_type": "code",
   "execution_count": 355,
   "metadata": {},
   "outputs": [
    {
     "name": "stdout",
     "output_type": "stream",
     "text": [
      "Wall time: 2.01 ms\n"
     ]
    },
    {
     "data": {
      "text/plain": [
       "(0.0044732167031698022+0j)"
      ]
     },
     "execution_count": 355,
     "metadata": {},
     "output_type": "execute_result"
    }
   ],
   "source": [
    "%time la_check_LSR(A_array,v,80000)"
   ]
  },
  {
   "cell_type": "markdown",
   "metadata": {},
   "source": [
    "** Exercise 2 **"
   ]
  },
  {
   "cell_type": "code",
   "execution_count": 369,
   "metadata": {},
   "outputs": [],
   "source": [
    "import numpy as np\n",
    "import matplotlib.pyplot as plt\n",
    "import pandas as pd\n",
    "\n",
    "class Timeseries:\n",
    "    def __init__(self, x0, α =4, n = 1000 ,k = 100):\n",
    "        self.x0 , self.α, self.n, self.k = x0, α, n, k\n",
    "    \n",
    "    def compute_timeseries(self):\n",
    "        self.xx = [x0]\n",
    "        x = self.x0\n",
    "        for j in range(self.n - 1):\n",
    "            x = self.α * x * (np.ones(self.k) - x)\n",
    "            self.xx.append(x) \n",
    "        return self.xx\n",
    "    \n",
    "    def plot(self):\n",
    "        self.xx = pd.DataFrame(self.xx)\n",
    "        fig =plt.figure()\n",
    "        for i in range(self.k):\n",
    "            x_values = self.xx[i].values\n",
    "            ax = fig.add_subplot(10,10, i + 1 )\n",
    "            ax.hist(x_values)\n",
    "            \n",
    "        plt.show()\n",
    " "
   ]
  },
  {
   "cell_type": "code",
   "execution_count": 371,
   "metadata": {},
   "outputs": [
    {
     "data": {
      "image/png": "[encoded data removed]",
      "text/plain": [
       "<matplotlib.figure.Figure at 0x144ac329fd0>"
      ]
     },
     "metadata": {},
     "output_type": "display_data"
    },
    {
     "name": "stdout",
     "output_type": "stream",
     "text": [
      "Wall time: 10 s\n"
     ]
    }
   ],
   "source": [
    "%%time\n",
    "x0 = np.random.uniform(0,1,100)\n",
    "ts = Timeseries(x0)\n",
    "pp = pd.DataFrame(ts.compute_timeseries())\n",
    "ts.plot()"
   ]
  },
  {
   "cell_type": "markdown",
   "metadata": {},
   "source": [
    "We observe that this solution is the fatest one.  And they all look alike."
   ]
  },
  {
   "cell_type": "code",
   "execution_count": null,
   "metadata": {
    "collapsed": true
   },
   "outputs": [],
   "source": []
  }
 ],
 "metadata": {
  "kernelspec": {
   "display_name": "Python 3",
   "language": "python",
   "name": "python3"
  },
  "language_info": {
   "codemirror_mode": {
    "name": "ipython",
    "version": 3
   },
   "file_extension": ".py",
   "mimetype": "text/x-python",
   "name": "python",
   "nbconvert_exporter": "python",
   "pygments_lexer": "ipython3",
   "version": "3.6.3"
  }
 },
 "nbformat": 4,
 "nbformat_minor": 2
}
