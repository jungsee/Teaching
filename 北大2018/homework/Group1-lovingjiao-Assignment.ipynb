{
 "cells": [
  {
   "cell_type": "markdown",
   "metadata": {},
   "source": [
    "## Group1 Homwork - Feb 2\n",
    "\n",
    "#### Yun LI, Hemin HE, Yi LIANG, Xiaoyi HAO, Yang LI, Yuwen CHE"
   ]
  },
  {
   "cell_type": "markdown",
   "metadata": {},
   "source": [
    "### Exercise I"
   ]
  },
  {
   "cell_type": "code",
   "execution_count": 1,
   "metadata": {},
   "outputs": [
    {
     "name": "stderr",
     "output_type": "stream",
     "text": [
      "D:\\anaconda\\lib\\site-packages\\statsmodels\\compat\\pandas.py:56: FutureWarning: The pandas.core.datetools module is deprecated and will be removed in a future version. Please use the pandas.tseries module instead.\n",
      "  from pandas.core import datetools\n"
     ]
    }
   ],
   "source": [
    "import pandas as pd\n",
    "import numpy as np\n",
    "import matplotlib.pyplot as plt\n",
    "import statsmodels.api as sm"
   ]
  },
  {
   "cell_type": "code",
   "execution_count": 2,
   "metadata": {},
   "outputs": [
    {
     "data": {
      "text/html": [
       "<div>\n",
       "<style>\n",
       "    .dataframe thead tr:only-child th {\n",
       "        text-align: right;\n",
       "    }\n",
       "\n",
       "    .dataframe thead th {\n",
       "        text-align: left;\n",
       "    }\n",
       "\n",
       "    .dataframe tbody tr th {\n",
       "        vertical-align: top;\n",
       "    }\n",
       "</style>\n",
       "<table border=\"1\" class=\"dataframe\">\n",
       "  <thead>\n",
       "    <tr style=\"text-align: right;\">\n",
       "      <th></th>\n",
       "      <th>Date</th>\n",
       "      <th>CNYUSD</th>\n",
       "      <th>RMB_REER</th>\n",
       "      <th>CHN PMI</th>\n",
       "      <th>USA PMI</th>\n",
       "      <th>CHN M1</th>\n",
       "      <th>USA M1</th>\n",
       "      <th>CHN M2</th>\n",
       "      <th>USA M2</th>\n",
       "      <th>CHN CPI inflation</th>\n",
       "      <th>USA CPI inflation</th>\n",
       "      <th>CHN_IBR</th>\n",
       "      <th>US_FFR</th>\n",
       "    </tr>\n",
       "  </thead>\n",
       "  <tbody>\n",
       "    <tr>\n",
       "      <th>0</th>\n",
       "      <td>2005-07</td>\n",
       "      <td>8.1062</td>\n",
       "      <td>85.01</td>\n",
       "      <td>51.1</td>\n",
       "      <td>52.8</td>\n",
       "      <td>97,700.00</td>\n",
       "      <td>1,365.00</td>\n",
       "      <td>277,000.00</td>\n",
       "      <td>6,498.40</td>\n",
       "      <td>1.8</td>\n",
       "      <td>3.2</td>\n",
       "      <td>1.1395</td>\n",
       "      <td>3.36</td>\n",
       "    </tr>\n",
       "    <tr>\n",
       "      <th>1</th>\n",
       "      <td>2005-08</td>\n",
       "      <td>8.0998</td>\n",
       "      <td>85.05</td>\n",
       "      <td>52.6</td>\n",
       "      <td>52.4</td>\n",
       "      <td>99,400.00</td>\n",
       "      <td>1,376.50</td>\n",
       "      <td>281,300.00</td>\n",
       "      <td>6,522.50</td>\n",
       "      <td>1.3</td>\n",
       "      <td>3.6</td>\n",
       "      <td>1.1774</td>\n",
       "      <td>3.30</td>\n",
       "    </tr>\n",
       "    <tr>\n",
       "      <th>2</th>\n",
       "      <td>2005-09</td>\n",
       "      <td>8.0920</td>\n",
       "      <td>85.29</td>\n",
       "      <td>55.1</td>\n",
       "      <td>56.8</td>\n",
       "      <td>101,000.00</td>\n",
       "      <td>1,363.10</td>\n",
       "      <td>287,000.00</td>\n",
       "      <td>6,555.00</td>\n",
       "      <td>0.9</td>\n",
       "      <td>4.7</td>\n",
       "      <td>1.1675</td>\n",
       "      <td>3.57</td>\n",
       "    </tr>\n",
       "    <tr>\n",
       "      <th>3</th>\n",
       "      <td>2005-10</td>\n",
       "      <td>8.0845</td>\n",
       "      <td>86.39</td>\n",
       "      <td>54.1</td>\n",
       "      <td>57.2</td>\n",
       "      <td>101,800.00</td>\n",
       "      <td>1,365.10</td>\n",
       "      <td>287,600.00</td>\n",
       "      <td>6,582.30</td>\n",
       "      <td>1.2</td>\n",
       "      <td>4.3</td>\n",
       "      <td>1.2442</td>\n",
       "      <td>3.73</td>\n",
       "    </tr>\n",
       "    <tr>\n",
       "      <th>4</th>\n",
       "      <td>2005-11</td>\n",
       "      <td>8.0804</td>\n",
       "      <td>87.75</td>\n",
       "      <td>54.1</td>\n",
       "      <td>56.7</td>\n",
       "      <td>104,100.00</td>\n",
       "      <td>1,373.20</td>\n",
       "      <td>292,400.00</td>\n",
       "      <td>6,623.00</td>\n",
       "      <td>1.3</td>\n",
       "      <td>3.5</td>\n",
       "      <td>1.2049</td>\n",
       "      <td>3.99</td>\n",
       "    </tr>\n",
       "  </tbody>\n",
       "</table>\n",
       "</div>"
      ],
      "text/plain": [
       "      Date  CNYUSD  RMB_REER  CHN PMI  USA PMI       CHN M1     USA M1  \\\n",
       "0  2005-07  8.1062     85.01     51.1     52.8   97,700.00   1,365.00    \n",
       "1  2005-08  8.0998     85.05     52.6     52.4   99,400.00   1,376.50    \n",
       "2  2005-09  8.0920     85.29     55.1     56.8  101,000.00   1,363.10    \n",
       "3  2005-10  8.0845     86.39     54.1     57.2  101,800.00   1,365.10    \n",
       "4  2005-11  8.0804     87.75     54.1     56.7  104,100.00   1,373.20    \n",
       "\n",
       "        CHN M2     USA M2  CHN CPI inflation  USA CPI inflation  CHN_IBR  \\\n",
       "0  277,000.00   6,498.40                 1.8                3.2   1.1395   \n",
       "1  281,300.00   6,522.50                 1.3                3.6   1.1774   \n",
       "2  287,000.00   6,555.00                 0.9                4.7   1.1675   \n",
       "3  287,600.00   6,582.30                 1.2                4.3   1.2442   \n",
       "4  292,400.00   6,623.00                 1.3                3.5   1.2049   \n",
       "\n",
       "   US_FFR  \n",
       "0    3.36  \n",
       "1    3.30  \n",
       "2    3.57  \n",
       "3    3.73  \n",
       "4    3.99  "
      ]
     },
     "execution_count": 2,
     "metadata": {},
     "output_type": "execute_result"
    }
   ],
   "source": [
    "erf = pd.read_csv('https://github.com/QuantEcon/ShenzhenWinterCamp/raw/master/Jiao%20Shi/ER_predict.csv')\n",
    "erf.head()"
   ]
  },
  {
   "cell_type": "code",
   "execution_count": 3,
   "metadata": {
    "collapsed": true
   },
   "outputs": [],
   "source": [
    "# compute the change in the exchange rate: take log and first difference to compute depreciation (dep)\n",
    "erf['lner'] = np.log(erf[['CNYUSD']])\n",
    "erf['dep'] = 100*erf['lner'].diff(periods = 1) "
   ]
  },
  {
   "cell_type": "code",
   "execution_count": 4,
   "metadata": {
    "collapsed": true
   },
   "outputs": [],
   "source": [
    "# Create a new column to reindex depreciation - why?\n",
    "erf['dep_1'] = 0\n",
    "size_sample = 149\n",
    "\n",
    "for i in range(size_sample):\n",
    "    erf.loc[i,'dep_1'] = erf.loc[i+1,'dep']\n",
    "    \n",
    "erf.loc[size_sample,'dep_1'] = erf.loc[0,'dep']"
   ]
  },
  {
   "cell_type": "code",
   "execution_count": 5,
   "metadata": {
    "collapsed": true
   },
   "outputs": [],
   "source": [
    "erf['int_diff'] = erf['CHN_IBR'] - erf['US_FFR'] # The interest difference between countries"
   ]
  },
  {
   "cell_type": "code",
   "execution_count": 6,
   "metadata": {},
   "outputs": [
    {
     "name": "stdout",
     "output_type": "stream",
     "text": [
      "                            OLS Regression Results                            \n",
      "==============================================================================\n",
      "Dep. Variable:                  dep_1   R-squared:                       0.033\n",
      "Model:                            OLS   Adj. R-squared:                  0.026\n",
      "Method:                 Least Squares   F-statistic:                     4.998\n",
      "Date:                Fri, 02 Feb 2018   Prob (F-statistic):             0.0269\n",
      "Time:                        20:32:17   Log-Likelihood:                -148.45\n",
      "No. Observations:                 149   AIC:                             300.9\n",
      "Df Residuals:                     147   BIC:                             306.9\n",
      "Df Model:                           1                                         \n",
      "Covariance Type:            nonrobust                                         \n",
      "==============================================================================\n",
      "                 coef    std err          t      P>|t|      [0.025      0.975]\n",
      "------------------------------------------------------------------------------\n",
      "const         -0.1985      0.059     -3.355      0.001      -0.315      -0.082\n",
      "int_diff       0.0535      0.024      2.236      0.027       0.006       0.101\n",
      "==============================================================================\n",
      "Omnibus:                      103.849   Durbin-Watson:                   1.493\n",
      "Prob(Omnibus):                  0.000   Jarque-Bera (JB):             1429.264\n",
      "Skew:                           2.201   Prob(JB):                    4.36e-311\n",
      "Kurtosis:                      17.520   Cond. No.                         2.79\n",
      "==============================================================================\n",
      "\n",
      "Warnings:\n",
      "[1] Standard Errors assume that the covariance matrix of the errors is correctly specified.\n"
     ]
    }
   ],
   "source": [
    "erf['const'] = 1 # create column of constant\n",
    "\n",
    "reg_int = sm.OLS(endog=erf['dep_1'], exog=erf[['const', 'int_diff']], missing='drop')\n",
    "results = reg_int.fit()\n",
    "print(results.summary())"
   ]
  },
  {
   "cell_type": "code",
   "execution_count": 7,
   "metadata": {
    "collapsed": true
   },
   "outputs": [],
   "source": [
    "# Int Model\n",
    "\n",
    "size_sample = 149\n",
    "size_subsample = 60\n",
    "\n",
    "# How many regressions can we run? How many forecast errors can we compute?\n",
    "fcst_error_int = np.zeros(size_sample - size_subsample)\n",
    "fcst_prediction_int = np.zeros(size_sample - size_subsample)\n",
    "\n",
    "for i in range (size_sample - size_subsample):\n",
    "    reg_intsub = sm.OLS(endog=erf.loc[i:size_subsample-1+i,'dep_1'], exog=erf.loc[erf.index[i:size_subsample+i],['const', 'int_diff']], missing='drop')\n",
    "    results_sub = reg_intsub.fit()\n",
    "    fcst_error_int[i] = results_sub.predict(exog = [1, erf.loc[size_subsample+i,'int_diff']]) - erf.loc[size_subsample+i, 'dep_1']\n",
    "    fcst_prediction_int[i] = results_sub.predict(exog = [1, erf.loc[size_subsample+i,'int_diff']])"
   ]
  },
  {
   "cell_type": "code",
   "execution_count": 8,
   "metadata": {
    "collapsed": true
   },
   "outputs": [],
   "source": [
    "# Taylor-Rule model\n",
    "\n",
    "# inflation differential\n",
    "erf['pi_diff'] = erf['CHN CPI inflation'] - erf['USA CPI inflation']\n",
    "\n",
    "fcst_tr = np.zeros(size_sample - size_subsample)\n",
    "fcst_error_tr = np.zeros(size_sample - size_subsample)\n",
    "fcst_prediction_tr = np.zeros(size_sample - size_subsample)\n",
    "\n",
    "for i in range (size_sample - size_subsample):\n",
    "    # Create a column to store the output gap difference and update it in each loop\n",
    "    y_chn = erf['CHN PMI'] - np.mean(erf.loc[i:size_subsample-1+i, 'CHN PMI'])\n",
    "    y_us = erf['USA PMI'] - np.mean(erf.loc[i:size_subsample-1+i, 'USA PMI'])\n",
    "    erf['y_diff'] = y_chn - y_us\n",
    "    \n",
    "    reg_trsub = sm.OLS(endog=erf.loc[i:size_subsample-1+i,'dep_1'], exog=erf.loc[erf.index[i:size_subsample+i],['const', 'pi_diff','y_diff']], missing='drop')\n",
    "    results_sub = reg_trsub.fit()\n",
    "    \n",
    "    fcst_tr[i] = results_sub.predict(exog = [erf.loc[size_subsample+i,['const', 'pi_diff','y_diff']]])\n",
    "    fcst_error_tr[i] = results_sub.predict(exog = [erf.loc[size_subsample+i,['const', 'pi_diff','y_diff']]]) - erf.loc[size_subsample+i, 'dep_1']\n",
    "    fcst_prediction_tr[i] = results_sub.predict(exog = [erf.loc[size_subsample+i,['const', 'pi_diff','y_diff']]])"
   ]
  },
  {
   "cell_type": "code",
   "execution_count": 9,
   "metadata": {},
   "outputs": [
    {
     "name": "stdout",
     "output_type": "stream",
     "text": [
      "0.573033707865\n",
      "0.606741573034\n",
      "0.61797752809\n"
     ]
    }
   ],
   "source": [
    "pcdf_int = ((fcst_error_int*fcst_prediction_int >= 0 ).sum())/len(fcst_error_int)\n",
    "pcdf_tr = ((fcst_error_tr*fcst_prediction_tr >= 0 ).sum())/len(fcst_error_tr)\n",
    "pcdf_rw = ((erf.loc[60:148, 'dep_1']*erf.loc[60:148, 'dep']>=0).sum())/89\n",
    "\n",
    "print(pcdf_int)\n",
    "print(pcdf_tr)\n",
    "print(pcdf_rw)"
   ]
  },
  {
   "cell_type": "markdown",
   "metadata": {},
   "source": [
    "### Exercise II.a"
   ]
  },
  {
   "cell_type": "markdown",
   "metadata": {},
   "source": [
    "\n",
    "The real effective exchange rate (REER) is the weighted average of a country's currency relative to an index or basket of other major currencies, adjusted for the effects of inflation. The weights are determined by comparing the relative trade balance of a country's currency against each country within the index. This exchange rate is used to determine an individual country's currency value relative to the other major currencies in the index, such as the U.S. dollar, Japanese yen and the euro."
   ]
  },
  {
   "cell_type": "markdown",
   "metadata": {},
   "source": [
    "### Exercise II.b"
   ]
  },
  {
   "cell_type": "code",
   "execution_count": 10,
   "metadata": {},
   "outputs": [
    {
     "name": "stdout",
     "output_type": "stream",
     "text": [
      "                            OLS Regression Results                            \n",
      "==============================================================================\n",
      "Dep. Variable:                  dep_1   R-squared:                       0.103\n",
      "Model:                            OLS   Adj. R-squared:                  0.055\n",
      "Method:                 Least Squares   F-statistic:                     2.145\n",
      "Date:                Fri, 02 Feb 2018   Prob (F-statistic):              0.105\n",
      "Time:                        20:32:19   Log-Likelihood:                -73.014\n",
      "No. Observations:                  60   AIC:                             154.0\n",
      "Df Residuals:                      56   BIC:                             162.4\n",
      "Df Model:                           3                                         \n",
      "Covariance Type:            nonrobust                                         \n",
      "==============================================================================\n",
      "                 coef    std err          t      P>|t|      [0.025      0.975]\n",
      "------------------------------------------------------------------------------\n",
      "const         -4.1249      2.316     -1.781      0.080      -8.765       0.516\n",
      "pi_diff        0.0565      0.154      0.367      0.715      -0.252       0.365\n",
      "y_diff         0.0421      0.046      0.925      0.359      -0.049       0.133\n",
      "RMB_REER       0.0344      0.019      1.787      0.079      -0.004       0.073\n",
      "==============================================================================\n",
      "Omnibus:                       35.564   Durbin-Watson:                   1.888\n",
      "Prob(Omnibus):                  0.000   Jarque-Bera (JB):              147.649\n",
      "Skew:                           1.510   Prob(JB):                     8.68e-33\n",
      "Kurtosis:                      10.067   Cond. No.                     2.58e+03\n",
      "==============================================================================\n",
      "\n",
      "Warnings:\n",
      "[1] Standard Errors assume that the covariance matrix of the errors is correctly specified.\n",
      "[2] The condition number is large, 2.58e+03. This might indicate that there are\n",
      "strong multicollinearity or other numerical problems.\n"
     ]
    }
   ],
   "source": [
    "# The Taylor Rule model with REER\n",
    "\n",
    "fcst_reer = np.zeros(size_sample - size_subsample)\n",
    "fcst_error_reer = np.zeros(size_sample - size_subsample)\n",
    "fcst_prediction_reer = np.zeros(size_sample - size_subsample)\n",
    "\n",
    "for i in range (size_sample - size_subsample):\n",
    "    \n",
    "    reg_reersub = sm.OLS(endog=erf.loc[i:size_subsample-1+i,'dep_1'], exog=erf.loc[erf.index[i:size_subsample+i],['const', 'pi_diff','y_diff','RMB_REER']], missing='drop')\n",
    "    results_sub = reg_reersub.fit()\n",
    "    \n",
    "    fcst_reer[i] = results_sub.predict(exog = [erf.loc[size_subsample+i,['const', 'pi_diff','y_diff','RMB_REER']]])\n",
    "    fcst_error_reer[i] = results_sub.predict(exog = [erf.loc[size_subsample+i,['const', 'pi_diff','y_diff','RMB_REER']]]) - erf.loc[size_subsample+i, 'dep_1']\n",
    "    fcst_prediction_reer[i] = results_sub.predict(exog = [erf.loc[size_subsample+i,['const', 'pi_diff','y_diff','RMB_REER']]])\n",
    "    \n",
    "print(results_sub.summary())"
   ]
  },
  {
   "cell_type": "markdown",
   "metadata": {},
   "source": [
    "The sign of the coefficient of REER is positive and statistically significant at 90% confidence level. The sign is not consistent with our intuition, since when REER is larger, the strength of Chinese Yuan is higher, and so that the exchange rate should fall."
   ]
  },
  {
   "cell_type": "code",
   "execution_count": 11,
   "metadata": {},
   "outputs": [
    {
     "name": "stdout",
     "output_type": "stream",
     "text": [
      "0.771097843365\n",
      "0.7605718598\n"
     ]
    }
   ],
   "source": [
    "rmse_reer = np.sqrt(np.mean(fcst_error_reer**2))\n",
    "rmse_tr = np.sqrt(np.mean(fcst_error_tr**2))\n",
    "\n",
    "print(rmse_tr)\n",
    "print(rmse_reer)"
   ]
  },
  {
   "cell_type": "markdown",
   "metadata": {},
   "source": [
    "The new model produces a smaller RMSE than the original Taylor Rule model."
   ]
  }
 ],
 "metadata": {
  "kernelspec": {
   "display_name": "Python 3",
   "language": "python",
   "name": "python3"
  },
  "language_info": {
   "codemirror_mode": {
    "name": "ipython",
    "version": 3
   },
   "file_extension": ".py",
   "mimetype": "text/x-python",
   "name": "python",
   "nbconvert_exporter": "python",
   "pygments_lexer": "ipython3",
   "version": "3.6.1"
  }
 },
 "nbformat": 4,
 "nbformat_minor": 2
}
