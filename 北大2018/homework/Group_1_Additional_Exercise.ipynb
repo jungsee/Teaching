{
 "cells": [
  {
   "cell_type": "markdown",
   "metadata": {},
   "source": [
    "# Group 1 Assignment\n",
    "## Members: Yang LI, Yuwen CHE, Yi LIANG, Yun LI, Xiaoyi HAO, Hemin HE"
   ]
  },
  {
   "cell_type": "markdown",
   "metadata": {},
   "source": [
    "### Additional Exercise 1"
   ]
  },
  {
   "cell_type": "code",
   "execution_count": 14,
   "metadata": {},
   "outputs": [
    {
     "name": "stdout",
     "output_type": "stream",
     "text": [
      "[-1.79232734  0.5795223   1.55268042 ...,  0.07879805 -0.80995796\n",
      " -0.56884822]\n"
     ]
    }
   ],
   "source": [
    "import numpy as np\n",
    "\n",
    "x=np.random.randn(1000000)\n",
    "print(x)"
   ]
  },
  {
   "cell_type": "code",
   "execution_count": 19,
   "metadata": {},
   "outputs": [
    {
     "name": "stdout",
     "output_type": "stream",
     "text": [
      "Wall time: 12 ms\n"
     ]
    },
    {
     "data": {
      "text/plain": [
       "array([ 0.        ,  0.5795223 ,  1.55268042, ...,  0.07879805,\n",
       "        0.        ,  0.        ])"
      ]
     },
     "execution_count": 19,
     "metadata": {},
     "output_type": "execute_result"
    }
   ],
   "source": [
    "%time np.where(x<0, 0, x)  #1"
   ]
  },
  {
   "cell_type": "code",
   "execution_count": 28,
   "metadata": {},
   "outputs": [
    {
     "name": "stdout",
     "output_type": "stream",
     "text": [
      "Wall time: 208 ms\n"
     ]
    },
    {
     "data": {
      "text/plain": [
       "array([ 0.        ,  0.5795223 ,  1.55268042, ...,  0.07879805,\n",
       "        0.        ,  0.        ])"
      ]
     },
     "execution_count": 28,
     "metadata": {},
     "output_type": "execute_result"
    }
   ],
   "source": [
    "def g(x):\n",
    "    return 0 if x< 0 else x\n",
    "\n",
    "g= np.vectorize(g)  #2 without loop\n",
    "\n",
    "%time g(x)"
   ]
  },
  {
   "cell_type": "code",
   "execution_count": 26,
   "metadata": {},
   "outputs": [
    {
     "name": "stdout",
     "output_type": "stream",
     "text": [
      "[ 0.          0.5795223   1.55268042 ...,  0.07879805  0.          0.        ]\n",
      "Wall time: 240 ms\n"
     ]
    }
   ],
   "source": [
    "def f(x):\n",
    "    for i in range(len(x)):\n",
    "        if x[i]<0:\n",
    "            x[i]=0 \n",
    "    print(x)  #3 with loop\n",
    "%time f()\n",
    "#%timeit print(x) #2 with loop"
   ]
  },
  {
   "cell_type": "markdown",
   "metadata": {},
   "source": [
    "### Exercise 2"
   ]
  },
  {
   "cell_type": "code",
   "execution_count": 3,
   "metadata": {
    "collapsed": true
   },
   "outputs": [],
   "source": [
    "import numpy as np\n",
    "\n",
    "def matrix(k):\n",
    "    A=np.linspace(0, 4*k-1, 4*k)\n",
    "    A.shape=(k, 4)\n",
    "    return A.T"
   ]
  },
  {
   "cell_type": "code",
   "execution_count": 4,
   "metadata": {},
   "outputs": [
    {
     "data": {
      "text/plain": [
       "array([[  0.,   4.,   8.,  12.],\n",
       "       [  1.,   5.,   9.,  13.],\n",
       "       [  2.,   6.,  10.,  14.],\n",
       "       [  3.,   7.,  11.,  15.]])"
      ]
     },
     "execution_count": 4,
     "metadata": {},
     "output_type": "execute_result"
    }
   ],
   "source": [
    "matrix(4)"
   ]
  },
  {
   "cell_type": "markdown",
   "metadata": {},
   "source": [
    "### Exercise 3"
   ]
  },
  {
   "cell_type": "code",
   "execution_count": 6,
   "metadata": {
    "collapsed": true
   },
   "outputs": [],
   "source": [
    "def gcd(a,b, i):\n",
    "    x, y= max(a,b), min(a,b)\n",
    "    if i==0:\n",
    "        print('0:gcd({0}, {1})'.format(x,y))\n",
    "    c = x % y\n",
    "    if c==0:\n",
    "        return y\n",
    "    else:\n",
    "        print('{0}:gcd({1},{2})'.format(i+1,y,c))\n",
    "        return gcd(y, c, i+1)\n",
    "def lcm(a, b):\n",
    "        return 'The least common multiple is: {0}'.format(a * b / gcd(a, b, 0))"
   ]
  },
  {
   "cell_type": "code",
   "execution_count": 9,
   "metadata": {},
   "outputs": [
    {
     "name": "stdout",
     "output_type": "stream",
     "text": [
      "0:gcd(123456, 5790)\n",
      "1:gcd(5790,1866)\n",
      "2:gcd(1866,192)\n",
      "3:gcd(192,138)\n",
      "4:gcd(138,54)\n",
      "5:gcd(54,30)\n",
      "6:gcd(30,24)\n",
      "7:gcd(24,6)\n"
     ]
    },
    {
     "data": {
      "text/plain": [
       "6"
      ]
     },
     "execution_count": 9,
     "metadata": {},
     "output_type": "execute_result"
    }
   ],
   "source": [
    "gcd(123456,5790,0)"
   ]
  },
  {
   "cell_type": "code",
   "execution_count": 10,
   "metadata": {},
   "outputs": [
    {
     "name": "stdout",
     "output_type": "stream",
     "text": [
      "0:gcd(6, 4)\n",
      "1:gcd(4,2)\n"
     ]
    },
    {
     "data": {
      "text/plain": [
       "'The least common multiple is: 12.0'"
      ]
     },
     "execution_count": 10,
     "metadata": {},
     "output_type": "execute_result"
    }
   ],
   "source": [
    "lcm(4,6)"
   ]
  },
  {
   "cell_type": "markdown",
   "metadata": {},
   "source": [
    "### Exercise 4"
   ]
  },
  {
   "cell_type": "code",
   "execution_count": 13,
   "metadata": {},
   "outputs": [
    {
     "data": {
      "text/plain": [
       "'Thisisforremovingredundentspaces'"
      ]
     },
     "execution_count": 13,
     "metadata": {},
     "output_type": "execute_result"
    }
   ],
   "source": [
    "import numpy as np\n",
    "\n",
    "s='This     is for removing redundent spaces'\n",
    "s.replace(' ','')"
   ]
  },
  {
   "cell_type": "code",
   "execution_count": 11,
   "metadata": {},
   "outputs": [
    {
     "data": {
      "text/plain": [
       "'This is for removing redundant spaces'"
      ]
     },
     "execution_count": 11,
     "metadata": {},
     "output_type": "execute_result"
    }
   ],
   "source": [
    "l = 'This is      for removing       redundant spaces'\n",
    "\" \".join(l.split())"
   ]
  },
  {
   "cell_type": "markdown",
   "metadata": {
    "collapsed": true
   },
   "source": [
    "### Exercise 5"
   ]
  },
  {
   "cell_type": "code",
   "execution_count": 1,
   "metadata": {},
   "outputs": [
    {
     "name": "stdout",
     "output_type": "stream",
     "text": [
      "[18, 9, 24, 12, 27]\n"
     ]
    }
   ],
   "source": [
    "def f(x):\n",
    "    return x % 3 == 0\n",
    "\n",
    "l1 = [2, 18, 9, 22, 17, 24, 8, 12, 27]\n",
    "A=list(filter(f,l1))\n",
    "print(A)"
   ]
  },
  {
   "cell_type": "markdown",
   "metadata": {},
   "source": [
    "### Exercise 6"
   ]
  },
  {
   "cell_type": "code",
   "execution_count": 5,
   "metadata": {},
   "outputs": [
    {
     "name": "stdout",
     "output_type": "stream",
     "text": [
      "The 20 most frequent words from the text file are:\n",
      "1.6927 the\n",
      "2.4474 and\n",
      "3.3465 of\n",
      "4.1905 I\n",
      "5.1261 that\n",
      "6.1252 is\n",
      "7.1102 it\n",
      "8.1008 not\n",
      "9. 863 was\n",
      "10. 854 or\n",
      "11. 847 with\n",
      "12. 834 which\n",
      "13. 743 my\n",
      "14. 715 be\n",
      "15. 702 his\n",
      "16. 660 have\n",
      "17. 660 by\n",
      "18. 642 are\n",
      "19. 639 he\n",
      "20. 605 at\n"
     ]
    }
   ],
   "source": [
    "import re\n",
    "keep=['a','b','c','d','e','f','g','h','i','j','k','l','m','n','o','p','q','r','s','t','u','v','w','x','y','z',' ',\"'\"]\n",
    "stop_words=['to','a','as','this','for','in','on','but','--']\n",
    "def normalize(s):\n",
    "    result=''                       \n",
    "    for c in s.lower():\n",
    "        if c in keep:               #a,b,c,d,\n",
    "            result+=c\n",
    "    return result\n",
    "def make_dict(s):\n",
    "    words=re.split(' ',s)\n",
    "    d={}\n",
    "    for w in words:\n",
    "        if w in d:\n",
    "            d[w]+=1                 \n",
    "        else:\n",
    "            d[w]=1\n",
    "    return d\n",
    "def file_status(f):\n",
    "    c=open(f).read()\n",
    "    d=make_dict(c)\n",
    "    lst=[(d[w],w) for w in d]\n",
    "    lst.sort()\n",
    "    lst.reverse()\n",
    "    print('The 20 most frequent words from the text file are:')\n",
    "    j=1\n",
    "    for count,word in lst[:]:\n",
    "        if word not in stop_words:\n",
    "            print('%d.%4d %s'%(j,count,word))\n",
    "            j+=1\n",
    "        if j==21:\n",
    "            break\n",
    "#start_time=time.time()\n",
    "file_status('Walden.txt')"
   ]
  },
  {
   "cell_type": "markdown",
   "metadata": {},
   "source": [
    "### Exercise 7"
   ]
  },
  {
   "cell_type": "code",
   "execution_count": 6,
   "metadata": {},
   "outputs": [
    {
     "name": "stdout",
     "output_type": "stream",
     "text": [
      "please input a number more than 2:100\n",
      "2\n",
      "3\n",
      "5\n",
      "7\n",
      "11\n",
      "13\n",
      "17\n",
      "19\n",
      "23\n",
      "29\n",
      "31\n",
      "37\n",
      "41\n",
      "43\n",
      "47\n",
      "53\n",
      "59\n",
      "61\n",
      "67\n",
      "71\n",
      "73\n",
      "79\n",
      "83\n",
      "89\n",
      "97\n"
     ]
    }
   ],
   "source": [
    "import math\n",
    "l = []\n",
    "n = int(input('please input a number more than 2:'))\n",
    "if n == 2:\n",
    "    print('there is no prime less than 2!')\n",
    "else:\n",
    "    for a in range(2, n):\n",
    "        for b in range(2, int(math.sqrt(a)) + 1):\n",
    "            l.append(a % b)\n",
    "        if 0 not in l:\n",
    "            print(a)\n",
    "        l = []"
   ]
  }
 ],
 "metadata": {
  "kernelspec": {
   "display_name": "Python 3",
   "language": "python",
   "name": "python3"
  },
  "language_info": {
   "codemirror_mode": {
    "name": "ipython",
    "version": 3
   },
   "file_extension": ".py",
   "mimetype": "text/x-python",
   "name": "python",
   "nbconvert_exporter": "python",
   "pygments_lexer": "ipython3",
   "version": "3.6.1"
  }
 },
 "nbformat": 4,
 "nbformat_minor": 2
}
