{
 "cells": [
  {
   "cell_type": "code",
   "execution_count": 1,
   "metadata": {
    "collapsed": true
   },
   "outputs": [],
   "source": [
    "import numpy as np\n",
    "import matplotlib.pyplot as plt \n",
    "import numba"
   ]
  },
  {
   "cell_type": "code",
   "execution_count": 2,
   "metadata": {},
   "outputs": [],
   "source": [
    "@numba.jit(nopython=True, parallel=True)\n",
    "def sim_profits(s,p=0.5,S=20,sim_length=1e10,X0=5,c=1):\n",
    "    def compute_profit(X,D,s,c,S):\n",
    "        h = X+(S-X)*(X<=s)\n",
    "        return min(h,D)-c*(X<=s)\n",
    "    \n",
    "    def G(X,D,s,S):\n",
    "        if X<=s:\n",
    "            return max(S-D,0)\n",
    "        else:\n",
    "            return max(X-D,0)\n",
    "    \n",
    "    X = np.empty(sim_length)\n",
    "    X[0] = X0\n",
    "    profit = np.empty(sim_length)\n",
    "    D = np.random.geometric(p) - 1\n",
    "    profit[0] = compute_profit(X0,D,s,c,S)\n",
    "    \n",
    "    for t in range(sim_length-1):\n",
    "        D = np.random.geometric(p) - 1\n",
    "        X[t+1] = G(X[t],D,s,S)\n",
    "        profit[t+1] = compute_profit(X[t],D,s,c,S)\n",
    "    mean_profits = profit.mean()\n",
    "    return mean_profits"
   ]
  },
  {
   "cell_type": "code",
   "execution_count": 3,
   "metadata": {
    "collapsed": true
   },
   "outputs": [],
   "source": [
    "def plot_profits(p=0.5,S=20,sim_length=100,X0=5,c=1):\n",
    "    sgrid = np.linspace(0,S,100)\n",
    "    profits = []\n",
    "    smin = sgrid[0]\n",
    "    smax = sgrid[-1]\n",
    "    \n",
    "    for s in sgrid:\n",
    "        mean_profit = sim_profits(s,p=p,S=S,sim_length=sim_length,X0=X0,c=c)\n",
    "        profits.append(mean_profit)\n",
    "    profits = np.asarray(profits)\n",
    "    max_profit = np.max(profits)\n",
    "    max_profit_s = sgrid[np.argmax(profits)]\n",
    "    \n",
    "    fig,ax = plt.subplots()\n",
    "    for spine in ['left', 'bottom']:\n",
    "        ax.spines[spine].set_position('zero')\n",
    "        ax.spines[spine].set_color('green')\n",
    "    for spine in ['right', 'top']:\n",
    "        ax.spines[spine].set_color('none')\n",
    "        \n",
    "    ax.plot(sgrid,profits,'b-',label='X0={0},c={1}'.format(X0,c))\n",
    "    ax.plot((0,max_profit_s),(max_profit,max_profit),'k',ls='dotted')\n",
    "    ax.plot((max_profit_s,max_profit_s),(0,max_profit),'k',ls='dotted')\n",
    "    ax.set_xticks([smin,max_profit_s,smax])\n",
    "    ax.set_yticks([max_profit])\n",
    "    ax.set_xlabel('s')\n",
    "    ax.set_ylabel('average profits')\n",
    "    ax.legend(loc='best')\n",
    "    plt.show()\n",
    "    "
   ]
  },
  {
   "cell_type": "code",
   "execution_count": 4,
   "metadata": {},
   "outputs": [
    {
     "data": {
      "image/png": "[encoded data removed]",
      "text/plain": [
       "<matplotlib.figure.Figure at 0x8ed4f98>"
      ]
     },
     "metadata": {},
     "output_type": "display_data"
    },
    {
     "name": "stdout",
     "output_type": "stream",
     "text": [
      "Wall time: 1.07 s\n"
     ]
    }
   ],
   "source": [
    "%time plot_profits()"
   ]
  },
  {
   "cell_type": "code",
   "execution_count": null,
   "metadata": {
    "collapsed": true
   },
   "outputs": [],
   "source": []
  }
 ],
 "metadata": {
  "kernelspec": {
   "display_name": "Python 3",
   "language": "python",
   "name": "python3"
  },
  "language_info": {
   "codemirror_mode": {
    "name": "ipython",
    "version": 3
   },
   "file_extension": ".py",
   "mimetype": "text/x-python",
   "name": "python",
   "nbconvert_exporter": "python",
   "pygments_lexer": "ipython3",
   "version": "3.6.3"
  }
 },
 "nbformat": 4,
 "nbformat_minor": 2
}
