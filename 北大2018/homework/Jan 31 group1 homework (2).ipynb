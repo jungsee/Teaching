{
 "cells": [
  {
   "cell_type": "markdown",
   "metadata": {},
   "source": [
    "# Group Assignment\n",
    "## Members: Yang LI, Hemin HE, Yun LI, Yi LIANG, Xiaoyi HAO, Yuwen CHE"
   ]
  },
  {
   "cell_type": "markdown",
   "metadata": {},
   "source": [
    "## Exercise 1 (Method 2)"
   ]
  },
  {
   "cell_type": "code",
   "execution_count": 29,
   "metadata": {
    "collapsed": true
   },
   "outputs": [],
   "source": [
    "import numpy as np\n",
    "import matplotlib.pyplot as plt\n",
    "import numba "
   ]
  },
  {
   "cell_type": "code",
   "execution_count": 30,
   "metadata": {
    "collapsed": true
   },
   "outputs": [],
   "source": [
    "S = 20\n",
    "p = 0.5\n",
    "c = 0.5"
   ]
  },
  {
   "cell_type": "code",
   "execution_count": 31,
   "metadata": {
    "collapsed": true
   },
   "outputs": [],
   "source": [
    "def ϕ():                         # Get a sample of demand from the distribution\n",
    "    return np.random.geometric(p) - 1"
   ]
  },
  {
   "cell_type": "code",
   "execution_count": 32,
   "metadata": {
    "collapsed": true
   },
   "outputs": [],
   "source": [
    "def inventory(x,D_,s):           # Inventory\n",
    "    if x <= s:\n",
    "        return max(S - D_, 0)\n",
    "    else:\n",
    "        return max(x - D_, 0)"
   ]
  },
  {
   "cell_type": "code",
   "execution_count": 33,
   "metadata": {
    "collapsed": true
   },
   "outputs": [],
   "source": [
    "def h_s(x, s):                   # Stock on hand\n",
    "    if x <= s:\n",
    "        return S\n",
    "    else:\n",
    "        return x"
   ]
  },
  {
   "cell_type": "code",
   "execution_count": 34,
   "metadata": {
    "collapsed": true
   },
   "outputs": [],
   "source": [
    "def π(x, D_, s):\n",
    "    if x <= s:\n",
    "        return min (h_s(x, s),D_) - c\n",
    "    else:\n",
    "        return min (h_s(x, s),D_)"
   ]
  },
  {
   "cell_type": "code",
   "execution_count": 35,
   "metadata": {
    "collapsed": true
   },
   "outputs": [],
   "source": [
    "@numba.jit\n",
    "def π_average(s, x0 = 0, n = 100_000):\n",
    "    x = x0\n",
    "    D = ϕ()\n",
    "    q = np.zeros(n)\n",
    "    q[0] = x0\n",
    "    for i in range(n-1):\n",
    "        q[i+1] = π(x, D, s = s)\n",
    "        x_ = inventory(x, D, s)\n",
    "        D = ϕ()   # D3\n",
    "        x = x_   # X2\n",
    "    return q.mean()"
   ]
  },
  {
   "cell_type": "code",
   "execution_count": 36,
   "metadata": {},
   "outputs": [
    {
     "data": {
      "text/plain": [
       "0.95513000000000003"
      ]
     },
     "execution_count": 36,
     "metadata": {},
     "output_type": "execute_result"
    }
   ],
   "source": [
    "π_average(10, x0 = 0)"
   ]
  },
  {
   "cell_type": "code",
   "execution_count": 37,
   "metadata": {
    "collapsed": true
   },
   "outputs": [],
   "source": [
    "πa = np.zeros(200)\n",
    "for i in range(200):\n",
    "    πa[i] = π_average(i/10, x0 = 0)\n",
    "\n",
    "#print(πa)"
   ]
  },
  {
   "cell_type": "code",
   "execution_count": 38,
   "metadata": {},
   "outputs": [
    {
     "name": "stdout",
     "output_type": "stream",
     "text": [
      "The maximum of average profit can be achieved at s =   7.24\n",
      "The maximum of average profit is 0.97976\n"
     ]
    },
    {
     "data": {
      "image/png": "[encoded data removed]",
      "text/plain": [
       "<matplotlib.figure.Figure at 0x940f160>"
      ]
     },
     "metadata": {},
     "output_type": "display_data"
    }
   ],
   "source": [
    "fig, ax = plt.subplots(figsize=(7, 4.5))\n",
    "s = np.linspace(0,20,200)\n",
    "ax.plot(s,πa)\n",
    "ax.set(ylabel='average profit', xlabel='s')\n",
    "print('The maximum of average profit can be achieved at s =  ',round(s[πa.argmax()],2))\n",
    "print('The maximum of average profit is', πa.max())\n",
    "plt.show()"
   ]
  }
 ],
 "metadata": {
  "kernelspec": {
   "display_name": "Python 3",
   "language": "python",
   "name": "python3"
  },
  "language_info": {
   "codemirror_mode": {
    "name": "ipython",
    "version": 3
   },
   "file_extension": ".py",
   "mimetype": "text/x-python",
   "name": "python",
   "nbconvert_exporter": "python",
   "pygments_lexer": "ipython3",
   "version": "3.6.1"
  }
 },
 "nbformat": 4,
 "nbformat_minor": 2
}
