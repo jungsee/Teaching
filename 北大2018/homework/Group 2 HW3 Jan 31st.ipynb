{
 "cells": [
  {
   "cell_type": "code",
   "execution_count": 62,
   "metadata": {},
   "outputs": [],
   "source": [
    "import numpy as np\n",
    "import matplotlib.pyplot as plt\n",
    "import numba\n",
    "p=0.5\n",
    "S=20\n",
    "s = np.linspace(0, 20, 1000)"
   ]
  },
  {
   "cell_type": "code",
   "execution_count": 79,
   "metadata": {},
   "outputs": [],
   "source": [
    "@numba.jit(nopython = True, parallel = True)\n",
    "def sim_one_inventory_path_jitted(initial_x=50.0, sim_length=1000, c = 2):\n",
    "    \n",
    "    \n",
    "    Eπ = np.empty(len(s))\n",
    "    dvals = np.random.geometric(p, size=sim_length-1) - 1\n",
    "    for i in range(len(s)):\n",
    "        X = np.empty(sim_length)\n",
    "        X[0] = initial_x\n",
    "        hs = np.empty(sim_length-1)\n",
    "        π = np.empty(sim_length-1)\n",
    "        \n",
    "        \n",
    "        for t, d in enumerate(dvals):\n",
    "            x = X[t]\n",
    "            if x <= s[i]:\n",
    "                X[t+1] = max(S - d, 0)\n",
    "                I = 1\n",
    "            else:\n",
    "                X[t+1] = max(x - d, 0)\n",
    "                I = 0\n",
    "            hs[t] = x + (S - x ) * I\n",
    "            π[t] = min(hs[t], d) - c * I        \n",
    "        \n",
    "        Eπ[i] = np.mean(π)\n",
    "    return Eπ\n",
    "    "
   ]
  },
  {
   "cell_type": "code",
   "execution_count": 80,
   "metadata": {},
   "outputs": [
    {
     "name": "stdout",
     "output_type": "stream",
     "text": [
      "Wall time: 914 ms\n"
     ]
    }
   ],
   "source": [
    "%%time\n",
    "ππ = sim_one_inventory_path_jitted()"
   ]
  },
  {
   "cell_type": "code",
   "execution_count": 81,
   "metadata": {},
   "outputs": [
    {
     "data": {
      "image/png": "[encoded data removed]",
      "text/plain": [
       "<matplotlib.figure.Figure at 0x1245895dc88>"
      ]
     },
     "metadata": {},
     "output_type": "display_data"
    }
   ],
   "source": [
    "plt.plot(s, ππ)\n",
    "plt.show()"
   ]
  }
 ],
 "metadata": {
  "kernelspec": {
   "display_name": "Python 3",
   "language": "python",
   "name": "python3"
  },
  "language_info": {
   "codemirror_mode": {
    "name": "ipython",
    "version": 3
   },
   "file_extension": ".py",
   "mimetype": "text/x-python",
   "name": "python",
   "nbconvert_exporter": "python",
   "pygments_lexer": "ipython3",
   "version": "3.6.3"
  }
 },
 "nbformat": 4,
 "nbformat_minor": 2
}
