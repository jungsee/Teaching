{
 "cells": [
  {
   "cell_type": "markdown",
   "metadata": {},
   "source": [
    "# Homework8 by group3"
   ]
  },
  {
   "cell_type": "markdown",
   "metadata": {},
   "source": [
    "Authors:Kaiyang LIN,Tianhao MOU,Lin LIU,Yunxia SHI,Guangyi NING"
   ]
  },
  {
   "cell_type": "markdown",
   "metadata": {},
   "source": [
    "### Exercise 1"
   ]
  },
  {
   "cell_type": "markdown",
   "metadata": {},
   "source": [
    "Recall our inventory problem where inventory follows\n",
    "\n",
    "\n",
    "\\begin{equation*}\n",
    "  X_{t+1} = \n",
    "  \\begin{cases}\n",
    "      ( S - D_{t+1})^+ & \\quad \\text{if } X_t \\leq s \\\\\n",
    "      ( X_t - D_{t+1} )^+ &  \\quad \\text{if } X_t > s\n",
    "  \\end{cases}\n",
    "\\end{equation*}\n",
    "\n",
    "The demand sequence is IID and obeys\n",
    "\n",
    "$$ \\mathbb P \\{D_t = d\\} = (1 - p)^d p $$\n",
    "\n",
    "for $d = 0, 1, \\ldots$.  Here $p$ is a parameter in $(0, 1)$."
   ]
  },
  {
   "cell_type": "markdown",
   "metadata": {},
   "source": [
    "Let\n",
    "\n",
    "$$ \n",
    "    h_s(x) = x + (S - x) \\mathbb 1\\{x \\leq s \\}\n",
    "$$\n",
    "\n",
    "denote stock on hand after the restocking decision is made.  Profits are given by\n",
    "\n",
    "$$ \n",
    "    \\pi(X_t, D_{t+1}) \n",
    "    = \\min\\{h_s(X_t), D_{t+1}\\} - c \\mathbb 1\\{X_t \\leq s\\}\n",
    "$$\n",
    "\n",
    "Here $c$ is a fixed cost of restocking.  We are assuming that the marginal cost of stock is zero for simplicity, and that the unit price of output is 1."
   ]
  },
  {
   "cell_type": "markdown",
   "metadata": {},
   "source": [
    "Maximize long run average profits for the firm by choosing $s$ optimally.  You can do this visually, if you like, by plotting profits as a function of $s$.\n",
    "\n",
    "In doing so, assume that $S=20$ and $p=0.5$.\n",
    "\n",
    "Use simulation and the law of large numbers.  Try to optimize the execution speed of your implementation."
   ]
  },
  {
   "cell_type": "markdown",
   "metadata": {
    "collapsed": true
   },
   "source": [
    "### Solution:"
   ]
  },
  {
   "cell_type": "code",
   "execution_count": 2,
   "metadata": {
    "collapsed": true
   },
   "outputs": [],
   "source": [
    "import numpy as np\n",
    "import matplotlib.pyplot as plt\n",
    "from numba import jit"
   ]
  },
  {
   "cell_type": "code",
   "execution_count": 3,
   "metadata": {
    "collapsed": true
   },
   "outputs": [],
   "source": [
    "S = 20\n",
    "p = 0.5\n",
    "sim_length = 100\n",
    "x0=10\n",
    "c=1"
   ]
  },
  {
   "cell_type": "code",
   "execution_count": 4,
   "metadata": {
    "collapsed": true
   },
   "outputs": [],
   "source": [
    "@jit(nopython=True, parallel=True)\n",
    "def ϕ():\n",
    "    return np.random.geometric(p) - 1\n"
   ]
  },
  {
   "cell_type": "code",
   "execution_count": 5,
   "metadata": {
    "collapsed": true
   },
   "outputs": [],
   "source": [
    "@jit(nopython=True, parallel=True)        \n",
    "def G(x,d,s):\n",
    "    if x <= s:\n",
    "        return max(S - d, 0)\n",
    "    else:\n",
    "        return max(x - d, 0)\n",
    "\n",
    "    "
   ]
  },
  {
   "cell_type": "code",
   "execution_count": 6,
   "metadata": {
    "collapsed": true
   },
   "outputs": [],
   "source": [
    "@jit(nopython=True, parallel=True) \n",
    "def inventory(s):\n",
    "    X = np.empty(sim_length)\n",
    "    D = np.empty(sim_length)\n",
    "    X[0] = x0  \n",
    "    D[0] = 0\n",
    "    for t in range(sim_length-1):\n",
    "        D[t+1] = ϕ()\n",
    "        X[t+1] = G(X[t], D[t+1],s)\n",
    "    return X,D\n",
    " "
   ]
  },
  {
   "cell_type": "code",
   "execution_count": 7,
   "metadata": {
    "collapsed": true
   },
   "outputs": [],
   "source": [
    "@jit(nopython=True, parallel=True)         \n",
    "def average_profits(s,m=100):\n",
    "    π_val=np.empty(m)\n",
    "    for i in range(m):      \n",
    "        X,D=inventory(s)\n",
    "        h = X+(S-X)*(X<=s)\n",
    "        π=np.empty(sim_length-1)        \n",
    "        for t in range(sim_length-1):\n",
    "            π[t]=min(h[t],D[t+1])-c*(X[t]<=s)\n",
    "        π_val[i]=np.mean(π)\n",
    "    return np.mean(π_val)\n",
    "        \n",
    "average_profits=np.vectorize(average_profits)   "
   ]
  },
  {
   "cell_type": "code",
   "execution_count": 8,
   "metadata": {},
   "outputs": [
    {
     "data": {
      "image/png": "[encoded data removed]",
      "text/plain": [
       "<matplotlib.figure.Figure at 0x3295f64908>"
      ]
     },
     "metadata": {},
     "output_type": "display_data"
    },
    {
     "name": "stdout",
     "output_type": "stream",
     "text": [
      " Under the assumption x0=10 and c=1, we abtain the maximal long run average profits 0.9663636363636364 when s=4.646464646464646\n"
     ]
    }
   ],
   "source": [
    "fig,ax=plt.subplots(figsize=(20,10))\n",
    "n=100\n",
    "s=np.linspace(0,20,n)\n",
    "profits=average_profits(s)\n",
    "max_profit=np.max(profits)\n",
    "s_optimize=s[np.argmax(profits)]\n",
    "\n",
    "plt.scatter([s_optimize,], [max_profit,], s=50, color='r')\n",
    "ax.set_xticks([s_optimize])\n",
    "ax.set_yticks([max_profit])\n",
    "ax.plot([s_optimize,s_optimize],[max_profit,0],'k--')\n",
    "ax.plot([s_optimize,0],[max_profit,max_profit],'k--')\n",
    "ax.plot(s,profits)\n",
    "ax.set_xlabel('s')\n",
    "ax.set_ylabel('profits')\n",
    "plt.show()\n",
    "print(' Under the assumption x0=10 and c=1, we abtain the maximal long run average profits {} when s={}'.format(max_profit,s_optimize))\n"
   ]
  }
 ],
 "metadata": {
  "kernelspec": {
   "display_name": "Python 3",
   "language": "python",
   "name": "python3"
  },
  "language_info": {
   "codemirror_mode": {
    "name": "ipython",
    "version": 3
   },
   "file_extension": ".py",
   "mimetype": "text/x-python",
   "name": "python",
   "nbconvert_exporter": "python",
   "pygments_lexer": "ipython3",
   "version": "3.6.3"
  }
 },
 "nbformat": 4,
 "nbformat_minor": 2
}
