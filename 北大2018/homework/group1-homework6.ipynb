{
 "cells": [
  {
   "cell_type": "markdown",
   "metadata": {},
   "source": [
    "# Group Assignment: Pandas & OLS\n",
    "\n",
    "## Members: Yuwen CHE, Xiaoyi HAO, Hemin HE, Yang LI, Yun LI, Yi LIANG"
   ]
  },
  {
   "cell_type": "markdown",
   "metadata": {},
   "source": [
    "### The topic of our research: Relationship between scientific innovation and high-tech enterprises"
   ]
  },
  {
   "cell_type": "markdown",
   "metadata": {},
   "source": [
    "### 1. Interpretation of variables and data sources\n",
    "y: number of patents   Data source: the State Statistical Bureau\n",
    "\n",
    "x1: number of high-tech enterprises   Data source: the State Statistical Bureau, Ministry of Science and Technology of PRC\n",
    "\n",
    "x2: number of R & D department employees   Data source: CEInet\n",
    "\n",
    "x3: number of university graduates   Data source: Ministry of Education of PRC\n",
    "\n",
    "x4: number of scientific events in Chinese universities   Data source: Ministry of Education of PRC"
   ]
  },
  {
   "cell_type": "code",
   "execution_count": 2,
   "metadata": {},
   "outputs": [
    {
     "data": {
      "text/html": [
       "<div>\n",
       "<style>\n",
       "    .dataframe thead tr:only-child th {\n",
       "        text-align: right;\n",
       "    }\n",
       "\n",
       "    .dataframe thead th {\n",
       "        text-align: left;\n",
       "    }\n",
       "\n",
       "    .dataframe tbody tr th {\n",
       "        vertical-align: top;\n",
       "    }\n",
       "</style>\n",
       "<table border=\"1\" class=\"dataframe\">\n",
       "  <thead>\n",
       "    <tr style=\"text-align: right;\">\n",
       "      <th></th>\n",
       "      <th>province_name</th>\n",
       "      <th>province</th>\n",
       "      <th>year</th>\n",
       "      <th>patent</th>\n",
       "      <th>student</th>\n",
       "      <th>science</th>\n",
       "      <th>enterprise</th>\n",
       "      <th>RD_num</th>\n",
       "    </tr>\n",
       "  </thead>\n",
       "  <tbody>\n",
       "    <tr>\n",
       "      <th>0</th>\n",
       "      <td>BJ</td>\n",
       "      <td>1.0</td>\n",
       "      <td>2009.0</td>\n",
       "      <td>50236.0</td>\n",
       "      <td>11.21</td>\n",
       "      <td>40.0</td>\n",
       "      <td>1150.0</td>\n",
       "      <td>25.27</td>\n",
       "    </tr>\n",
       "    <tr>\n",
       "      <th>1</th>\n",
       "      <td>BJ</td>\n",
       "      <td>1.0</td>\n",
       "      <td>2010.0</td>\n",
       "      <td>57296.0</td>\n",
       "      <td>11.01</td>\n",
       "      <td>40.0</td>\n",
       "      <td>1103.0</td>\n",
       "      <td>26.99</td>\n",
       "    </tr>\n",
       "    <tr>\n",
       "      <th>2</th>\n",
       "      <td>BJ</td>\n",
       "      <td>1.0</td>\n",
       "      <td>2011.0</td>\n",
       "      <td>77955.0</td>\n",
       "      <td>11.12</td>\n",
       "      <td>39.0</td>\n",
       "      <td>737.0</td>\n",
       "      <td>29.70</td>\n",
       "    </tr>\n",
       "    <tr>\n",
       "      <th>3</th>\n",
       "      <td>BJ</td>\n",
       "      <td>1.0</td>\n",
       "      <td>2012.0</td>\n",
       "      <td>92305.0</td>\n",
       "      <td>11.38</td>\n",
       "      <td>39.0</td>\n",
       "      <td>760.0</td>\n",
       "      <td>32.24</td>\n",
       "    </tr>\n",
       "    <tr>\n",
       "      <th>4</th>\n",
       "      <td>BJ</td>\n",
       "      <td>1.0</td>\n",
       "      <td>2013.0</td>\n",
       "      <td>123336.0</td>\n",
       "      <td>11.41</td>\n",
       "      <td>39.0</td>\n",
       "      <td>782.0</td>\n",
       "      <td>33.42</td>\n",
       "    </tr>\n",
       "  </tbody>\n",
       "</table>\n",
       "</div>"
      ],
      "text/plain": [
       "  province_name  province    year    patent  student  science  enterprise  \\\n",
       "0            BJ       1.0  2009.0   50236.0    11.21     40.0      1150.0   \n",
       "1            BJ       1.0  2010.0   57296.0    11.01     40.0      1103.0   \n",
       "2            BJ       1.0  2011.0   77955.0    11.12     39.0       737.0   \n",
       "3            BJ       1.0  2012.0   92305.0    11.38     39.0       760.0   \n",
       "4            BJ       1.0  2013.0  123336.0    11.41     39.0       782.0   \n",
       "\n",
       "   RD_num  \n",
       "0   25.27  \n",
       "1   26.99  \n",
       "2   29.70  \n",
       "3   32.24  \n",
       "4   33.42  "
      ]
     },
     "execution_count": 2,
     "metadata": {},
     "output_type": "execute_result"
    }
   ],
   "source": [
    "import pandas as pd\n",
    "data = pd.read_csv('./data.csv')\n",
    "data.head()"
   ]
  },
  {
   "cell_type": "markdown",
   "metadata": {},
   "source": [
    "### 2. Data Visualization"
   ]
  },
  {
   "cell_type": "code",
   "execution_count": 3,
   "metadata": {},
   "outputs": [
    {
     "data": {
      "image/png": "[encoded data removed]",
      "text/plain": [
       "<matplotlib.figure.Figure at 0x26224f087f0>"
      ]
     },
     "metadata": {},
     "output_type": "display_data"
    }
   ],
   "source": [
    "import matplotlib.pyplot as plt\n",
    "grouped_year = data.groupby('year')\n",
    "grouped_year['patent'].sum().plot(kind='bar')\n",
    "\n",
    "plt.show()"
   ]
  },
  {
   "cell_type": "code",
   "execution_count": 5,
   "metadata": {
    "scrolled": true
   },
   "outputs": [
    {
     "data": {
      "image/png": "[encoded data removed]",
      "text/plain": [
       "<matplotlib.figure.Figure at 0x26225110208>"
      ]
     },
     "metadata": {},
     "output_type": "display_data"
    }
   ],
   "source": [
    "import matplotlib.pyplot as plt\n",
    "grouped_provience = data.groupby('province_name')\n",
    "grouped_provience['patent'].sum().plot(kind='bar')\n",
    "\n",
    "plt.show()"
   ]
  },
  {
   "cell_type": "code",
   "execution_count": 10,
   "metadata": {},
   "outputs": [
    {
     "data": {
      "image/png": "[encoded data removed]",
      "text/plain": [
       "<matplotlib.figure.Figure at 0x262272f57b8>"
      ]
     },
     "metadata": {},
     "output_type": "display_data"
    },
    {
     "data": {
      "image/png": "[encoded data removed]",
      "text/plain": [
       "<matplotlib.figure.Figure at 0x26227206cf8>"
      ]
     },
     "metadata": {},
     "output_type": "display_data"
    },
    {
     "data": {
      "image/png": "[encoded data removed]",
      "text/plain": [
       "<matplotlib.figure.Figure at 0x2622721f0f0>"
      ]
     },
     "metadata": {},
     "output_type": "display_data"
    },
    {
     "data": {
      "image/png": "[encoded data removed]",
      "text/plain": [
       "<matplotlib.figure.Figure at 0x262271eada0>"
      ]
     },
     "metadata": {},
     "output_type": "display_data"
    }
   ],
   "source": [
    "import matplotlib.pyplot as plt\n",
    "import seaborn as sns\n",
    "import numpy as np\n",
    "import pandas as pd\n",
    "\n",
    "grouped_provience = data.groupby('province_name')\n",
    "grouped_provience['patent','student','science','enterprise','RD_num'].sum()\n",
    "to_plot = ['student','science','enterprise','RD_num']\n",
    "\n",
    "a = grouped_provience['patent','student','science','enterprise','RD_num'].sum()\n",
    "\n",
    "grouped_provience['patent','student','science','enterprise','RD_num'].sum().plot(x=['student'], y=['patent'], kind='scatter', alpha=0.6,color = 'red')\n",
    "grouped_provience['patent','student','science','enterprise','RD_num'].sum().plot(x=['science'], y=['patent'], kind='scatter', alpha=0.6, color = 'green')\n",
    "grouped_provience['patent','student','science','enterprise','RD_num'].sum().plot(x=['enterprise'], y=['patent'], kind='scatter', alpha=0.6, color = 'purple')\n",
    "grouped_provience['patent','student','science','enterprise','RD_num'].sum().plot(x=['RD_num'], y=['patent'], kind='scatter', alpha=0.6, color = 'blue')\n",
    "\n",
    "plt.show()\n"
   ]
  },
  {
   "cell_type": "code",
   "execution_count": 11,
   "metadata": {},
   "outputs": [
    {
     "data": {
      "text/html": [
       "<div>\n",
       "<style>\n",
       "    .dataframe thead tr:only-child th {\n",
       "        text-align: right;\n",
       "    }\n",
       "\n",
       "    .dataframe thead th {\n",
       "        text-align: left;\n",
       "    }\n",
       "\n",
       "    .dataframe tbody tr th {\n",
       "        vertical-align: top;\n",
       "    }\n",
       "</style>\n",
       "<table border=\"1\" class=\"dataframe\">\n",
       "  <thead>\n",
       "    <tr style=\"text-align: right;\">\n",
       "      <th></th>\n",
       "      <th>patent</th>\n",
       "      <th>student</th>\n",
       "      <th>science</th>\n",
       "      <th>enterprise</th>\n",
       "      <th>RD_num</th>\n",
       "    </tr>\n",
       "  </thead>\n",
       "  <tbody>\n",
       "    <tr>\n",
       "      <th>count</th>\n",
       "      <td>186.000000</td>\n",
       "      <td>186.000000</td>\n",
       "      <td>186.000000</td>\n",
       "      <td>186.000000</td>\n",
       "      <td>186.000000</td>\n",
       "    </tr>\n",
       "    <tr>\n",
       "      <th>mean</th>\n",
       "      <td>52142.408602</td>\n",
       "      <td>9.405591</td>\n",
       "      <td>33.204301</td>\n",
       "      <td>841.709677</td>\n",
       "      <td>13.833387</td>\n",
       "    </tr>\n",
       "    <tr>\n",
       "      <th>std</th>\n",
       "      <td>81747.285500</td>\n",
       "      <td>5.775271</td>\n",
       "      <td>19.750366</td>\n",
       "      <td>1249.116445</td>\n",
       "      <td>14.294546</td>\n",
       "    </tr>\n",
       "    <tr>\n",
       "      <th>min</th>\n",
       "      <td>162.000000</td>\n",
       "      <td>0.460000</td>\n",
       "      <td>3.000000</td>\n",
       "      <td>5.000000</td>\n",
       "      <td>0.160000</td>\n",
       "    </tr>\n",
       "    <tr>\n",
       "      <th>25%</th>\n",
       "      <td>6877.500000</td>\n",
       "      <td>5.067500</td>\n",
       "      <td>19.000000</td>\n",
       "      <td>134.250000</td>\n",
       "      <td>4.132500</td>\n",
       "    </tr>\n",
       "    <tr>\n",
       "      <th>50%</th>\n",
       "      <td>23341.500000</td>\n",
       "      <td>8.950000</td>\n",
       "      <td>32.000000</td>\n",
       "      <td>453.500000</td>\n",
       "      <td>9.005000</td>\n",
       "    </tr>\n",
       "    <tr>\n",
       "      <th>75%</th>\n",
       "      <td>57024.000000</td>\n",
       "      <td>13.287500</td>\n",
       "      <td>40.750000</td>\n",
       "      <td>830.000000</td>\n",
       "      <td>16.972500</td>\n",
       "    </tr>\n",
       "    <tr>\n",
       "      <th>max</th>\n",
       "      <td>504500.000000</td>\n",
       "      <td>24.560000</td>\n",
       "      <td>113.000000</td>\n",
       "      <td>5874.000000</td>\n",
       "      <td>67.650000</td>\n",
       "    </tr>\n",
       "  </tbody>\n",
       "</table>\n",
       "</div>"
      ],
      "text/plain": [
       "              patent     student     science   enterprise      RD_num\n",
       "count     186.000000  186.000000  186.000000   186.000000  186.000000\n",
       "mean    52142.408602    9.405591   33.204301   841.709677   13.833387\n",
       "std     81747.285500    5.775271   19.750366  1249.116445   14.294546\n",
       "min       162.000000    0.460000    3.000000     5.000000    0.160000\n",
       "25%      6877.500000    5.067500   19.000000   134.250000    4.132500\n",
       "50%     23341.500000    8.950000   32.000000   453.500000    9.005000\n",
       "75%     57024.000000   13.287500   40.750000   830.000000   16.972500\n",
       "max    504500.000000   24.560000  113.000000  5874.000000   67.650000"
      ]
     },
     "execution_count": 11,
     "metadata": {},
     "output_type": "execute_result"
    }
   ],
   "source": [
    "import pandas as pd\n",
    "import numpy as np\n",
    "import matplotlib.pyplot as plt\n",
    "\n",
    "data = pd.read_csv('./data.csv')\n",
    "data[['patent','student','science','enterprise','RD_num']].describe()"
   ]
  },
  {
   "cell_type": "code",
   "execution_count": 12,
   "metadata": {},
   "outputs": [
    {
     "data": {
      "image/png": "[encoded data removed]",
      "text/plain": [
       "<matplotlib.figure.Figure at 0x2622560e2e8>"
      ]
     },
     "metadata": {},
     "output_type": "display_data"
    }
   ],
   "source": [
    "data.plot(x='enterprise', y='patent', kind='scatter', alpha=0.6, figsize=(12, 8))\n",
    "plt.xlabel('Number of enterprise')\n",
    "plt.ylabel('Number of patents')\n",
    "\n",
    "plt.plot(np.unique(data['enterprise']),\n",
    "         np.poly1d(np.polyfit(data['enterprise'], data['patent'], 1))(np.unique(data['enterprise'])),\n",
    "         color='black', alpha=0.6)\n",
    "\n",
    "plt.grid()\n",
    "plt.show()"
   ]
  },
  {
   "cell_type": "markdown",
   "metadata": {},
   "source": [
    "### 3. OLS linear regression model & Conclusions"
   ]
  },
  {
   "cell_type": "code",
   "execution_count": 13,
   "metadata": {},
   "outputs": [
    {
     "name": "stderr",
     "output_type": "stream",
     "text": [
      "C:\\Users\\Administrator\\Anaconda3\\lib\\site-packages\\statsmodels\\compat\\pandas.py:56: FutureWarning: The pandas.core.datetools module is deprecated and will be removed in a future version. Please use the pandas.tseries module instead.\n",
      "  from pandas.core import datetools\n"
     ]
    },
    {
     "name": "stdout",
     "output_type": "stream",
     "text": [
      "<statsmodels.regression.linear_model.OLS object at 0x0000026227499EF0>\n",
      "                            OLS Regression Results                            \n",
      "==============================================================================\n",
      "Dep. Variable:                 patent   R-squared:                       0.902\n",
      "Model:                            OLS   Adj. R-squared:                  0.899\n",
      "Method:                 Least Squares   F-statistic:                     331.1\n",
      "Date:                Sun, 28 Jan 2018   Prob (F-statistic):           9.66e-89\n",
      "Time:                        21:18:57   Log-Likelihood:                -2151.4\n",
      "No. Observations:                 186   AIC:                             4315.\n",
      "Df Residuals:                     180   BIC:                             4334.\n",
      "Df Model:                           5                                         \n",
      "Covariance Type:            nonrobust                                         \n",
      "==============================================================================\n",
      "                 coef    std err          t      P>|t|      [0.025      0.975]\n",
      "------------------------------------------------------------------------------\n",
      "constant    2887.2682   3999.357      0.722      0.471   -5004.386    1.08e+04\n",
      "student    -2584.2997    570.473     -4.530      0.000   -3709.975   -1458.624\n",
      "science        0.0605      0.015      4.102      0.000       0.031       0.090\n",
      "enterprise    -5.7909      4.264     -1.358      0.176     -14.205       2.623\n",
      "RD_num      4635.9558    395.043     11.735      0.000    3856.444    5415.468\n",
      "inter          0.0023      0.000      5.831      0.000       0.002       0.003\n",
      "==============================================================================\n",
      "Omnibus:                       91.181   Durbin-Watson:                   0.612\n",
      "Prob(Omnibus):                  0.000   Jarque-Bera (JB):              675.820\n",
      "Skew:                           1.669   Prob(JB):                    1.77e-147\n",
      "Kurtosis:                      11.722   Cond. No.                     2.50e+07\n",
      "==============================================================================\n",
      "\n",
      "Warnings:\n",
      "[1] Standard Errors assume that the covariance matrix of the errors is correctly specified.\n",
      "[2] The condition number is large, 2.5e+07. This might indicate that there are\n",
      "strong multicollinearity or other numerical problems.\n"
     ]
    }
   ],
   "source": [
    "import statsmodels.api as sm\n",
    "data['constant'] = 1\n",
    "data['science'] = data['science']**3\n",
    "data['inter'] = data['enterprise']*(data['student']**3)\n",
    "reg = sm.OLS(endog=data['patent'], exog=data[['constant','student', 'science','enterprise','RD_num','inter']], missing='drop')\n",
    "print(reg)\n",
    "results = reg.fit()\n",
    "print(results.summary())"
   ]
  },
  {
   "cell_type": "markdown",
   "metadata": {},
   "source": [
    "#### In the above models, the effect of the number of R & D department employees on the number of patents is significant at a 99% confidence level. However, the introduction of the variable “the number of R & D department employees” leads to the result that the coefficient of “number of university graduates” shows a negative value and that the effect of the number of high-tech enterprises on the dependent variable is not significant. Thus, we delete the variable “number of R & D department employees”."
   ]
  },
  {
   "cell_type": "code",
   "execution_count": 14,
   "metadata": {},
   "outputs": [
    {
     "name": "stdout",
     "output_type": "stream",
     "text": [
      "<statsmodels.regression.linear_model.OLS object at 0x00000262279594A8>\n",
      "                            OLS Regression Results                            \n",
      "==============================================================================\n",
      "Dep. Variable:                 patent   R-squared:                       0.803\n",
      "Model:                            OLS   Adj. R-squared:                  0.801\n",
      "Method:                 Least Squares   F-statistic:                     373.0\n",
      "Date:                Sun, 28 Jan 2018   Prob (F-statistic):           2.77e-65\n",
      "Time:                        21:19:14   Log-Likelihood:                -2216.3\n",
      "No. Observations:                 186   AIC:                             4439.\n",
      "Df Residuals:                     183   BIC:                             4448.\n",
      "Df Model:                           2                                         \n",
      "Covariance Type:            nonrobust                                         \n",
      "==============================================================================\n",
      "                 coef    std err          t      P>|t|      [0.025      0.975]\n",
      "------------------------------------------------------------------------------\n",
      "constant       0.0302      0.003     11.160      0.000       0.025       0.036\n",
      "student        0.1563      0.014     11.160      0.000       0.129       0.184\n",
      "science     6.043e-14   1.47e-14      4.113      0.000    3.14e-14    8.94e-14\n",
      "enterprise    41.3804      3.708     11.160      0.000      34.065      48.696\n",
      "inter          0.0018      0.001      3.061      0.003       0.001       0.003\n",
      "==============================================================================\n",
      "Omnibus:                       71.504   Durbin-Watson:                   0.757\n",
      "Prob(Omnibus):                  0.000   Jarque-Bera (JB):              553.258\n",
      "Skew:                           1.200   Prob(JB):                    7.27e-121\n",
      "Kurtosis:                      11.101   Cond. No.                     6.20e+17\n",
      "==============================================================================\n",
      "\n",
      "Warnings:\n",
      "[1] Standard Errors assume that the covariance matrix of the errors is correctly specified.\n",
      "[2] The condition number is large, 6.2e+17. This might indicate that there are\n",
      "strong multicollinearity or other numerical problems.\n"
     ]
    }
   ],
   "source": [
    "# Remove the \"RD_num\"\n",
    "import statsmodels.api as sm\n",
    "data['constant'] = 1\n",
    "data['science'] = data['science']**3\n",
    "data['inter'] = data['enterprise']*(data['student']**3)\n",
    "reg = sm.OLS(endog=data['patent'], exog=data[['constant','student', 'science','enterprise','inter']], missing='drop')\n",
    "print(reg)\n",
    "results = reg.fit()\n",
    "print(results.summary())"
   ]
  },
  {
   "cell_type": "markdown",
   "metadata": {},
   "source": [
    "#### Effects of the number of high-tech enterprises, the number of university graduates, the number of scientific events, and the interactive term of the number of high-tech enterprises and that of university graduates on the number of patents are all significant at a 99% confidence level. "
   ]
  },
  {
   "cell_type": "code",
   "execution_count": 15,
   "metadata": {},
   "outputs": [
    {
     "data": {
      "image/png": "[encoded data removed]",
      "text/plain": [
       "<matplotlib.figure.Figure at 0x262272e0e10>"
      ]
     },
     "metadata": {},
     "output_type": "display_data"
    }
   ],
   "source": [
    "plt.scatter(results.predict(), results.resid)\n",
    "plt.axhline()\n",
    "plt.show()"
   ]
  },
  {
   "cell_type": "markdown",
   "metadata": {},
   "source": [
    "#### From the above plot, we can see that heteroskedascity is present. Therefore, robust standard errors should be used."
   ]
  },
  {
   "cell_type": "code",
   "execution_count": 16,
   "metadata": {},
   "outputs": [
    {
     "name": "stdout",
     "output_type": "stream",
     "text": [
      "                            OLS Regression Results                            \n",
      "==============================================================================\n",
      "Dep. Variable:                 patent   R-squared:                       0.803\n",
      "Model:                            OLS   Adj. R-squared:                  0.801\n",
      "Method:                 Least Squares   F-statistic:                     56.82\n",
      "Date:                Sun, 28 Jan 2018   Prob (F-statistic):           4.28e-31\n",
      "Time:                        21:19:36   Log-Likelihood:                -2216.3\n",
      "No. Observations:                 186   AIC:                             4439.\n",
      "Df Residuals:                     183   BIC:                             4448.\n",
      "Df Model:                           2                                         \n",
      "Covariance Type:                  HC0                                         \n",
      "==============================================================================\n",
      "                 coef    std err          z      P>|z|      [0.025      0.975]\n",
      "------------------------------------------------------------------------------\n",
      "constant       0.0302      0.007      4.589      0.000       0.017       0.043\n",
      "student        0.1563      0.034      4.589      0.000       0.090       0.223\n",
      "science     6.043e-14   3.12e-14      1.935      0.053   -7.85e-16    1.22e-13\n",
      "enterprise    41.3804      9.018      4.589      0.000      23.705      59.056\n",
      "inter          0.0018      0.001      1.337      0.181      -0.001       0.004\n",
      "==============================================================================\n",
      "Omnibus:                       71.504   Durbin-Watson:                   0.757\n",
      "Prob(Omnibus):                  0.000   Jarque-Bera (JB):              553.258\n",
      "Skew:                           1.200   Prob(JB):                    7.27e-121\n",
      "Kurtosis:                      11.101   Cond. No.                     6.20e+17\n",
      "==============================================================================\n",
      "\n",
      "Warnings:\n",
      "[1] Standard Errors are heteroscedasticity robust (HC0)\n",
      "[2] The condition number is large, 6.2e+17. This might indicate that there are\n",
      "strong multicollinearity or other numerical problems.\n"
     ]
    }
   ],
   "source": [
    "results = reg.fit(cov_type='HC0') # cov_type = 'HC0' -- corrects the error caused by heteroskedasticity\n",
    "print(results.summary())"
   ]
  },
  {
   "cell_type": "markdown",
   "metadata": {},
   "source": [
    "#### After dealing with the problem of heteroskedascity, we come to the following conclusions:\n",
    "#### 1.The effect of the number of high-tech enterprises on the number of patents is significant at a 99% confidence level.\n",
    "#### 2.The effect of the number of university graduates on the number of patents is significant at a 99% confidence level.\n",
    "#### 3.The effect of the number of scientific events on the number of patents is significant at a 90% confidence level.\n",
    "#### 4.The effect of the interactive term between the number of high-tech enterprises and that of university graduates is significant at a 99% confidence level."
   ]
  },
  {
   "cell_type": "markdown",
   "metadata": {},
   "source": [
    "### 4. Ecomomic meanings"
   ]
  },
  {
   "cell_type": "markdown",
   "metadata": {},
   "source": [
    "#### Due to the conclusion, it is clear that our research has the following economic meanings:\n",
    "#### 1.The government is supposed to encourage the development of high-tech companies. By providing tax relief and supporting infrastructure construction, the government can contribute to the rapid progress of high-tech companies.\n",
    "#### 2.Innovation is essential for our country, so high-level education for under-graduates should be supported and activities related to science should be promoted.\n",
    "#### 3.Nowadays, more and more universities have engaged in the cooperation with big name companies, which is quite beneficial for the economic and scientific development. Thus, this way of talent cultivation should be continued and improved."
   ]
  }
 ],
 "metadata": {
  "kernelspec": {
   "display_name": "Python 3",
   "language": "python",
   "name": "python3"
  },
  "language_info": {
   "codemirror_mode": {
    "name": "ipython",
    "version": 3
   },
   "file_extension": ".py",
   "mimetype": "text/x-python",
   "name": "python",
   "nbconvert_exporter": "python",
   "pygments_lexer": "ipython3",
   "version": "3.6.3"
  }
 },
 "nbformat": 4,
 "nbformat_minor": 2
}
