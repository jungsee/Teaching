{
 "cells": [
  {
   "cell_type": "markdown",
   "metadata": {},
   "source": [
    "# Group Assignment\n",
    "## Members: Yang LI, Yi LIANG, Yuwen CHE, Yun LI, Xiaoyi HAO, Hemin HE"
   ]
  },
  {
   "cell_type": "markdown",
   "metadata": {},
   "source": [
    "## Object Oriented Programming\n",
    "### Exercise 1"
   ]
  },
  {
   "cell_type": "code",
   "execution_count": 1,
   "metadata": {
    "collapsed": true
   },
   "outputs": [],
   "source": [
    "class Tax:\n",
    "    \n",
    "    def __init__(self,revenue,costs):\n",
    "        self.revenue,self.costs = revenue,costs\n",
    "        self.brackets = [1,2,5]\n",
    "        self.percent =[0.1,0.15,0.2,0.25]\n",
    "        \n",
    "    def set_revenue(self,revenue):\n",
    "        self.revenue = revenue\n",
    "    \n",
    "    def set_costs(self,costs):\n",
    "        self.costs = costs\n",
    "    \n",
    "    def set_brackets(self,brackets):\n",
    "        self.brackets = brackets\n",
    "        \n",
    "    def set_percent(self,percent):\n",
    "        self.percent = percent\n",
    "    \n",
    "    def compute_income(self):\n",
    "        self.income = self.revenue - self.costs\n",
    "        return self.income\n",
    "    \n",
    "    def compute_tax(self):\n",
    "        self.compute_income()\n",
    "        if self.income <= self.brackets[0]:\n",
    "            self.tax = self.income * self.percent[0]\n",
    "        elif self.income <= self.brackets[1]:\n",
    "            self.tax = 1 * self.percent[0] + (self.income - 1) * self.percent[1]\n",
    "        elif self.income <= self.brackets[2]:\n",
    "            self.tax = 1 * (self.percent[0] + self.percent[1])+ (self.income - 2) * self.percent[2]\n",
    "        else:\n",
    "            self.tax = 1 * (self.percent[0] + self.percent[1] + 3 * self.percent[2]) + (self.income - 5) * self.percent[3]\n",
    "        return self.tax\n",
    "    \n",
    "    def compute_average_tax_rate(self):\n",
    "        self.compute_income()  \n",
    "        self.compute_tax()\n",
    "        self.average_tax_rate = round(self.tax / self.income,3)\n",
    "        return self.average_tax_rate     "
   ]
  },
  {
   "cell_type": "code",
   "execution_count": 2,
   "metadata": {},
   "outputs": [
    {
     "name": "stdout",
     "output_type": "stream",
     "text": [
      "Income: 10 Million\n",
      "Tax: 2.1 Million\n",
      "Rate: 21.0 Percent\n"
     ]
    }
   ],
   "source": [
    "Firm_1 = Tax(105,95)\n",
    "print('Income:', Firm_1.compute_income(), 'Million')\n",
    "print('Tax:', Firm_1.compute_tax(), 'Million')\n",
    "print('Rate:', Firm_1.compute_average_tax_rate()*100, 'Percent')"
   ]
  },
  {
   "cell_type": "code",
   "execution_count": 3,
   "metadata": {},
   "outputs": [
    {
     "name": "stdout",
     "output_type": "stream",
     "text": [
      "Income: 3 Million\n",
      "Tax: 0.45 Million\n",
      "Rate: 15.0 Percent\n"
     ]
    }
   ],
   "source": [
    "Firm_2 = Tax(13,10)\n",
    "print('Income:', Firm_2.compute_income(), 'Million')\n",
    "print('Tax:', Firm_2.compute_tax(), 'Million')\n",
    "print('Rate:', Firm_2.compute_average_tax_rate()*100, 'Percent')"
   ]
  },
  {
   "cell_type": "markdown",
   "metadata": {},
   "source": [
    "### Exercise 2"
   ]
  },
  {
   "cell_type": "code",
   "execution_count": 4,
   "metadata": {
    "collapsed": true
   },
   "outputs": [],
   "source": [
    "import random as rd\n",
    "import numpy as np\n",
    "\n",
    "class Roulette:\n",
    "    \n",
    "    def __init__(self,stash):\n",
    "        self.stash = stash\n",
    "        self.house_earnings = 0\n",
    "        \n",
    "    def add_money(self,additional):\n",
    "        self.stash += additional\n",
    "    \n",
    "    def check_stash(self):\n",
    "        print('Current stash:',self.stash)\n",
    "        \n",
    "    def check_house_earnings(self):\n",
    "        return self.house_earnings\n",
    "        \n",
    "    def roll(self):\n",
    "        bet_type = input('\\nIf straight up, just input the number between 0 and 36. O for odd, E for even. R for red, B for black.\\nNotice: Wrong input would cost you 5 dollars as the fine.\\nChoose bet type:') \n",
    "        \n",
    "        #exception: wrong bet type\n",
    "        Right_num = ['0','1','3','5','7','9','12','14','16','18','19','21','23','25','27','30','32','34','36','2','4','6','8','10','11','13','15','17','20','22','24','26','28','29','31','33','35'] # numbers can be input\n",
    "        Right_sym = np.array(['O','E','R','B'])   # symbols can be input\n",
    "        Right_bet = np.append( Right_num,Right_sym)\n",
    "        \n",
    "        if not bet_type in Right_bet:\n",
    "            print('Your entry is not allowed.')\n",
    "            self.stash -= 5\n",
    "            self.house_earnings +=  5\n",
    "            return self.check_stash()\n",
    "    \n",
    "        try:\n",
    "            bet_amount = float(input('\\nNotice: Wrong input would cost you 5% of your stash as the fine.\\nChoose bet amount:') )\n",
    "        except ValueError:\n",
    "            print('Your entry is not allowed.')\n",
    "            self.stash -= 0.05 * self.stash\n",
    "            self.house_earnings +=  0.05 * self.house_earnings\n",
    "            return self.check_stash()\n",
    "\n",
    "            \n",
    "        #exception: not allowed bet amount\n",
    "        if bet_amount > self.stash or bet_amount <= 0:\n",
    "            print('Your entry is not allowed.')\n",
    "            self.stash -= 0.05 * self.stash\n",
    "            self.house_earnings +=  0.05 * self.house_earnings\n",
    "            return self.check_stash()\n",
    "\n",
    "\n",
    "        roll_number = rd.randint(0,36) # the rolling number\n",
    "        print('You rolled ',roll_number)\n",
    "        \n",
    "        # choice description \n",
    "        odd = np.linspace(1,35,18)\n",
    "        even = np.linspace(2,36,18)\n",
    "        red = [1,3,5,7,9,12,14,16,18,19,21,23,25,27,30,32,34,36]\n",
    "        black = [2,4,6,8,10,11,13,15,17,20,22,24,26,28,29,31,33,35]\n",
    "        \n",
    "        \n",
    "        if bet_type in ['O','E']:\n",
    "            if (roll_number in odd and bet_type == 'O') or (roll_number in even and bet_type == 'E') :\n",
    "                print('You win =)')\n",
    "                self.stash += bet_amount \n",
    "                self.house_earnings -=  bet_amount \n",
    "                return self.check_stash()\n",
    "            else:\n",
    "                print('You lose =(')\n",
    "                self.stash -= bet_amount \n",
    "                self.house_earnings +=  bet_amount \n",
    "                return self.check_stash()\n",
    "        elif bet_type in ['R','B']:\n",
    "            if (roll_number in red and bet_type == 'R') or (roll_number in black and bet_type == 'B') :\n",
    "                print('You win =)')\n",
    "                self.stash += bet_amount \n",
    "                self.house_earnings -=  bet_amount \n",
    "                return self.check_stash()\n",
    "            else:\n",
    "                print('You lose =(')\n",
    "                self.stash -= bet_amount \n",
    "                self.house_earnings +=  bet_amount \n",
    "                return self.check_stash()\n",
    "        else:\n",
    "            if int(bet_type) == roll_number:\n",
    "                print('You win =)')\n",
    "                self.stash += bet_amount * 35\n",
    "                self.house_earnings -=  bet_amount * 35\n",
    "                return self.check_stash()\n",
    "            else:\n",
    "                print('You lose =(')\n",
    "                self.stash -= bet_amount \n",
    "                self.house_earnings +=  bet_amount \n",
    "                return self.check_stash()\n",
    "  \n",
    "        \n",
    "    \n",
    "        "
   ]
  },
  {
   "cell_type": "code",
   "execution_count": 5,
   "metadata": {},
   "outputs": [
    {
     "name": "stdout",
     "output_type": "stream",
     "text": [
      "\n",
      "If straight up, just input the number between 0 and 36. O for odd, E for even. R for red, B for black.\n",
      "Notice: Wrong input would cost you 5 dollars as the fine.\n",
      "Choose bet type:50\n",
      "Your entry is not allowed.\n",
      "Current stash: 95\n",
      "\n",
      "If straight up, just input the number between 0 and 36. O for odd, E for even. R for red, B for black.\n",
      "Notice: Wrong input would cost you 5 dollars as the fine.\n",
      "Choose bet type:5\n",
      "\n",
      "Notice: Wrong input would cost you 5% of your stash as the fine.\n",
      "Choose bet amount:50\n",
      "You rolled  15\n",
      "You lose =(\n",
      "Current stash: 150.0\n",
      "House earning: 55.0\n"
     ]
    }
   ],
   "source": [
    "Player_1 = Roulette(100)\n",
    "Player_1.roll()\n",
    "Player_2 = Roulette(200)\n",
    "Player_2.roll()\n",
    "print('House earning:', Player_1.check_house_earnings()+Player_2.check_house_earnings())"
   ]
  },
  {
   "cell_type": "markdown",
   "metadata": {},
   "source": [
    "### Exercise 3"
   ]
  },
  {
   "cell_type": "code",
   "execution_count": 6,
   "metadata": {
    "collapsed": true
   },
   "outputs": [],
   "source": [
    "import numpy as np\n",
    "\n",
    "class ECDF:\n",
    "    \n",
    "    def __init__(self,oberservations):\n",
    "        self.oberservations = np.array(oberservations)\n",
    "    \n",
    "    def __call__(self,x):\n",
    "        return round(np.mean(self.oberservations <= x),2)"
   ]
  },
  {
   "cell_type": "code",
   "execution_count": 7,
   "metadata": {},
   "outputs": [
    {
     "data": {
      "text/plain": [
       "0.66000000000000003"
      ]
     },
     "execution_count": 7,
     "metadata": {},
     "output_type": "execute_result"
    }
   ],
   "source": [
    "X = np.random.randn(1000)\n",
    "F = ECDF(X)\n",
    "F.__call__(0.5)"
   ]
  },
  {
   "cell_type": "markdown",
   "metadata": {},
   "source": [
    "### Exercise 4"
   ]
  },
  {
   "cell_type": "code",
   "execution_count": 8,
   "metadata": {
    "collapsed": true
   },
   "outputs": [],
   "source": [
    "import numpy as ny\n",
    "\n",
    "class Polynomial:\n",
    "    \n",
    "    def __init__(self,x,coeff):\n",
    "        self.x = x\n",
    "        self.coeff = coeff\n",
    "        \n",
    "    def evaluate_polynomial(self):\n",
    "        A = np.empty(len(self.coeff))\n",
    "        A[0] = 1\n",
    "        A[1:] = self.x\n",
    "        B = np.cumprod(A)   # y = [1, x, x**2,...]\n",
    "        return self.coeff @ B\n",
    "    \n",
    "    def evaluate_polynomial_update_coeff(self):\n",
    "        C = np.linspace(0,len(self.coeff)-1,len(self.coeff))\n",
    "        self.coeff = C * self.coeff\n",
    "        print('New coefficient:',self.coeff)\n",
    "        return self.evaluate_polynomial()"
   ]
  },
  {
   "cell_type": "code",
   "execution_count": 9,
   "metadata": {},
   "outputs": [
    {
     "name": "stdout",
     "output_type": "stream",
     "text": [
      "polynomial: 17.0\n",
      "New coefficient: [ 0.  2.  6.]\n",
      "polynomial with new coefficient: 28.0\n"
     ]
    }
   ],
   "source": [
    "P1 = Polynomial(2,[1,2,3])\n",
    "print('polynomial:', P1.evaluate_polynomial())\n",
    "print('polynomial with new coefficient:', P1.evaluate_polynomial_update_coeff())"
   ]
  },
  {
   "cell_type": "code",
   "execution_count": 10,
   "metadata": {
    "collapsed": true
   },
   "outputs": [],
   "source": [
    "class Polynomial:\n",
    "    \n",
    "    def __init__(self,x,coeff):\n",
    "        self.x = x\n",
    "        self.coeff = coeff\n",
    "        \n",
    "    def evaluate_polynomial(self):\n",
    "        poly = 0\n",
    "        for i in range(len(self.coeff)):\n",
    "            poly += self.coeff[i] * (self.x**i)\n",
    "        return poly\n",
    "    \n",
    "    def evaluate_polynomial_update_coeff(self):\n",
    "        for i in range(len(self.coeff)):\n",
    "            self.coeff[i] = i * self.coeff[i]\n",
    "        print('New coefficient:',self.coeff)\n",
    "        return self.evaluate_polynomial()"
   ]
  },
  {
   "cell_type": "code",
   "execution_count": 11,
   "metadata": {},
   "outputs": [
    {
     "name": "stdout",
     "output_type": "stream",
     "text": [
      "polynomial: 17\n",
      "New coefficient: [0, 2, 6]\n",
      "polynomial with new coefficient: 28\n"
     ]
    }
   ],
   "source": [
    "P1 = Polynomial(2,[1,2,3])\n",
    "print('polynomial:', P1.evaluate_polynomial())\n",
    "print('polynomial with new coefficient:', P1.evaluate_polynomial_update_coeff())"
   ]
  },
  {
   "cell_type": "markdown",
   "metadata": {},
   "source": [
    "## Dynamic Programming\n",
    "### Exercise 1"
   ]
  },
  {
   "cell_type": "code",
   "execution_count": 5,
   "metadata": {},
   "outputs": [
    {
     "data": {
      "image/png": "[encoded data removed]",
      "text/plain": [
       "<matplotlib.figure.Figure at 0x82e3940>"
      ]
     },
     "metadata": {},
     "output_type": "display_data"
    },
    {
     "name": "stdout",
     "output_type": "stream",
     "text": [
      "Time elapsed:  3.815217971801758\n"
     ]
    }
   ],
   "source": [
    "import numpy as np\n",
    "import matplotlib.pyplot as plt\n",
    "import time\n",
    "\n",
    "start = time.time()\n",
    "\n",
    "beta = 0.95 \n",
    "num_points = 100\n",
    "tol = 10**(-5) \n",
    "\n",
    "w_vec = np.reshape(np.linspace(0.1,100,num_points),num_points) \n",
    "wprime = w_vec-0.005\n",
    "value_old_l = np.ones(num_points) \n",
    "value_new_l = np.zeros(num_points)\n",
    "value_old_h = np.ones(num_points) \n",
    "value_new_h = np.zeros(num_points)\n",
    "policy_l = np.zeros(num_points)\n",
    "policy_h = np.zeros(num_points)\n",
    "ctr = 0\n",
    "\n",
    "while(np.max(np.abs(value_old_l-value_new_l)) or  np.max(np.abs(value_old_h-value_new_h))> tol):\n",
    "    np.copyto(value_old_l,value_new_l)\n",
    "    np.copyto(value_old_h,value_new_h)\n",
    "    for ii in np.arange(num_points): \n",
    "        value_new_l[ii] = np.max(np.log(w_vec[ii]-wprime[wprime<=w_vec[ii]])+0.9*beta*value_old_l[wprime<=w_vec[ii]]+0.1*beta*value_old_h[wprime<=w_vec[ii]])\n",
    "        value_new_h[ii] = np.max(np.log(w_vec[ii]-wprime[wprime<=w_vec[ii]])+0.6*beta*value_old_h[wprime<=w_vec[ii]]+0.4*beta*value_old_l[wprime<=w_vec[ii]])\n",
    "        policy_l[ii] = np.argmax(np.log(w_vec[ii]-wprime[wprime<=w_vec[ii]])+0.9*beta*value_old_l[wprime<=w_vec[ii]]+0.1*beta*value_old_h[wprime<=w_vec[ii]])\n",
    "        policy_h[ii] = np.argmax(np.log(w_vec[ii]-wprime[wprime<=w_vec[ii]])+0.6*beta*value_old_h[wprime<=w_vec[ii]]+0.4*beta*value_old_l[wprime<=w_vec[ii]])\n",
    "    ctr = ctr+1\n",
    "\n",
    "plt.plot(w_vec, value_new_h, 'r-',w_vec, value_new_l, 'b--', linewidth=2)\n",
    "# plt.plot(w_vec, policy_h, 'g--',w_vec, policy_l, 'y--', linewidth=2)\n",
    "plt.show()\n",
    "\n",
    "end = time.time()\n",
    "print('Time elapsed: ', end-start)"
   ]
  },
  {
   "cell_type": "code",
   "execution_count": 4,
   "metadata": {},
   "outputs": [
    {
     "data": {
      "image/png": "[encoded data removed]",
      "text/plain": [
       "<matplotlib.figure.Figure at 0x82dee10>"
      ]
     },
     "metadata": {},
     "output_type": "display_data"
    }
   ],
   "source": [
    "plt.plot(w_vec, policy_h, 'r-',w_vec, policy_l, 'b--', linewidth=2)\n",
    "plt.show()"
   ]
  },
  {
   "cell_type": "markdown",
   "metadata": {},
   "source": [
    "### Interpretation: Since the utility functions for high and low states share the same form, there is no essential difference between the two states in terms of their influence on consumers' choices. Therefore, the value functions and the policy functions of the two states coincide in the simulation. "
   ]
  }
 ],
 "metadata": {
  "kernelspec": {
   "display_name": "Python 3",
   "language": "python",
   "name": "python3"
  },
  "language_info": {
   "codemirror_mode": {
    "name": "ipython",
    "version": 3
   },
   "file_extension": ".py",
   "mimetype": "text/x-python",
   "name": "python",
   "nbconvert_exporter": "python",
   "pygments_lexer": "ipython3",
   "version": "3.6.1"
  }
 },
 "nbformat": 4,
 "nbformat_minor": 2
}
