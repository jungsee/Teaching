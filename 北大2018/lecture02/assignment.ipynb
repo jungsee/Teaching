{
 "cells": [
  {
   "cell_type": "markdown",
   "metadata": {},
   "source": [
    "# Data Analysis Assignment"
   ]
  },
  {
   "cell_type": "markdown",
   "metadata": {},
   "source": [
    "* This assignment will be much more open-ended than other assignments\n",
    "* There are no right or wrong answers\n",
    "* I want you to experiment with the pandas and statsmodels library\n",
    "* You may find searching the documentation of these packages useful \n",
    "* Please produce a report in the form of a Jupyter notebook\n",
    "* Should take around 2 - 3 hours"
   ]
  },
  {
   "cell_type": "markdown",
   "metadata": {},
   "source": [
    "### 1. Pick a topic that interests you and find a data set\n",
    "\n",
    "This can be anything that interests you - economics, education, environmental, etc.\n",
    "\n",
    "Think of potential questions that you may be interested in, ie. is education level related to higher wages?\n",
    "\n",
    "Some useful places to start are:\n",
    "* https://fred.stlouisfed.org/\n",
    "* https://data.oecd.org/\n",
    "* https://data.worldbank.org/\n",
    "* https://github.com/fivethirtyeight/data/\n",
    "\n",
    "This page has interesting questions that you may wish to expand upon: http://www.worldbank.org/en/news/feature/2017/12/15/year-in-review-2017-in-12-charts"
   ]
  },
  {
   "cell_type": "markdown",
   "metadata": {},
   "source": [
    "### 2. Explore the data using pandas and create at least 3 plots\n",
    "\n",
    "You may need to first clean up the data and reshape it\n",
    "\n",
    "The plots should highlight interesting relationships in your data\n",
    "\n",
    "Aim to create a variety of plots - bar plots, line plots, distributions, etc.\n",
    "\n",
    "You may use any plotting library\n",
    "\n",
    "Be sure to explain what your plot shows with text"
   ]
  },
  {
   "cell_type": "markdown",
   "metadata": {},
   "source": [
    "### 3. Develop a hypothesis and test it econometrically\n",
    "\n",
    "Using you data analysis from above, develop at least one hypothesis or question\n",
    "\n",
    "You should write out your linear regression equation\n",
    "\n",
    "Your model should be a simple linear regression, so think about variables in your data that may be linearly related\n",
    "\n",
    "Use statsmodels to fit a linear model to your data and report your results\n",
    "\n",
    "You may consider runnning multiple regressions with different variables"
   ]
  },
  {
   "cell_type": "markdown",
   "metadata": {},
   "source": [
    "### 4. Write a conclusion\n",
    "\n",
    "Summarize what you have found\n",
    "\n",
    "Did you plots reveal interesting relationships in your data?\n",
    "\n",
    "Were your results statistically significant?\n",
    "\n",
    "Are there any further questions that should be evaluated?"
   ]
  },
  {
   "cell_type": "code",
   "execution_count": null,
   "metadata": {
    "collapsed": true
   },
   "outputs": [],
   "source": []
  }
 ],
 "metadata": {
  "kernelspec": {
   "display_name": "Python 3",
   "language": "python",
   "name": "python3"
  },
  "language_info": {
   "codemirror_mode": {
    "name": "ipython",
    "version": 3
   },
   "file_extension": ".py",
   "mimetype": "text/x-python",
   "name": "python",
   "nbconvert_exporter": "python",
   "pygments_lexer": "ipython3",
   "version": "3.6.2"
  }
 },
 "nbformat": 4,
 "nbformat_minor": 2
}
