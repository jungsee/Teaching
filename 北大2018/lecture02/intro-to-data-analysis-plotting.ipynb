{
 "cells": [
  {
   "cell_type": "markdown",
   "metadata": {},
   "source": [
    "# Introduction to Data Analysis and Plotting in Python\n",
    "\n",
    "* Introduce Pandas for data handling and analysis\n",
    "* Use Matplotlib, Seaborn and Bokeh for visualization\n",
    "* interactive with simple exercises along the way"
   ]
  },
  {
   "cell_type": "markdown",
   "metadata": {},
   "source": [
    "## What is pandas?\n",
    "\n",
    "* Pandas provides structures for working with data (`Series`, `DataFrame`)\n",
    "\n",
    "* Data structures have **methods** for manipulating data eg. indexing, sorting, grouping, filling in missing data\n",
    "\n",
    "* Pandas does not provide modeling tools eg. regression, prediction\n",
    "    * These tools are found in packages such as `scikit-learn` and `statsmodels`, which are built on top of pandas"
   ]
  },
  {
   "cell_type": "markdown",
   "metadata": {},
   "source": [
    "## DataFrames\n",
    "\n",
    "A `DataFrame` combines multiple 'columns' of data into a two-dimensional object, similar to a spreadsheet"
   ]
  },
  {
   "cell_type": "code",
   "execution_count": 1,
   "metadata": {},
   "outputs": [
    {
     "data": {
      "image/jpeg": "[encoded data removed]",
      "text/plain": [
       "<IPython.core.display.Image object>"
      ]
     },
     "execution_count": 1,
     "metadata": {},
     "output_type": "execute_result"
    }
   ],
   "source": [
    "from IPython.display import Image\n",
    "Image('./dataframe.jpg')"
   ]
  },
  {
   "cell_type": "markdown",
   "metadata": {},
   "source": [
    "We will create a `DataFrame` by reading in a Stata file and assigning it to the variable name `volume`"
   ]
  },
  {
   "cell_type": "markdown",
   "metadata": {},
   "source": [
    "### Info on the data set\n",
    "\n",
    "* The data come from ['Assessing the Rate of Replication in Economics'](https://www.aeaweb.org/articles?id=10.1257/aer.p20171119), *American Economics Review: Papers & Proceedings*, 2017\n",
    "* The dataframe `volume` contains 70 empirical papers from AER's 100th volume\n",
    "* `volWoS`: number of Web of Science citations\n",
    "* `volTop200Econ`: number of Top 200 economics journal citations\n",
    "* `volGScites`: number of Google Scholar citations"
   ]
  },
  {
   "cell_type": "code",
   "execution_count": 2,
   "metadata": {
    "scrolled": true
   },
   "outputs": [
    {
     "data": {
      "text/html": [
       "<div>\n",
       "<style>\n",
       "    .dataframe thead tr:only-child th {\n",
       "        text-align: right;\n",
       "    }\n",
       "\n",
       "    .dataframe thead th {\n",
       "        text-align: left;\n",
       "    }\n",
       "\n",
       "    .dataframe tbody tr th {\n",
       "        vertical-align: top;\n",
       "    }\n",
       "</style>\n",
       "<table border=\"1\" class=\"dataframe\">\n",
       "  <thead>\n",
       "    <tr style=\"text-align: right;\">\n",
       "      <th></th>\n",
       "      <th>volID</th>\n",
       "      <th>volTitle</th>\n",
       "      <th>volCoder</th>\n",
       "      <th>volWoS</th>\n",
       "      <th>volTop200Econ</th>\n",
       "      <th>volGScites</th>\n",
       "      <th>volField</th>\n",
       "    </tr>\n",
       "  </thead>\n",
       "  <tbody>\n",
       "    <tr>\n",
       "      <th>0</th>\n",
       "      <td>2</td>\n",
       "      <td>Learning about a New Technology: Pineapple in ...</td>\n",
       "      <td>3.0</td>\n",
       "      <td>176</td>\n",
       "      <td>108.0</td>\n",
       "      <td>1246</td>\n",
       "      <td>Development</td>\n",
       "    </tr>\n",
       "    <tr>\n",
       "      <th>1</th>\n",
       "      <td>3</td>\n",
       "      <td>Multiple-Product Firms and Product Switching</td>\n",
       "      <td>5.0</td>\n",
       "      <td>111</td>\n",
       "      <td>74.0</td>\n",
       "      <td>764</td>\n",
       "      <td>Labor/IO</td>\n",
       "    </tr>\n",
       "    <tr>\n",
       "      <th>2</th>\n",
       "      <td>4</td>\n",
       "      <td>Momma's Got the Pill\": How Anthony Comstock an...</td>\n",
       "      <td>5.0</td>\n",
       "      <td>23</td>\n",
       "      <td>15.0</td>\n",
       "      <td>98</td>\n",
       "      <td>Labor/IO</td>\n",
       "    </tr>\n",
       "    <tr>\n",
       "      <th>3</th>\n",
       "      <td>5</td>\n",
       "      <td>Matching and Sorting in Online Dating</td>\n",
       "      <td>1.0</td>\n",
       "      <td>75</td>\n",
       "      <td>23.0</td>\n",
       "      <td>326</td>\n",
       "      <td>Labor/IO</td>\n",
       "    </tr>\n",
       "    <tr>\n",
       "      <th>4</th>\n",
       "      <td>6</td>\n",
       "      <td>Entry, Exit, and Investment-Specific Technical...</td>\n",
       "      <td>2.0</td>\n",
       "      <td>9</td>\n",
       "      <td>9.0</td>\n",
       "      <td>38</td>\n",
       "      <td>Macro/Int/Trade</td>\n",
       "    </tr>\n",
       "  </tbody>\n",
       "</table>\n",
       "</div>"
      ],
      "text/plain": [
       "   volID                                           volTitle  volCoder  volWoS  \\\n",
       "0      2  Learning about a New Technology: Pineapple in ...       3.0     176   \n",
       "1      3       Multiple-Product Firms and Product Switching       5.0     111   \n",
       "2      4  Momma's Got the Pill\": How Anthony Comstock an...       5.0      23   \n",
       "3      5              Matching and Sorting in Online Dating       1.0      75   \n",
       "4      6  Entry, Exit, and Investment-Specific Technical...       2.0       9   \n",
       "\n",
       "   volTop200Econ  volGScites         volField  \n",
       "0          108.0        1246      Development  \n",
       "1           74.0         764         Labor/IO  \n",
       "2           15.0          98         Labor/IO  \n",
       "3           23.0         326         Labor/IO  \n",
       "4            9.0          38  Macro/Int/Trade  "
      ]
     },
     "execution_count": 2,
     "metadata": {},
     "output_type": "execute_result"
    }
   ],
   "source": [
    "import pandas as pd  # Import the package\n",
    "\n",
    "volume = pd.read_stata('./VolumePaperData.dta')\n",
    "volume.head()"
   ]
  },
  {
   "cell_type": "code",
   "execution_count": 3,
   "metadata": {},
   "outputs": [
    {
     "name": "stdout",
     "output_type": "stream",
     "text": [
      "<class 'pandas.core.frame.DataFrame'>\n",
      "Int64Index: 70 entries, 0 to 69\n",
      "Data columns (total 7 columns):\n",
      "volID            70 non-null int16\n",
      "volTitle         70 non-null object\n",
      "volCoder         70 non-null float32\n",
      "volWoS           70 non-null int32\n",
      "volTop200Econ    70 non-null float64\n",
      "volGScites       70 non-null int16\n",
      "volField         70 non-null category\n",
      "dtypes: category(1), float32(1), float64(1), int16(2), int32(1), object(1)\n",
      "memory usage: 2.7+ KB\n"
     ]
    }
   ],
   "source": [
    "volume.info()"
   ]
  },
  {
   "cell_type": "markdown",
   "metadata": {},
   "source": [
    "We can access individual columns of data, returning a `Series`"
   ]
  },
  {
   "cell_type": "code",
   "execution_count": 4,
   "metadata": {},
   "outputs": [
    {
     "data": {
      "text/plain": [
       "0    176\n",
       "1    111\n",
       "2     23\n",
       "3     75\n",
       "4      9\n",
       "Name: volWoS, dtype: int32"
      ]
     },
     "execution_count": 4,
     "metadata": {},
     "output_type": "execute_result"
    }
   ],
   "source": [
    "volume['volWoS'].head()"
   ]
  },
  {
   "cell_type": "markdown",
   "metadata": {},
   "source": [
    "We can also select multiple columns, returning a new dataframe"
   ]
  },
  {
   "cell_type": "code",
   "execution_count": 5,
   "metadata": {},
   "outputs": [
    {
     "data": {
      "text/html": [
       "<div>\n",
       "<style>\n",
       "    .dataframe thead tr:only-child th {\n",
       "        text-align: right;\n",
       "    }\n",
       "\n",
       "    .dataframe thead th {\n",
       "        text-align: left;\n",
       "    }\n",
       "\n",
       "    .dataframe tbody tr th {\n",
       "        vertical-align: top;\n",
       "    }\n",
       "</style>\n",
       "<table border=\"1\" class=\"dataframe\">\n",
       "  <thead>\n",
       "    <tr style=\"text-align: right;\">\n",
       "      <th></th>\n",
       "      <th>volTitle</th>\n",
       "      <th>volWoS</th>\n",
       "    </tr>\n",
       "  </thead>\n",
       "  <tbody>\n",
       "    <tr>\n",
       "      <th>0</th>\n",
       "      <td>Learning about a New Technology: Pineapple in ...</td>\n",
       "      <td>176</td>\n",
       "    </tr>\n",
       "    <tr>\n",
       "      <th>1</th>\n",
       "      <td>Multiple-Product Firms and Product Switching</td>\n",
       "      <td>111</td>\n",
       "    </tr>\n",
       "    <tr>\n",
       "      <th>2</th>\n",
       "      <td>Momma's Got the Pill\": How Anthony Comstock an...</td>\n",
       "      <td>23</td>\n",
       "    </tr>\n",
       "    <tr>\n",
       "      <th>3</th>\n",
       "      <td>Matching and Sorting in Online Dating</td>\n",
       "      <td>75</td>\n",
       "    </tr>\n",
       "    <tr>\n",
       "      <th>4</th>\n",
       "      <td>Entry, Exit, and Investment-Specific Technical...</td>\n",
       "      <td>9</td>\n",
       "    </tr>\n",
       "  </tbody>\n",
       "</table>\n",
       "</div>"
      ],
      "text/plain": [
       "                                            volTitle  volWoS\n",
       "0  Learning about a New Technology: Pineapple in ...     176\n",
       "1       Multiple-Product Firms and Product Switching     111\n",
       "2  Momma's Got the Pill\": How Anthony Comstock an...      23\n",
       "3              Matching and Sorting in Online Dating      75\n",
       "4  Entry, Exit, and Investment-Specific Technical...       9"
      ]
     },
     "execution_count": 5,
     "metadata": {},
     "output_type": "execute_result"
    }
   ],
   "source": [
    "volume[['volTitle', 'volWoS']].head()"
   ]
  },
  {
   "cell_type": "markdown",
   "metadata": {},
   "source": [
    "We can add a new column to our dataframe like so"
   ]
  },
  {
   "cell_type": "code",
   "execution_count": 6,
   "metadata": {},
   "outputs": [
    {
     "data": {
      "text/html": [
       "<div>\n",
       "<style>\n",
       "    .dataframe thead tr:only-child th {\n",
       "        text-align: right;\n",
       "    }\n",
       "\n",
       "    .dataframe thead th {\n",
       "        text-align: left;\n",
       "    }\n",
       "\n",
       "    .dataframe tbody tr th {\n",
       "        vertical-align: top;\n",
       "    }\n",
       "</style>\n",
       "<table border=\"1\" class=\"dataframe\">\n",
       "  <thead>\n",
       "    <tr style=\"text-align: right;\">\n",
       "      <th></th>\n",
       "      <th>volID</th>\n",
       "      <th>volTitle</th>\n",
       "      <th>volCoder</th>\n",
       "      <th>volWoS</th>\n",
       "      <th>volTop200Econ</th>\n",
       "      <th>volGScites</th>\n",
       "      <th>volField</th>\n",
       "      <th>totalCites</th>\n",
       "    </tr>\n",
       "  </thead>\n",
       "  <tbody>\n",
       "    <tr>\n",
       "      <th>0</th>\n",
       "      <td>2</td>\n",
       "      <td>Learning about a New Technology: Pineapple in ...</td>\n",
       "      <td>3.0</td>\n",
       "      <td>176</td>\n",
       "      <td>108.0</td>\n",
       "      <td>1246</td>\n",
       "      <td>Development</td>\n",
       "      <td>1530.0</td>\n",
       "    </tr>\n",
       "    <tr>\n",
       "      <th>1</th>\n",
       "      <td>3</td>\n",
       "      <td>Multiple-Product Firms and Product Switching</td>\n",
       "      <td>5.0</td>\n",
       "      <td>111</td>\n",
       "      <td>74.0</td>\n",
       "      <td>764</td>\n",
       "      <td>Labor/IO</td>\n",
       "      <td>949.0</td>\n",
       "    </tr>\n",
       "    <tr>\n",
       "      <th>2</th>\n",
       "      <td>4</td>\n",
       "      <td>Momma's Got the Pill\": How Anthony Comstock an...</td>\n",
       "      <td>5.0</td>\n",
       "      <td>23</td>\n",
       "      <td>15.0</td>\n",
       "      <td>98</td>\n",
       "      <td>Labor/IO</td>\n",
       "      <td>136.0</td>\n",
       "    </tr>\n",
       "    <tr>\n",
       "      <th>3</th>\n",
       "      <td>5</td>\n",
       "      <td>Matching and Sorting in Online Dating</td>\n",
       "      <td>1.0</td>\n",
       "      <td>75</td>\n",
       "      <td>23.0</td>\n",
       "      <td>326</td>\n",
       "      <td>Labor/IO</td>\n",
       "      <td>424.0</td>\n",
       "    </tr>\n",
       "    <tr>\n",
       "      <th>4</th>\n",
       "      <td>6</td>\n",
       "      <td>Entry, Exit, and Investment-Specific Technical...</td>\n",
       "      <td>2.0</td>\n",
       "      <td>9</td>\n",
       "      <td>9.0</td>\n",
       "      <td>38</td>\n",
       "      <td>Macro/Int/Trade</td>\n",
       "      <td>56.0</td>\n",
       "    </tr>\n",
       "  </tbody>\n",
       "</table>\n",
       "</div>"
      ],
      "text/plain": [
       "   volID                                           volTitle  volCoder  volWoS  \\\n",
       "0      2  Learning about a New Technology: Pineapple in ...       3.0     176   \n",
       "1      3       Multiple-Product Firms and Product Switching       5.0     111   \n",
       "2      4  Momma's Got the Pill\": How Anthony Comstock an...       5.0      23   \n",
       "3      5              Matching and Sorting in Online Dating       1.0      75   \n",
       "4      6  Entry, Exit, and Investment-Specific Technical...       2.0       9   \n",
       "\n",
       "   volTop200Econ  volGScites         volField  totalCites  \n",
       "0          108.0        1246      Development      1530.0  \n",
       "1           74.0         764         Labor/IO       949.0  \n",
       "2           15.0          98         Labor/IO       136.0  \n",
       "3           23.0         326         Labor/IO       424.0  \n",
       "4            9.0          38  Macro/Int/Trade        56.0  "
      ]
     },
     "execution_count": 6,
     "metadata": {},
     "output_type": "execute_result"
    }
   ],
   "source": [
    "volume['totalCites'] = volume['volWoS'] + volume['volTop200Econ'] + volume['volGScites']\n",
    "volume.head()"
   ]
  },
  {
   "cell_type": "markdown",
   "metadata": {},
   "source": [
    "If we want to know the average number of Web of Science citations..."
   ]
  },
  {
   "cell_type": "code",
   "execution_count": 7,
   "metadata": {},
   "outputs": [
    {
     "data": {
      "text/plain": [
       "42.07142857142857"
      ]
     },
     "execution_count": 7,
     "metadata": {},
     "output_type": "execute_result"
    }
   ],
   "source": [
    "volume['volWoS'].mean()"
   ]
  },
  {
   "cell_type": "markdown",
   "metadata": {},
   "source": [
    "`.describe()` returns useful summary statistics "
   ]
  },
  {
   "cell_type": "code",
   "execution_count": 8,
   "metadata": {},
   "outputs": [
    {
     "data": {
      "text/plain": [
       "count     70.000000\n",
       "mean      42.071429\n",
       "std       43.070660\n",
       "min        1.000000\n",
       "25%       17.250000\n",
       "50%       28.500000\n",
       "75%       51.000000\n",
       "max      195.000000\n",
       "Name: volWoS, dtype: float64"
      ]
     },
     "execution_count": 8,
     "metadata": {},
     "output_type": "execute_result"
    }
   ],
   "source": [
    "volume['volWoS'].describe()"
   ]
  },
  {
   "cell_type": "markdown",
   "metadata": {},
   "source": [
    "### Exercises"
   ]
  },
  {
   "cell_type": "markdown",
   "metadata": {},
   "source": [
    "#### Find the means of Top 200 and Google Scholar citations"
   ]
  },
  {
   "cell_type": "code",
   "execution_count": null,
   "metadata": {
    "collapsed": true
   },
   "outputs": [],
   "source": []
  },
  {
   "cell_type": "markdown",
   "metadata": {},
   "source": [
    "<button data-toggle=\"collapse\" data-target=\"#sol2\" class='btn btn-primary'>Solution</button>\n",
    "<div id=\"sol2\" class=\"collapse\">\n",
    "```python\n",
    "volume[['volTop200Econ', 'volGScites']].mean()\n",
    "```\n",
    "```\n",
    "volTop200Econ     22.257143\n",
    "volGScites       227.571429\n",
    "dtype: float64\n",
    "```"
   ]
  },
  {
   "cell_type": "markdown",
   "metadata": {},
   "source": [
    "#### Find the median of Web of Science citations"
   ]
  },
  {
   "cell_type": "code",
   "execution_count": null,
   "metadata": {
    "collapsed": true
   },
   "outputs": [],
   "source": []
  },
  {
   "cell_type": "markdown",
   "metadata": {},
   "source": [
    "<button data-toggle=\"collapse\" data-target=\"#sol3\" class='btn btn-primary'>Solution</button>\n",
    "<div id=\"sol3\" class=\"collapse\">\n",
    "```python\n",
    "volume['volWoS'].median()\n",
    "```\n",
    "```\n",
    "28.5\n",
    "```"
   ]
  },
  {
   "cell_type": "markdown",
   "metadata": {},
   "source": [
    "#### Create a table of summary statistics of Top 200 cites and Google Scholar cites"
   ]
  },
  {
   "cell_type": "code",
   "execution_count": null,
   "metadata": {
    "collapsed": true
   },
   "outputs": [],
   "source": []
  },
  {
   "cell_type": "markdown",
   "metadata": {},
   "source": [
    "<button data-toggle=\"collapse\" data-target=\"#sol4\" class='btn btn-primary'>Solution</button>\n",
    "<div id=\"sol4\" class=\"collapse\">\n",
    "```python\n",
    "volume[['volTop200Econ', 'volGScites']].describe()\n",
    "```\n",
    "<table border=\"1\" class=\"dataframe\">  <thead>    <tr style=\"text-align: right;\">      <th></th>      <th>volTop200Econ</th>       <th>volGScites</th>    </tr>   </thead>   <tbody>     <tr>       <th>count</th>       <td>70.000000</td>       <td>70.000000</td>     </tr>     <tr>      <th>mean</th>       <td>22.257143</td>       <td>227.571429</td>     </tr>     <tr>       <th>std</th>       <td>23.182131</td>       <td>257.258375</td>     </tr>     <tr>       <th>min</th>       <td>0.000000</td>       <td>7.000000</td>     </tr>     <tr>       <th>25%</th>       <td>9.000000</td>       <td>73.250000</td>     </tr>     <tr>       <th>50%</th>       <td>15.000000</td>       <td>139.000000</td>     </tr>     <tr>       <th>75%</th>       <td>23.750000</td>     <td>267.250000</td>     </tr>     <tr>       <th>max</th>       <td>108.000000</td>      <td>1246.000000</td>    </tr>  </tbody> </table>"
   ]
  },
  {
   "cell_type": "markdown",
   "metadata": {},
   "source": [
    "#### Create a table of summary statistics of the paper's fields (according to the variable `volField`)"
   ]
  },
  {
   "cell_type": "code",
   "execution_count": null,
   "metadata": {
    "collapsed": true
   },
   "outputs": [],
   "source": []
  },
  {
   "cell_type": "markdown",
   "metadata": {},
   "source": [
    "<button data-toggle=\"collapse\" data-target=\"#sol5\" class='btn btn-primary'>Solution</button>\n",
    "<div id=\"sol5\" class=\"collapse\">\n",
    "```python\n",
    "volume['volField'].describe()\n",
    "```\n",
    "```\n",
    "count                  70\n",
    "unique                  5\n",
    "top       Macro/Int/Trade\n",
    "freq                   25\n",
    "Name: volField, dtype: object\n",
    "```"
   ]
  },
  {
   "cell_type": "markdown",
   "metadata": {},
   "source": [
    "## Selecting and filtering"
   ]
  },
  {
   "cell_type": "markdown",
   "metadata": {},
   "source": [
    "We can use integer slicing to select rows as follows"
   ]
  },
  {
   "cell_type": "code",
   "execution_count": 9,
   "metadata": {},
   "outputs": [
    {
     "data": {
      "text/html": [
       "<div>\n",
       "<style>\n",
       "    .dataframe thead tr:only-child th {\n",
       "        text-align: right;\n",
       "    }\n",
       "\n",
       "    .dataframe thead th {\n",
       "        text-align: left;\n",
       "    }\n",
       "\n",
       "    .dataframe tbody tr th {\n",
       "        vertical-align: top;\n",
       "    }\n",
       "</style>\n",
       "<table border=\"1\" class=\"dataframe\">\n",
       "  <thead>\n",
       "    <tr style=\"text-align: right;\">\n",
       "      <th></th>\n",
       "      <th>volID</th>\n",
       "      <th>volTitle</th>\n",
       "      <th>volCoder</th>\n",
       "      <th>volWoS</th>\n",
       "      <th>volTop200Econ</th>\n",
       "      <th>volGScites</th>\n",
       "      <th>volField</th>\n",
       "      <th>totalCites</th>\n",
       "    </tr>\n",
       "  </thead>\n",
       "  <tbody>\n",
       "    <tr>\n",
       "      <th>0</th>\n",
       "      <td>2</td>\n",
       "      <td>Learning about a New Technology: Pineapple in ...</td>\n",
       "      <td>3.0</td>\n",
       "      <td>176</td>\n",
       "      <td>108.0</td>\n",
       "      <td>1246</td>\n",
       "      <td>Development</td>\n",
       "      <td>1530.0</td>\n",
       "    </tr>\n",
       "    <tr>\n",
       "      <th>1</th>\n",
       "      <td>3</td>\n",
       "      <td>Multiple-Product Firms and Product Switching</td>\n",
       "      <td>5.0</td>\n",
       "      <td>111</td>\n",
       "      <td>74.0</td>\n",
       "      <td>764</td>\n",
       "      <td>Labor/IO</td>\n",
       "      <td>949.0</td>\n",
       "    </tr>\n",
       "    <tr>\n",
       "      <th>2</th>\n",
       "      <td>4</td>\n",
       "      <td>Momma's Got the Pill\": How Anthony Comstock an...</td>\n",
       "      <td>5.0</td>\n",
       "      <td>23</td>\n",
       "      <td>15.0</td>\n",
       "      <td>98</td>\n",
       "      <td>Labor/IO</td>\n",
       "      <td>136.0</td>\n",
       "    </tr>\n",
       "    <tr>\n",
       "      <th>3</th>\n",
       "      <td>5</td>\n",
       "      <td>Matching and Sorting in Online Dating</td>\n",
       "      <td>1.0</td>\n",
       "      <td>75</td>\n",
       "      <td>23.0</td>\n",
       "      <td>326</td>\n",
       "      <td>Labor/IO</td>\n",
       "      <td>424.0</td>\n",
       "    </tr>\n",
       "    <tr>\n",
       "      <th>4</th>\n",
       "      <td>6</td>\n",
       "      <td>Entry, Exit, and Investment-Specific Technical...</td>\n",
       "      <td>2.0</td>\n",
       "      <td>9</td>\n",
       "      <td>9.0</td>\n",
       "      <td>38</td>\n",
       "      <td>Macro/Int/Trade</td>\n",
       "      <td>56.0</td>\n",
       "    </tr>\n",
       "  </tbody>\n",
       "</table>\n",
       "</div>"
      ],
      "text/plain": [
       "   volID                                           volTitle  volCoder  volWoS  \\\n",
       "0      2  Learning about a New Technology: Pineapple in ...       3.0     176   \n",
       "1      3       Multiple-Product Firms and Product Switching       5.0     111   \n",
       "2      4  Momma's Got the Pill\": How Anthony Comstock an...       5.0      23   \n",
       "3      5              Matching and Sorting in Online Dating       1.0      75   \n",
       "4      6  Entry, Exit, and Investment-Specific Technical...       2.0       9   \n",
       "\n",
       "   volTop200Econ  volGScites         volField  totalCites  \n",
       "0          108.0        1246      Development      1530.0  \n",
       "1           74.0         764         Labor/IO       949.0  \n",
       "2           15.0          98         Labor/IO       136.0  \n",
       "3           23.0         326         Labor/IO       424.0  \n",
       "4            9.0          38  Macro/Int/Trade        56.0  "
      ]
     },
     "execution_count": 9,
     "metadata": {},
     "output_type": "execute_result"
    }
   ],
   "source": [
    "volume[:5]"
   ]
  },
  {
   "cell_type": "markdown",
   "metadata": {},
   "source": [
    "We might want to find the top cited papers\n",
    "\n",
    "First we will sort our values by a column in the dataframe"
   ]
  },
  {
   "cell_type": "code",
   "execution_count": 10,
   "metadata": {},
   "outputs": [
    {
     "data": {
      "text/html": [
       "<div>\n",
       "<style>\n",
       "    .dataframe thead tr:only-child th {\n",
       "        text-align: right;\n",
       "    }\n",
       "\n",
       "    .dataframe thead th {\n",
       "        text-align: left;\n",
       "    }\n",
       "\n",
       "    .dataframe tbody tr th {\n",
       "        vertical-align: top;\n",
       "    }\n",
       "</style>\n",
       "<table border=\"1\" class=\"dataframe\">\n",
       "  <thead>\n",
       "    <tr style=\"text-align: right;\">\n",
       "      <th></th>\n",
       "      <th>volTitle</th>\n",
       "      <th>volTop200Econ</th>\n",
       "    </tr>\n",
       "  </thead>\n",
       "  <tbody>\n",
       "    <tr>\n",
       "      <th>0</th>\n",
       "      <td>Learning about a New Technology: Pineapple in Ghana</td>\n",
       "      <td>108.0</td>\n",
       "    </tr>\n",
       "    <tr>\n",
       "      <th>33</th>\n",
       "      <td>What Causes Industry Agglomeration? Evidence from Coagglomeration Patterns</td>\n",
       "      <td>93.0</td>\n",
       "    </tr>\n",
       "    <tr>\n",
       "      <th>15</th>\n",
       "      <td>Social Preferences, Beliefs, and the Dynamics of Free Riding in Public Goods Experiments</td>\n",
       "      <td>86.0</td>\n",
       "    </tr>\n",
       "    <tr>\n",
       "      <th>1</th>\n",
       "      <td>Multiple-Product Firms and Product Switching</td>\n",
       "      <td>74.0</td>\n",
       "    </tr>\n",
       "    <tr>\n",
       "      <th>35</th>\n",
       "      <td>Are Risk Aversion and Impatience Related to Cognitive Ability?</td>\n",
       "      <td>73.0</td>\n",
       "    </tr>\n",
       "  </tbody>\n",
       "</table>\n",
       "</div>"
      ],
      "text/plain": [
       "                                                                                    volTitle  \\\n",
       "0                                        Learning about a New Technology: Pineapple in Ghana   \n",
       "33                What Causes Industry Agglomeration? Evidence from Coagglomeration Patterns   \n",
       "15  Social Preferences, Beliefs, and the Dynamics of Free Riding in Public Goods Experiments   \n",
       "1                                               Multiple-Product Firms and Product Switching   \n",
       "35                            Are Risk Aversion and Impatience Related to Cognitive Ability?   \n",
       "\n",
       "    volTop200Econ  \n",
       "0           108.0  \n",
       "33           93.0  \n",
       "15           86.0  \n",
       "1            74.0  \n",
       "35           73.0  "
      ]
     },
     "execution_count": 10,
     "metadata": {},
     "output_type": "execute_result"
    }
   ],
   "source": [
    "pd.set_option('max_colwidth', 100)  # adjust column width\n",
    "\n",
    "volume[['volTitle', 'volTop200Econ']].sort_values(by='volTop200Econ', ascending=False)[:5]"
   ]
  },
  {
   "cell_type": "markdown",
   "metadata": {},
   "source": [
    "Another way to select rows is to use row labels, ie. set a row index\n",
    "\n",
    "Similar to the column labels, we can add row labels (the index)"
   ]
  },
  {
   "cell_type": "code",
   "execution_count": 11,
   "metadata": {},
   "outputs": [
    {
     "data": {
      "text/html": [
       "<div>\n",
       "<style>\n",
       "    .dataframe thead tr:only-child th {\n",
       "        text-align: right;\n",
       "    }\n",
       "\n",
       "    .dataframe thead th {\n",
       "        text-align: left;\n",
       "    }\n",
       "\n",
       "    .dataframe tbody tr th {\n",
       "        vertical-align: top;\n",
       "    }\n",
       "</style>\n",
       "<table border=\"1\" class=\"dataframe\">\n",
       "  <thead>\n",
       "    <tr style=\"text-align: right;\">\n",
       "      <th></th>\n",
       "      <th>volID</th>\n",
       "      <th>volCoder</th>\n",
       "      <th>volWoS</th>\n",
       "      <th>volTop200Econ</th>\n",
       "      <th>volGScites</th>\n",
       "      <th>volField</th>\n",
       "      <th>totalCites</th>\n",
       "    </tr>\n",
       "    <tr>\n",
       "      <th>volTitle</th>\n",
       "      <th></th>\n",
       "      <th></th>\n",
       "      <th></th>\n",
       "      <th></th>\n",
       "      <th></th>\n",
       "      <th></th>\n",
       "      <th></th>\n",
       "    </tr>\n",
       "  </thead>\n",
       "  <tbody>\n",
       "    <tr>\n",
       "      <th>Learning about a New Technology: Pineapple in Ghana</th>\n",
       "      <td>2</td>\n",
       "      <td>3.0</td>\n",
       "      <td>176</td>\n",
       "      <td>108.0</td>\n",
       "      <td>1246</td>\n",
       "      <td>Development</td>\n",
       "      <td>1530.0</td>\n",
       "    </tr>\n",
       "    <tr>\n",
       "      <th>Multiple-Product Firms and Product Switching</th>\n",
       "      <td>3</td>\n",
       "      <td>5.0</td>\n",
       "      <td>111</td>\n",
       "      <td>74.0</td>\n",
       "      <td>764</td>\n",
       "      <td>Labor/IO</td>\n",
       "      <td>949.0</td>\n",
       "    </tr>\n",
       "    <tr>\n",
       "      <th>Momma's Got the Pill\": How Anthony Comstock and Griswold v. Connecticut Shaped US Childbearing</th>\n",
       "      <td>4</td>\n",
       "      <td>5.0</td>\n",
       "      <td>23</td>\n",
       "      <td>15.0</td>\n",
       "      <td>98</td>\n",
       "      <td>Labor/IO</td>\n",
       "      <td>136.0</td>\n",
       "    </tr>\n",
       "    <tr>\n",
       "      <th>Matching and Sorting in Online Dating</th>\n",
       "      <td>5</td>\n",
       "      <td>1.0</td>\n",
       "      <td>75</td>\n",
       "      <td>23.0</td>\n",
       "      <td>326</td>\n",
       "      <td>Labor/IO</td>\n",
       "      <td>424.0</td>\n",
       "    </tr>\n",
       "    <tr>\n",
       "      <th>Entry, Exit, and Investment-Specific Technical Change</th>\n",
       "      <td>6</td>\n",
       "      <td>2.0</td>\n",
       "      <td>9</td>\n",
       "      <td>9.0</td>\n",
       "      <td>38</td>\n",
       "      <td>Macro/Int/Trade</td>\n",
       "      <td>56.0</td>\n",
       "    </tr>\n",
       "  </tbody>\n",
       "</table>\n",
       "</div>"
      ],
      "text/plain": [
       "                                                                                                volID  \\\n",
       "volTitle                                                                                                \n",
       "Learning about a New Technology: Pineapple in Ghana                                                 2   \n",
       "Multiple-Product Firms and Product Switching                                                        3   \n",
       "Momma's Got the Pill\": How Anthony Comstock and Griswold v. Connecticut Shaped US Childbearing      4   \n",
       "Matching and Sorting in Online Dating                                                               5   \n",
       "Entry, Exit, and Investment-Specific Technical Change                                               6   \n",
       "\n",
       "                                                                                                volCoder  \\\n",
       "volTitle                                                                                                   \n",
       "Learning about a New Technology: Pineapple in Ghana                                                  3.0   \n",
       "Multiple-Product Firms and Product Switching                                                         5.0   \n",
       "Momma's Got the Pill\": How Anthony Comstock and Griswold v. Connecticut Shaped US Childbearing       5.0   \n",
       "Matching and Sorting in Online Dating                                                                1.0   \n",
       "Entry, Exit, and Investment-Specific Technical Change                                                2.0   \n",
       "\n",
       "                                                                                                volWoS  \\\n",
       "volTitle                                                                                                 \n",
       "Learning about a New Technology: Pineapple in Ghana                                                176   \n",
       "Multiple-Product Firms and Product Switching                                                       111   \n",
       "Momma's Got the Pill\": How Anthony Comstock and Griswold v. Connecticut Shaped US Childbearing      23   \n",
       "Matching and Sorting in Online Dating                                                               75   \n",
       "Entry, Exit, and Investment-Specific Technical Change                                                9   \n",
       "\n",
       "                                                                                                volTop200Econ  \\\n",
       "volTitle                                                                                                        \n",
       "Learning about a New Technology: Pineapple in Ghana                                                     108.0   \n",
       "Multiple-Product Firms and Product Switching                                                             74.0   \n",
       "Momma's Got the Pill\": How Anthony Comstock and Griswold v. Connecticut Shaped US Childbearing           15.0   \n",
       "Matching and Sorting in Online Dating                                                                    23.0   \n",
       "Entry, Exit, and Investment-Specific Technical Change                                                     9.0   \n",
       "\n",
       "                                                                                                volGScites  \\\n",
       "volTitle                                                                                                     \n",
       "Learning about a New Technology: Pineapple in Ghana                                                   1246   \n",
       "Multiple-Product Firms and Product Switching                                                           764   \n",
       "Momma's Got the Pill\": How Anthony Comstock and Griswold v. Connecticut Shaped US Childbearing          98   \n",
       "Matching and Sorting in Online Dating                                                                  326   \n",
       "Entry, Exit, and Investment-Specific Technical Change                                                   38   \n",
       "\n",
       "                                                                                                       volField  \\\n",
       "volTitle                                                                                                          \n",
       "Learning about a New Technology: Pineapple in Ghana                                                 Development   \n",
       "Multiple-Product Firms and Product Switching                                                           Labor/IO   \n",
       "Momma's Got the Pill\": How Anthony Comstock and Griswold v. Connecticut Shaped US Childbearing         Labor/IO   \n",
       "Matching and Sorting in Online Dating                                                                  Labor/IO   \n",
       "Entry, Exit, and Investment-Specific Technical Change                                           Macro/Int/Trade   \n",
       "\n",
       "                                                                                                totalCites  \n",
       "volTitle                                                                                                    \n",
       "Learning about a New Technology: Pineapple in Ghana                                                 1530.0  \n",
       "Multiple-Product Firms and Product Switching                                                         949.0  \n",
       "Momma's Got the Pill\": How Anthony Comstock and Griswold v. Connecticut Shaped US Childbearing       136.0  \n",
       "Matching and Sorting in Online Dating                                                                424.0  \n",
       "Entry, Exit, and Investment-Specific Technical Change                                                 56.0  "
      ]
     },
     "execution_count": 11,
     "metadata": {},
     "output_type": "execute_result"
    }
   ],
   "source": [
    "volume.set_index('volTitle').head()"
   ]
  },
  {
   "cell_type": "markdown",
   "metadata": {},
   "source": [
    "Note: we haven't actually changed `volume`"
   ]
  },
  {
   "cell_type": "code",
   "execution_count": 12,
   "metadata": {},
   "outputs": [
    {
     "data": {
      "text/html": [
       "<div>\n",
       "<style>\n",
       "    .dataframe thead tr:only-child th {\n",
       "        text-align: right;\n",
       "    }\n",
       "\n",
       "    .dataframe thead th {\n",
       "        text-align: left;\n",
       "    }\n",
       "\n",
       "    .dataframe tbody tr th {\n",
       "        vertical-align: top;\n",
       "    }\n",
       "</style>\n",
       "<table border=\"1\" class=\"dataframe\">\n",
       "  <thead>\n",
       "    <tr style=\"text-align: right;\">\n",
       "      <th></th>\n",
       "      <th>volID</th>\n",
       "      <th>volTitle</th>\n",
       "      <th>volCoder</th>\n",
       "      <th>volWoS</th>\n",
       "      <th>volTop200Econ</th>\n",
       "      <th>volGScites</th>\n",
       "      <th>volField</th>\n",
       "      <th>totalCites</th>\n",
       "    </tr>\n",
       "  </thead>\n",
       "  <tbody>\n",
       "    <tr>\n",
       "      <th>0</th>\n",
       "      <td>2</td>\n",
       "      <td>Learning about a New Technology: Pineapple in Ghana</td>\n",
       "      <td>3.0</td>\n",
       "      <td>176</td>\n",
       "      <td>108.0</td>\n",
       "      <td>1246</td>\n",
       "      <td>Development</td>\n",
       "      <td>1530.0</td>\n",
       "    </tr>\n",
       "    <tr>\n",
       "      <th>1</th>\n",
       "      <td>3</td>\n",
       "      <td>Multiple-Product Firms and Product Switching</td>\n",
       "      <td>5.0</td>\n",
       "      <td>111</td>\n",
       "      <td>74.0</td>\n",
       "      <td>764</td>\n",
       "      <td>Labor/IO</td>\n",
       "      <td>949.0</td>\n",
       "    </tr>\n",
       "    <tr>\n",
       "      <th>2</th>\n",
       "      <td>4</td>\n",
       "      <td>Momma's Got the Pill\": How Anthony Comstock and Griswold v. Connecticut Shaped US Childbearing</td>\n",
       "      <td>5.0</td>\n",
       "      <td>23</td>\n",
       "      <td>15.0</td>\n",
       "      <td>98</td>\n",
       "      <td>Labor/IO</td>\n",
       "      <td>136.0</td>\n",
       "    </tr>\n",
       "    <tr>\n",
       "      <th>3</th>\n",
       "      <td>5</td>\n",
       "      <td>Matching and Sorting in Online Dating</td>\n",
       "      <td>1.0</td>\n",
       "      <td>75</td>\n",
       "      <td>23.0</td>\n",
       "      <td>326</td>\n",
       "      <td>Labor/IO</td>\n",
       "      <td>424.0</td>\n",
       "    </tr>\n",
       "    <tr>\n",
       "      <th>4</th>\n",
       "      <td>6</td>\n",
       "      <td>Entry, Exit, and Investment-Specific Technical Change</td>\n",
       "      <td>2.0</td>\n",
       "      <td>9</td>\n",
       "      <td>9.0</td>\n",
       "      <td>38</td>\n",
       "      <td>Macro/Int/Trade</td>\n",
       "      <td>56.0</td>\n",
       "    </tr>\n",
       "  </tbody>\n",
       "</table>\n",
       "</div>"
      ],
      "text/plain": [
       "   volID  \\\n",
       "0      2   \n",
       "1      3   \n",
       "2      4   \n",
       "3      5   \n",
       "4      6   \n",
       "\n",
       "                                                                                         volTitle  \\\n",
       "0                                             Learning about a New Technology: Pineapple in Ghana   \n",
       "1                                                    Multiple-Product Firms and Product Switching   \n",
       "2  Momma's Got the Pill\": How Anthony Comstock and Griswold v. Connecticut Shaped US Childbearing   \n",
       "3                                                           Matching and Sorting in Online Dating   \n",
       "4                                           Entry, Exit, and Investment-Specific Technical Change   \n",
       "\n",
       "   volCoder  volWoS  volTop200Econ  volGScites         volField  totalCites  \n",
       "0       3.0     176          108.0        1246      Development      1530.0  \n",
       "1       5.0     111           74.0         764         Labor/IO       949.0  \n",
       "2       5.0      23           15.0          98         Labor/IO       136.0  \n",
       "3       1.0      75           23.0         326         Labor/IO       424.0  \n",
       "4       2.0       9            9.0          38  Macro/Int/Trade        56.0  "
      ]
     },
     "execution_count": 12,
     "metadata": {},
     "output_type": "execute_result"
    }
   ],
   "source": [
    "volume.head()"
   ]
  },
  {
   "cell_type": "markdown",
   "metadata": {},
   "source": [
    "Need to overwrite `volume` with the new copy"
   ]
  },
  {
   "cell_type": "code",
   "execution_count": 13,
   "metadata": {},
   "outputs": [
    {
     "data": {
      "text/html": [
       "<div>\n",
       "<style>\n",
       "    .dataframe thead tr:only-child th {\n",
       "        text-align: right;\n",
       "    }\n",
       "\n",
       "    .dataframe thead th {\n",
       "        text-align: left;\n",
       "    }\n",
       "\n",
       "    .dataframe tbody tr th {\n",
       "        vertical-align: top;\n",
       "    }\n",
       "</style>\n",
       "<table border=\"1\" class=\"dataframe\">\n",
       "  <thead>\n",
       "    <tr style=\"text-align: right;\">\n",
       "      <th></th>\n",
       "      <th>volID</th>\n",
       "      <th>volCoder</th>\n",
       "      <th>volWoS</th>\n",
       "      <th>volTop200Econ</th>\n",
       "      <th>volGScites</th>\n",
       "      <th>volField</th>\n",
       "      <th>totalCites</th>\n",
       "    </tr>\n",
       "    <tr>\n",
       "      <th>volTitle</th>\n",
       "      <th></th>\n",
       "      <th></th>\n",
       "      <th></th>\n",
       "      <th></th>\n",
       "      <th></th>\n",
       "      <th></th>\n",
       "      <th></th>\n",
       "    </tr>\n",
       "  </thead>\n",
       "  <tbody>\n",
       "    <tr>\n",
       "      <th>Learning about a New Technology: Pineapple in Ghana</th>\n",
       "      <td>2</td>\n",
       "      <td>3.0</td>\n",
       "      <td>176</td>\n",
       "      <td>108.0</td>\n",
       "      <td>1246</td>\n",
       "      <td>Development</td>\n",
       "      <td>1530.0</td>\n",
       "    </tr>\n",
       "    <tr>\n",
       "      <th>Multiple-Product Firms and Product Switching</th>\n",
       "      <td>3</td>\n",
       "      <td>5.0</td>\n",
       "      <td>111</td>\n",
       "      <td>74.0</td>\n",
       "      <td>764</td>\n",
       "      <td>Labor/IO</td>\n",
       "      <td>949.0</td>\n",
       "    </tr>\n",
       "    <tr>\n",
       "      <th>Momma's Got the Pill\": How Anthony Comstock and Griswold v. Connecticut Shaped US Childbearing</th>\n",
       "      <td>4</td>\n",
       "      <td>5.0</td>\n",
       "      <td>23</td>\n",
       "      <td>15.0</td>\n",
       "      <td>98</td>\n",
       "      <td>Labor/IO</td>\n",
       "      <td>136.0</td>\n",
       "    </tr>\n",
       "    <tr>\n",
       "      <th>Matching and Sorting in Online Dating</th>\n",
       "      <td>5</td>\n",
       "      <td>1.0</td>\n",
       "      <td>75</td>\n",
       "      <td>23.0</td>\n",
       "      <td>326</td>\n",
       "      <td>Labor/IO</td>\n",
       "      <td>424.0</td>\n",
       "    </tr>\n",
       "    <tr>\n",
       "      <th>Entry, Exit, and Investment-Specific Technical Change</th>\n",
       "      <td>6</td>\n",
       "      <td>2.0</td>\n",
       "      <td>9</td>\n",
       "      <td>9.0</td>\n",
       "      <td>38</td>\n",
       "      <td>Macro/Int/Trade</td>\n",
       "      <td>56.0</td>\n",
       "    </tr>\n",
       "  </tbody>\n",
       "</table>\n",
       "</div>"
      ],
      "text/plain": [
       "                                                                                                volID  \\\n",
       "volTitle                                                                                                \n",
       "Learning about a New Technology: Pineapple in Ghana                                                 2   \n",
       "Multiple-Product Firms and Product Switching                                                        3   \n",
       "Momma's Got the Pill\": How Anthony Comstock and Griswold v. Connecticut Shaped US Childbearing      4   \n",
       "Matching and Sorting in Online Dating                                                               5   \n",
       "Entry, Exit, and Investment-Specific Technical Change                                               6   \n",
       "\n",
       "                                                                                                volCoder  \\\n",
       "volTitle                                                                                                   \n",
       "Learning about a New Technology: Pineapple in Ghana                                                  3.0   \n",
       "Multiple-Product Firms and Product Switching                                                         5.0   \n",
       "Momma's Got the Pill\": How Anthony Comstock and Griswold v. Connecticut Shaped US Childbearing       5.0   \n",
       "Matching and Sorting in Online Dating                                                                1.0   \n",
       "Entry, Exit, and Investment-Specific Technical Change                                                2.0   \n",
       "\n",
       "                                                                                                volWoS  \\\n",
       "volTitle                                                                                                 \n",
       "Learning about a New Technology: Pineapple in Ghana                                                176   \n",
       "Multiple-Product Firms and Product Switching                                                       111   \n",
       "Momma's Got the Pill\": How Anthony Comstock and Griswold v. Connecticut Shaped US Childbearing      23   \n",
       "Matching and Sorting in Online Dating                                                               75   \n",
       "Entry, Exit, and Investment-Specific Technical Change                                                9   \n",
       "\n",
       "                                                                                                volTop200Econ  \\\n",
       "volTitle                                                                                                        \n",
       "Learning about a New Technology: Pineapple in Ghana                                                     108.0   \n",
       "Multiple-Product Firms and Product Switching                                                             74.0   \n",
       "Momma's Got the Pill\": How Anthony Comstock and Griswold v. Connecticut Shaped US Childbearing           15.0   \n",
       "Matching and Sorting in Online Dating                                                                    23.0   \n",
       "Entry, Exit, and Investment-Specific Technical Change                                                     9.0   \n",
       "\n",
       "                                                                                                volGScites  \\\n",
       "volTitle                                                                                                     \n",
       "Learning about a New Technology: Pineapple in Ghana                                                   1246   \n",
       "Multiple-Product Firms and Product Switching                                                           764   \n",
       "Momma's Got the Pill\": How Anthony Comstock and Griswold v. Connecticut Shaped US Childbearing          98   \n",
       "Matching and Sorting in Online Dating                                                                  326   \n",
       "Entry, Exit, and Investment-Specific Technical Change                                                   38   \n",
       "\n",
       "                                                                                                       volField  \\\n",
       "volTitle                                                                                                          \n",
       "Learning about a New Technology: Pineapple in Ghana                                                 Development   \n",
       "Multiple-Product Firms and Product Switching                                                           Labor/IO   \n",
       "Momma's Got the Pill\": How Anthony Comstock and Griswold v. Connecticut Shaped US Childbearing         Labor/IO   \n",
       "Matching and Sorting in Online Dating                                                                  Labor/IO   \n",
       "Entry, Exit, and Investment-Specific Technical Change                                           Macro/Int/Trade   \n",
       "\n",
       "                                                                                                totalCites  \n",
       "volTitle                                                                                                    \n",
       "Learning about a New Technology: Pineapple in Ghana                                                 1530.0  \n",
       "Multiple-Product Firms and Product Switching                                                         949.0  \n",
       "Momma's Got the Pill\": How Anthony Comstock and Griswold v. Connecticut Shaped US Childbearing       136.0  \n",
       "Matching and Sorting in Online Dating                                                                424.0  \n",
       "Entry, Exit, and Investment-Specific Technical Change                                                 56.0  "
      ]
     },
     "execution_count": 13,
     "metadata": {},
     "output_type": "execute_result"
    }
   ],
   "source": [
    "volume = volume.set_index('volTitle')   # Can also use volume.set_index('volTitle', inplace=True)\n",
    "volume.head()"
   ]
  },
  {
   "cell_type": "code",
   "execution_count": 14,
   "metadata": {},
   "outputs": [
    {
     "data": {
      "text/plain": [
       "volID                   5\n",
       "volCoder                1\n",
       "volWoS                 75\n",
       "volTop200Econ          23\n",
       "volGScites            326\n",
       "volField         Labor/IO\n",
       "totalCites            424\n",
       "Name: Matching and Sorting in Online Dating, dtype: object"
      ]
     },
     "execution_count": 14,
     "metadata": {},
     "output_type": "execute_result"
    }
   ],
   "source": [
    "volume.loc['Matching and Sorting in Online Dating']"
   ]
  },
  {
   "cell_type": "code",
   "execution_count": 15,
   "metadata": {},
   "outputs": [
    {
     "data": {
      "text/html": [
       "<div>\n",
       "<style>\n",
       "    .dataframe thead tr:only-child th {\n",
       "        text-align: right;\n",
       "    }\n",
       "\n",
       "    .dataframe thead th {\n",
       "        text-align: left;\n",
       "    }\n",
       "\n",
       "    .dataframe tbody tr th {\n",
       "        vertical-align: top;\n",
       "    }\n",
       "</style>\n",
       "<table border=\"1\" class=\"dataframe\">\n",
       "  <thead>\n",
       "    <tr style=\"text-align: right;\">\n",
       "      <th></th>\n",
       "      <th>volID</th>\n",
       "      <th>volCoder</th>\n",
       "      <th>volWoS</th>\n",
       "      <th>volTop200Econ</th>\n",
       "      <th>volGScites</th>\n",
       "      <th>volField</th>\n",
       "      <th>totalCites</th>\n",
       "    </tr>\n",
       "    <tr>\n",
       "      <th>volTitle</th>\n",
       "      <th></th>\n",
       "      <th></th>\n",
       "      <th></th>\n",
       "      <th></th>\n",
       "      <th></th>\n",
       "      <th></th>\n",
       "      <th></th>\n",
       "    </tr>\n",
       "  </thead>\n",
       "  <tbody>\n",
       "    <tr>\n",
       "      <th>Matching and Sorting in Online Dating</th>\n",
       "      <td>5</td>\n",
       "      <td>1.0</td>\n",
       "      <td>75</td>\n",
       "      <td>23.0</td>\n",
       "      <td>326</td>\n",
       "      <td>Labor/IO</td>\n",
       "      <td>424.0</td>\n",
       "    </tr>\n",
       "    <tr>\n",
       "      <th>Learning about a New Technology: Pineapple in Ghana</th>\n",
       "      <td>2</td>\n",
       "      <td>3.0</td>\n",
       "      <td>176</td>\n",
       "      <td>108.0</td>\n",
       "      <td>1246</td>\n",
       "      <td>Development</td>\n",
       "      <td>1530.0</td>\n",
       "    </tr>\n",
       "  </tbody>\n",
       "</table>\n",
       "</div>"
      ],
      "text/plain": [
       "                                                     volID  volCoder  volWoS  \\\n",
       "volTitle                                                                       \n",
       "Matching and Sorting in Online Dating                    5       1.0      75   \n",
       "Learning about a New Technology: Pineapple in Ghana      2       3.0     176   \n",
       "\n",
       "                                                     volTop200Econ  \\\n",
       "volTitle                                                             \n",
       "Matching and Sorting in Online Dating                         23.0   \n",
       "Learning about a New Technology: Pineapple in Ghana          108.0   \n",
       "\n",
       "                                                     volGScites     volField  \\\n",
       "volTitle                                                                       \n",
       "Matching and Sorting in Online Dating                       326     Labor/IO   \n",
       "Learning about a New Technology: Pineapple in Ghana        1246  Development   \n",
       "\n",
       "                                                     totalCites  \n",
       "volTitle                                                         \n",
       "Matching and Sorting in Online Dating                     424.0  \n",
       "Learning about a New Technology: Pineapple in Ghana      1530.0  "
      ]
     },
     "execution_count": 15,
     "metadata": {},
     "output_type": "execute_result"
    }
   ],
   "source": [
    "volume.loc[['Matching and Sorting in Online Dating', 'Learning about a New Technology: Pineapple in Ghana']]"
   ]
  },
  {
   "cell_type": "markdown",
   "metadata": {},
   "source": [
    "We can also sort our index (this is recommended for efficient selecting and filtering)"
   ]
  },
  {
   "cell_type": "code",
   "execution_count": 16,
   "metadata": {},
   "outputs": [
    {
     "data": {
      "text/html": [
       "<div>\n",
       "<style>\n",
       "    .dataframe thead tr:only-child th {\n",
       "        text-align: right;\n",
       "    }\n",
       "\n",
       "    .dataframe thead th {\n",
       "        text-align: left;\n",
       "    }\n",
       "\n",
       "    .dataframe tbody tr th {\n",
       "        vertical-align: top;\n",
       "    }\n",
       "</style>\n",
       "<table border=\"1\" class=\"dataframe\">\n",
       "  <thead>\n",
       "    <tr style=\"text-align: right;\">\n",
       "      <th></th>\n",
       "      <th>volID</th>\n",
       "      <th>volCoder</th>\n",
       "      <th>volWoS</th>\n",
       "      <th>volTop200Econ</th>\n",
       "      <th>volGScites</th>\n",
       "      <th>volField</th>\n",
       "      <th>totalCites</th>\n",
       "    </tr>\n",
       "    <tr>\n",
       "      <th>volTitle</th>\n",
       "      <th></th>\n",
       "      <th></th>\n",
       "      <th></th>\n",
       "      <th></th>\n",
       "      <th></th>\n",
       "      <th></th>\n",
       "      <th></th>\n",
       "    </tr>\n",
       "  </thead>\n",
       "  <tbody>\n",
       "    <tr>\n",
       "      <th>A New Approach to Estimating the Production Function for Housing</th>\n",
       "      <td>37</td>\n",
       "      <td>5.0</td>\n",
       "      <td>13</td>\n",
       "      <td>11.0</td>\n",
       "      <td>74</td>\n",
       "      <td>Applied (gen.)</td>\n",
       "      <td>98.0</td>\n",
       "    </tr>\n",
       "    <tr>\n",
       "      <th>A Study of the Internal Organization of a Bidding Cartel</th>\n",
       "      <td>32</td>\n",
       "      <td>5.0</td>\n",
       "      <td>21</td>\n",
       "      <td>11.0</td>\n",
       "      <td>127</td>\n",
       "      <td>Labor/IO</td>\n",
       "      <td>159.0</td>\n",
       "    </tr>\n",
       "    <tr>\n",
       "      <th>A Theory of Optimal Random Crackdowns</th>\n",
       "      <td>44</td>\n",
       "      <td>5.0</td>\n",
       "      <td>4</td>\n",
       "      <td>2.0</td>\n",
       "      <td>41</td>\n",
       "      <td>Applied (gen.)</td>\n",
       "      <td>47.0</td>\n",
       "    </tr>\n",
       "    <tr>\n",
       "      <th>An Exploration of Technology Diffusion</th>\n",
       "      <td>84</td>\n",
       "      <td>2.0</td>\n",
       "      <td>36</td>\n",
       "      <td>16.0</td>\n",
       "      <td>226</td>\n",
       "      <td>Macro/Int/Trade</td>\n",
       "      <td>278.0</td>\n",
       "    </tr>\n",
       "    <tr>\n",
       "      <th>Are Health Insurance Markets Competitive?</th>\n",
       "      <td>58</td>\n",
       "      <td>5.0</td>\n",
       "      <td>29</td>\n",
       "      <td>16.0</td>\n",
       "      <td>139</td>\n",
       "      <td>Labor/IO</td>\n",
       "      <td>184.0</td>\n",
       "    </tr>\n",
       "  </tbody>\n",
       "</table>\n",
       "</div>"
      ],
      "text/plain": [
       "                                                                  volID  \\\n",
       "volTitle                                                                  \n",
       "A New Approach to Estimating the Production Function for Housing     37   \n",
       "A Study of the Internal Organization of a Bidding Cartel             32   \n",
       "A Theory of Optimal Random Crackdowns                                44   \n",
       "An Exploration of Technology Diffusion                               84   \n",
       "Are Health Insurance Markets Competitive?                            58   \n",
       "\n",
       "                                                                  volCoder  \\\n",
       "volTitle                                                                     \n",
       "A New Approach to Estimating the Production Function for Housing       5.0   \n",
       "A Study of the Internal Organization of a Bidding Cartel               5.0   \n",
       "A Theory of Optimal Random Crackdowns                                  5.0   \n",
       "An Exploration of Technology Diffusion                                 2.0   \n",
       "Are Health Insurance Markets Competitive?                              5.0   \n",
       "\n",
       "                                                                  volWoS  \\\n",
       "volTitle                                                                   \n",
       "A New Approach to Estimating the Production Function for Housing      13   \n",
       "A Study of the Internal Organization of a Bidding Cartel              21   \n",
       "A Theory of Optimal Random Crackdowns                                  4   \n",
       "An Exploration of Technology Diffusion                                36   \n",
       "Are Health Insurance Markets Competitive?                             29   \n",
       "\n",
       "                                                                  volTop200Econ  \\\n",
       "volTitle                                                                          \n",
       "A New Approach to Estimating the Production Function for Housing           11.0   \n",
       "A Study of the Internal Organization of a Bidding Cartel                   11.0   \n",
       "A Theory of Optimal Random Crackdowns                                       2.0   \n",
       "An Exploration of Technology Diffusion                                     16.0   \n",
       "Are Health Insurance Markets Competitive?                                  16.0   \n",
       "\n",
       "                                                                  volGScites  \\\n",
       "volTitle                                                                       \n",
       "A New Approach to Estimating the Production Function for Housing          74   \n",
       "A Study of the Internal Organization of a Bidding Cartel                 127   \n",
       "A Theory of Optimal Random Crackdowns                                     41   \n",
       "An Exploration of Technology Diffusion                                   226   \n",
       "Are Health Insurance Markets Competitive?                                139   \n",
       "\n",
       "                                                                         volField  \\\n",
       "volTitle                                                                            \n",
       "A New Approach to Estimating the Production Function for Housing   Applied (gen.)   \n",
       "A Study of the Internal Organization of a Bidding Cartel                 Labor/IO   \n",
       "A Theory of Optimal Random Crackdowns                              Applied (gen.)   \n",
       "An Exploration of Technology Diffusion                            Macro/Int/Trade   \n",
       "Are Health Insurance Markets Competitive?                                Labor/IO   \n",
       "\n",
       "                                                                  totalCites  \n",
       "volTitle                                                                      \n",
       "A New Approach to Estimating the Production Function for Housing        98.0  \n",
       "A Study of the Internal Organization of a Bidding Cartel               159.0  \n",
       "A Theory of Optimal Random Crackdowns                                   47.0  \n",
       "An Exploration of Technology Diffusion                                 278.0  \n",
       "Are Health Insurance Markets Competitive?                              184.0  "
      ]
     },
     "execution_count": 16,
     "metadata": {},
     "output_type": "execute_result"
    }
   ],
   "source": [
    "volume.sort_index(inplace=True)\n",
    "volume.head()"
   ]
  },
  {
   "cell_type": "markdown",
   "metadata": {},
   "source": [
    "Alternatively, we can filter our dataframe (select rows) using *boolean conditions*"
   ]
  },
  {
   "cell_type": "code",
   "execution_count": 17,
   "metadata": {},
   "outputs": [
    {
     "data": {
      "text/plain": [
       "0     False\n",
       "1     False\n",
       "2     False\n",
       "3     False\n",
       "4     False\n",
       "5     False\n",
       "6      True\n",
       "7     False\n",
       "8     False\n",
       "9     False\n",
       "10    False\n",
       "11    False\n",
       "12    False\n",
       "13     True\n",
       "14    False\n",
       "15    False\n",
       "16    False\n",
       "17    False\n",
       "18    False\n",
       "19    False\n",
       "20    False\n",
       "21    False\n",
       "22    False\n",
       "23    False\n",
       "24    False\n",
       "25     True\n",
       "26    False\n",
       "27    False\n",
       "28    False\n",
       "29    False\n",
       "      ...  \n",
       "40    False\n",
       "41    False\n",
       "42    False\n",
       "43    False\n",
       "44    False\n",
       "45    False\n",
       "46    False\n",
       "47    False\n",
       "48    False\n",
       "49    False\n",
       "50    False\n",
       "51    False\n",
       "52    False\n",
       "53    False\n",
       "54    False\n",
       "55    False\n",
       "56    False\n",
       "57    False\n",
       "58    False\n",
       "59    False\n",
       "60    False\n",
       "61    False\n",
       "62    False\n",
       "63    False\n",
       "64    False\n",
       "65    False\n",
       "66    False\n",
       "67    False\n",
       "68     True\n",
       "69    False\n",
       "Name: volField, Length: 70, dtype: bool"
      ]
     },
     "execution_count": 17,
     "metadata": {},
     "output_type": "execute_result"
    }
   ],
   "source": [
    "volume.reset_index(inplace=True)\n",
    "\n",
    "volume['volField'] == 'Development'"
   ]
  },
  {
   "cell_type": "markdown",
   "metadata": {},
   "source": [
    "Selecting rows with this boolean condition will return only rows of the dataframe where `volField == 'Development'` is `True`"
   ]
  },
  {
   "cell_type": "code",
   "execution_count": 18,
   "metadata": {},
   "outputs": [
    {
     "data": {
      "text/html": [
       "<div>\n",
       "<style>\n",
       "    .dataframe thead tr:only-child th {\n",
       "        text-align: right;\n",
       "    }\n",
       "\n",
       "    .dataframe thead th {\n",
       "        text-align: left;\n",
       "    }\n",
       "\n",
       "    .dataframe tbody tr th {\n",
       "        vertical-align: top;\n",
       "    }\n",
       "</style>\n",
       "<table border=\"1\" class=\"dataframe\">\n",
       "  <thead>\n",
       "    <tr style=\"text-align: right;\">\n",
       "      <th></th>\n",
       "      <th>volTitle</th>\n",
       "      <th>volID</th>\n",
       "      <th>volCoder</th>\n",
       "      <th>volWoS</th>\n",
       "      <th>volTop200Econ</th>\n",
       "      <th>volGScites</th>\n",
       "      <th>volField</th>\n",
       "      <th>totalCites</th>\n",
       "    </tr>\n",
       "  </thead>\n",
       "  <tbody>\n",
       "    <tr>\n",
       "      <th>6</th>\n",
       "      <td>Can Higher Prices Stimulate Product Use? Evidence from a Field Experiment in Zambia</td>\n",
       "      <td>97</td>\n",
       "      <td>1.0</td>\n",
       "      <td>44</td>\n",
       "      <td>21.0</td>\n",
       "      <td>265</td>\n",
       "      <td>Development</td>\n",
       "      <td>330.0</td>\n",
       "    </tr>\n",
       "    <tr>\n",
       "      <th>13</th>\n",
       "      <td>Determinants of Redistributive Politics: An Empirical Analysis of Land Reforms in West Bengal, I...</td>\n",
       "      <td>64</td>\n",
       "      <td>3.0</td>\n",
       "      <td>12</td>\n",
       "      <td>9.0</td>\n",
       "      <td>63</td>\n",
       "      <td>Development</td>\n",
       "      <td>84.0</td>\n",
       "    </tr>\n",
       "    <tr>\n",
       "      <th>25</th>\n",
       "      <td>Inherited Trust and Growth</td>\n",
       "      <td>85</td>\n",
       "      <td>3.0</td>\n",
       "      <td>102</td>\n",
       "      <td>44.0</td>\n",
       "      <td>536</td>\n",
       "      <td>Development</td>\n",
       "      <td>682.0</td>\n",
       "    </tr>\n",
       "    <tr>\n",
       "      <th>34</th>\n",
       "      <td>Learning about a New Technology: Pineapple in Ghana</td>\n",
       "      <td>2</td>\n",
       "      <td>3.0</td>\n",
       "      <td>176</td>\n",
       "      <td>108.0</td>\n",
       "      <td>1246</td>\n",
       "      <td>Development</td>\n",
       "      <td>1530.0</td>\n",
       "    </tr>\n",
       "    <tr>\n",
       "      <th>39</th>\n",
       "      <td>Multinationals and Anti-Sweatshop Activism</td>\n",
       "      <td>9</td>\n",
       "      <td>4.0</td>\n",
       "      <td>21</td>\n",
       "      <td>8.0</td>\n",
       "      <td>134</td>\n",
       "      <td>Development</td>\n",
       "      <td>163.0</td>\n",
       "    </tr>\n",
       "    <tr>\n",
       "      <th>68</th>\n",
       "      <td>Watta Satta: Bride Exchange and Women's Welfare in Rural Pakistan</td>\n",
       "      <td>73</td>\n",
       "      <td>3.0</td>\n",
       "      <td>6</td>\n",
       "      <td>4.0</td>\n",
       "      <td>37</td>\n",
       "      <td>Development</td>\n",
       "      <td>47.0</td>\n",
       "    </tr>\n",
       "  </tbody>\n",
       "</table>\n",
       "</div>"
      ],
      "text/plain": [
       "                                                                                               volTitle  \\\n",
       "6                   Can Higher Prices Stimulate Product Use? Evidence from a Field Experiment in Zambia   \n",
       "13  Determinants of Redistributive Politics: An Empirical Analysis of Land Reforms in West Bengal, I...   \n",
       "25                                                                           Inherited Trust and Growth   \n",
       "34                                                  Learning about a New Technology: Pineapple in Ghana   \n",
       "39                                                           Multinationals and Anti-Sweatshop Activism   \n",
       "68                                    Watta Satta: Bride Exchange and Women's Welfare in Rural Pakistan   \n",
       "\n",
       "    volID  volCoder  volWoS  volTop200Econ  volGScites     volField  \\\n",
       "6      97       1.0      44           21.0         265  Development   \n",
       "13     64       3.0      12            9.0          63  Development   \n",
       "25     85       3.0     102           44.0         536  Development   \n",
       "34      2       3.0     176          108.0        1246  Development   \n",
       "39      9       4.0      21            8.0         134  Development   \n",
       "68     73       3.0       6            4.0          37  Development   \n",
       "\n",
       "    totalCites  \n",
       "6        330.0  \n",
       "13        84.0  \n",
       "25       682.0  \n",
       "34      1530.0  \n",
       "39       163.0  \n",
       "68        47.0  "
      ]
     },
     "execution_count": 18,
     "metadata": {},
     "output_type": "execute_result"
    }
   ],
   "source": [
    "volume[volume['volField'] == 'Development']"
   ]
  },
  {
   "cell_type": "code",
   "execution_count": 19,
   "metadata": {},
   "outputs": [
    {
     "data": {
      "text/html": [
       "<div>\n",
       "<style>\n",
       "    .dataframe thead tr:only-child th {\n",
       "        text-align: right;\n",
       "    }\n",
       "\n",
       "    .dataframe thead th {\n",
       "        text-align: left;\n",
       "    }\n",
       "\n",
       "    .dataframe tbody tr th {\n",
       "        vertical-align: top;\n",
       "    }\n",
       "</style>\n",
       "<table border=\"1\" class=\"dataframe\">\n",
       "  <thead>\n",
       "    <tr style=\"text-align: right;\">\n",
       "      <th></th>\n",
       "      <th>volTitle</th>\n",
       "      <th>volID</th>\n",
       "      <th>volCoder</th>\n",
       "      <th>volWoS</th>\n",
       "      <th>volTop200Econ</th>\n",
       "      <th>volGScites</th>\n",
       "      <th>volField</th>\n",
       "      <th>totalCites</th>\n",
       "    </tr>\n",
       "  </thead>\n",
       "  <tbody>\n",
       "    <tr>\n",
       "      <th>25</th>\n",
       "      <td>Inherited Trust and Growth</td>\n",
       "      <td>85</td>\n",
       "      <td>3.0</td>\n",
       "      <td>102</td>\n",
       "      <td>44.0</td>\n",
       "      <td>536</td>\n",
       "      <td>Development</td>\n",
       "      <td>682.0</td>\n",
       "    </tr>\n",
       "    <tr>\n",
       "      <th>34</th>\n",
       "      <td>Learning about a New Technology: Pineapple in Ghana</td>\n",
       "      <td>2</td>\n",
       "      <td>3.0</td>\n",
       "      <td>176</td>\n",
       "      <td>108.0</td>\n",
       "      <td>1246</td>\n",
       "      <td>Development</td>\n",
       "      <td>1530.0</td>\n",
       "    </tr>\n",
       "  </tbody>\n",
       "</table>\n",
       "</div>"
      ],
      "text/plain": [
       "                                               volTitle  volID  volCoder  \\\n",
       "25                           Inherited Trust and Growth     85       3.0   \n",
       "34  Learning about a New Technology: Pineapple in Ghana      2       3.0   \n",
       "\n",
       "    volWoS  volTop200Econ  volGScites     volField  totalCites  \n",
       "25     102           44.0         536  Development       682.0  \n",
       "34     176          108.0        1246  Development      1530.0  "
      ]
     },
     "execution_count": 19,
     "metadata": {},
     "output_type": "execute_result"
    }
   ],
   "source": [
    "volume[(volume['volField'] == 'Development') & (volume['volWoS'] > 100)]"
   ]
  },
  {
   "cell_type": "markdown",
   "metadata": {},
   "source": [
    "### Exercises\n",
    "\n",
    "#### How many papers in the sample have over 100 Google Scholar citations?\n",
    "* Hint: use `len()` to find the length of a dataframe"
   ]
  },
  {
   "cell_type": "code",
   "execution_count": null,
   "metadata": {
    "collapsed": true
   },
   "outputs": [],
   "source": []
  },
  {
   "cell_type": "markdown",
   "metadata": {},
   "source": [
    "<button data-toggle=\"collapse\" data-target=\"#sol6\" class='btn btn-primary'>Solution</button>\n",
    "<div id=\"sol6\" class=\"collapse\">\n",
    "```python\n",
    "len(volume[volume['volGScites'] > 100])\n",
    "```\n",
    "```\n",
    "44\n",
    "```"
   ]
  },
  {
   "cell_type": "markdown",
   "metadata": {},
   "source": [
    "#### How many 'Labor/IO' papers have over 100 Google Scholar citations?"
   ]
  },
  {
   "cell_type": "code",
   "execution_count": null,
   "metadata": {
    "collapsed": true
   },
   "outputs": [],
   "source": []
  },
  {
   "cell_type": "markdown",
   "metadata": {},
   "source": [
    "<button data-toggle=\"collapse\" data-target=\"#sol7\" class='btn btn-primary'>Solution</button>\n",
    "<div id=\"sol7\" class=\"collapse\">\n",
    "```python\n",
    "len(volume[(volume['volGScites'] > 100) & (volume['volField'] == 'Labor/IO')])\n",
    "```\n",
    "```\n",
    "10\n",
    "```"
   ]
  },
  {
   "cell_type": "markdown",
   "metadata": {},
   "source": [
    "#### Of all development papers, which has the highest number of Google Scholar citations?"
   ]
  },
  {
   "cell_type": "code",
   "execution_count": null,
   "metadata": {
    "collapsed": true
   },
   "outputs": [],
   "source": []
  },
  {
   "cell_type": "markdown",
   "metadata": {},
   "source": [
    "<button data-toggle=\"collapse\" data-target=\"#sol8\" class='btn btn-primary'>Solution</button>\n",
    "<div id=\"sol8\" class=\"collapse\">\n",
    "```python\n",
    "volume[volume['volField'] == 'Development'].sort_values(by='volGScites', ascending=False)[:1]\n",
    "```\n",
    "<table border=\"1\" class=\"dataframe\">   <thead>     <tr style=\"text-align: right;\">       <th></th>       <th>index</th>       <th>volField</th>       <th>volTitle</th>       <th>volID</th>       <th>volCoder</th>       <th>volWoS</th>       <th>volTop200Econ</th>       <th>volGScites</th>       <th>totalCites</th>     </tr>   </thead>   <tbody>     <tr>       <th>10</th>       <td>10</td>       <td>Development</td>       <td>Learning about a New Technology: Pineapple in Ghana</td>       <td>2</td>       <td>3.0</td>       <td>176</td>       <td>108.0</td>       <td>1246</td>       <td>1530.0</td>     </tr>   </tbody> </table>"
   ]
  },
  {
   "cell_type": "markdown",
   "metadata": {},
   "source": [
    "## Grouping and aggregating data"
   ]
  },
  {
   "cell_type": "markdown",
   "metadata": {},
   "source": [
    "We might want to summarize our data by grouping it by fields\n",
    "\n",
    "To do this, we will use the `.groupby()` function"
   ]
  },
  {
   "cell_type": "code",
   "execution_count": 20,
   "metadata": {},
   "outputs": [
    {
     "data": {
      "text/plain": [
       "<pandas.core.groupby.DataFrameGroupBy object at 0x10e657630>"
      ]
     },
     "execution_count": 20,
     "metadata": {},
     "output_type": "execute_result"
    }
   ],
   "source": [
    "volume.reset_index(inplace=True)\n",
    "\n",
    "grouped = volume.groupby('volField')\n",
    "grouped"
   ]
  },
  {
   "cell_type": "code",
   "execution_count": 21,
   "metadata": {},
   "outputs": [
    {
     "data": {
      "text/plain": [
       "{'Applied (gen.)': Int64Index([0, 2, 15, 19, 33, 42, 64], dtype='int64'),\n",
       " 'Behavioral/Exp.': Int64Index([5, 8, 14, 18, 26, 27, 32, 41, 43, 44, 45, 47, 49, 50, 51, 52, 53,\n",
       "             54, 65],\n",
       "            dtype='int64'),\n",
       " 'Development': Int64Index([6, 13, 25, 34, 39, 68], dtype='int64'),\n",
       " 'Labor/IO': Int64Index([1, 4, 10, 16, 17, 31, 36, 37, 40, 61, 62, 67, 69], dtype='int64'),\n",
       " 'Macro/Int/Trade': Int64Index([ 3,  7,  9, 11, 12, 20, 21, 22, 23, 24, 28, 29, 30, 35, 38, 46, 48,\n",
       "             55, 56, 57, 58, 59, 60, 63, 66],\n",
       "            dtype='int64')}"
      ]
     },
     "execution_count": 21,
     "metadata": {},
     "output_type": "execute_result"
    }
   ],
   "source": [
    "grouped.groups"
   ]
  },
  {
   "cell_type": "markdown",
   "metadata": {},
   "source": [
    "To return an *aggregated* dataframe, we need to specify the function we would like pandas to use to aggregate our groups"
   ]
  },
  {
   "cell_type": "code",
   "execution_count": 22,
   "metadata": {},
   "outputs": [
    {
     "data": {
      "text/html": [
       "<div>\n",
       "<style>\n",
       "    .dataframe thead tr:only-child th {\n",
       "        text-align: right;\n",
       "    }\n",
       "\n",
       "    .dataframe thead th {\n",
       "        text-align: left;\n",
       "    }\n",
       "\n",
       "    .dataframe tbody tr th {\n",
       "        vertical-align: top;\n",
       "    }\n",
       "</style>\n",
       "<table border=\"1\" class=\"dataframe\">\n",
       "  <thead>\n",
       "    <tr style=\"text-align: right;\">\n",
       "      <th></th>\n",
       "      <th>index</th>\n",
       "      <th>volID</th>\n",
       "      <th>volCoder</th>\n",
       "      <th>volWoS</th>\n",
       "      <th>volTop200Econ</th>\n",
       "      <th>volGScites</th>\n",
       "      <th>totalCites</th>\n",
       "    </tr>\n",
       "    <tr>\n",
       "      <th>volField</th>\n",
       "      <th></th>\n",
       "      <th></th>\n",
       "      <th></th>\n",
       "      <th></th>\n",
       "      <th></th>\n",
       "      <th></th>\n",
       "      <th></th>\n",
       "    </tr>\n",
       "  </thead>\n",
       "  <tbody>\n",
       "    <tr>\n",
       "      <th>Applied (gen.)</th>\n",
       "      <td>25.000000</td>\n",
       "      <td>49.285714</td>\n",
       "      <td>3.857143</td>\n",
       "      <td>33.428571</td>\n",
       "      <td>13.142857</td>\n",
       "      <td>199.714286</td>\n",
       "      <td>246.285714</td>\n",
       "    </tr>\n",
       "    <tr>\n",
       "      <th>Development</th>\n",
       "      <td>30.833333</td>\n",
       "      <td>55.000000</td>\n",
       "      <td>2.833333</td>\n",
       "      <td>60.166667</td>\n",
       "      <td>32.333333</td>\n",
       "      <td>380.166667</td>\n",
       "      <td>472.666667</td>\n",
       "    </tr>\n",
       "    <tr>\n",
       "      <th>Labor/IO</th>\n",
       "      <td>34.692308</td>\n",
       "      <td>35.923077</td>\n",
       "      <td>4.230769</td>\n",
       "      <td>46.384615</td>\n",
       "      <td>26.461538</td>\n",
       "      <td>254.384615</td>\n",
       "      <td>327.230769</td>\n",
       "    </tr>\n",
       "    <tr>\n",
       "      <th>Behavioral/Exp.</th>\n",
       "      <td>38.105263</td>\n",
       "      <td>65.000000</td>\n",
       "      <td>1.947368</td>\n",
       "      <td>48.842105</td>\n",
       "      <td>24.000000</td>\n",
       "      <td>202.789474</td>\n",
       "      <td>275.631579</td>\n",
       "    </tr>\n",
       "    <tr>\n",
       "      <th>Macro/Int/Trade</th>\n",
       "      <td>35.200000</td>\n",
       "      <td>51.880000</td>\n",
       "      <td>2.760000</td>\n",
       "      <td>32.760000</td>\n",
       "      <td>18.880000</td>\n",
       "      <td>203.640000</td>\n",
       "      <td>255.280000</td>\n",
       "    </tr>\n",
       "  </tbody>\n",
       "</table>\n",
       "</div>"
      ],
      "text/plain": [
       "                     index      volID  volCoder     volWoS  volTop200Econ  \\\n",
       "volField                                                                    \n",
       "Applied (gen.)   25.000000  49.285714  3.857143  33.428571      13.142857   \n",
       "Development      30.833333  55.000000  2.833333  60.166667      32.333333   \n",
       "Labor/IO         34.692308  35.923077  4.230769  46.384615      26.461538   \n",
       "Behavioral/Exp.  38.105263  65.000000  1.947368  48.842105      24.000000   \n",
       "Macro/Int/Trade  35.200000  51.880000  2.760000  32.760000      18.880000   \n",
       "\n",
       "                 volGScites  totalCites  \n",
       "volField                                 \n",
       "Applied (gen.)   199.714286  246.285714  \n",
       "Development      380.166667  472.666667  \n",
       "Labor/IO         254.384615  327.230769  \n",
       "Behavioral/Exp.  202.789474  275.631579  \n",
       "Macro/Int/Trade  203.640000  255.280000  "
      ]
     },
     "execution_count": 22,
     "metadata": {},
     "output_type": "execute_result"
    }
   ],
   "source": [
    "grouped.mean()"
   ]
  },
  {
   "cell_type": "code",
   "execution_count": 23,
   "metadata": {},
   "outputs": [
    {
     "data": {
      "text/plain": [
       "volField\n",
       "Applied (gen.)     33.428571\n",
       "Development        60.166667\n",
       "Labor/IO           46.384615\n",
       "Behavioral/Exp.    48.842105\n",
       "Macro/Int/Trade    32.760000\n",
       "Name: volWoS, dtype: float64"
      ]
     },
     "execution_count": 23,
     "metadata": {},
     "output_type": "execute_result"
    }
   ],
   "source": [
    "grouped['volWoS'].mean()"
   ]
  },
  {
   "cell_type": "code",
   "execution_count": 24,
   "metadata": {},
   "outputs": [
    {
     "data": {
      "text/html": [
       "<div>\n",
       "<style>\n",
       "    .dataframe thead tr:only-child th {\n",
       "        text-align: right;\n",
       "    }\n",
       "\n",
       "    .dataframe thead th {\n",
       "        text-align: left;\n",
       "    }\n",
       "\n",
       "    .dataframe tbody tr th {\n",
       "        vertical-align: top;\n",
       "    }\n",
       "</style>\n",
       "<table border=\"1\" class=\"dataframe\">\n",
       "  <thead>\n",
       "    <tr style=\"text-align: right;\">\n",
       "      <th></th>\n",
       "      <th>mean</th>\n",
       "      <th>median</th>\n",
       "      <th>sum</th>\n",
       "    </tr>\n",
       "    <tr>\n",
       "      <th>volField</th>\n",
       "      <th></th>\n",
       "      <th></th>\n",
       "      <th></th>\n",
       "    </tr>\n",
       "  </thead>\n",
       "  <tbody>\n",
       "    <tr>\n",
       "      <th>Applied (gen.)</th>\n",
       "      <td>33.428571</td>\n",
       "      <td>29.0</td>\n",
       "      <td>234</td>\n",
       "    </tr>\n",
       "    <tr>\n",
       "      <th>Development</th>\n",
       "      <td>60.166667</td>\n",
       "      <td>32.5</td>\n",
       "      <td>361</td>\n",
       "    </tr>\n",
       "    <tr>\n",
       "      <th>Labor/IO</th>\n",
       "      <td>46.384615</td>\n",
       "      <td>30.0</td>\n",
       "      <td>603</td>\n",
       "    </tr>\n",
       "    <tr>\n",
       "      <th>Behavioral/Exp.</th>\n",
       "      <td>48.842105</td>\n",
       "      <td>29.0</td>\n",
       "      <td>928</td>\n",
       "    </tr>\n",
       "    <tr>\n",
       "      <th>Macro/Int/Trade</th>\n",
       "      <td>32.760000</td>\n",
       "      <td>22.0</td>\n",
       "      <td>819</td>\n",
       "    </tr>\n",
       "  </tbody>\n",
       "</table>\n",
       "</div>"
      ],
      "text/plain": [
       "                      mean  median  sum\n",
       "volField                               \n",
       "Applied (gen.)   33.428571    29.0  234\n",
       "Development      60.166667    32.5  361\n",
       "Labor/IO         46.384615    30.0  603\n",
       "Behavioral/Exp.  48.842105    29.0  928\n",
       "Macro/Int/Trade  32.760000    22.0  819"
      ]
     },
     "execution_count": 24,
     "metadata": {},
     "output_type": "execute_result"
    }
   ],
   "source": [
    "grouped['volWoS'].agg(['mean', 'median', 'sum'])"
   ]
  },
  {
   "cell_type": "markdown",
   "metadata": {},
   "source": [
    "A list of built-in aggregatation functions can be found [here](http://pandas.pydata.org/pandas-docs/stable/basics.html#descriptive-statistics)\n",
    "\n",
    "Pandas provides a built-in plotting command to create `matplotlib` plots from your dataframes\n",
    "\n",
    "To display our plots, we need to import first `matplotlib`"
   ]
  },
  {
   "cell_type": "code",
   "execution_count": 25,
   "metadata": {},
   "outputs": [
    {
     "data": {
      "image/png": "[encoded data removed]",
      "text/plain": [
       "<matplotlib.figure.Figure at 0x10ee0d0b8>"
      ]
     },
     "metadata": {},
     "output_type": "display_data"
    }
   ],
   "source": [
    "import matplotlib.pyplot as plt\n",
    "\n",
    "grouped['volWoS'].mean().plot(kind='bar', figsize=(10, 8))\n",
    "plt.show()"
   ]
  },
  {
   "cell_type": "markdown",
   "metadata": {},
   "source": [
    "### Exercise\n",
    "\n",
    "#### Return the mean of Google Scholar citations for each field and sort from highest to lowest, plot the result as a bar plot"
   ]
  },
  {
   "cell_type": "code",
   "execution_count": null,
   "metadata": {
    "collapsed": true
   },
   "outputs": [],
   "source": []
  },
  {
   "cell_type": "markdown",
   "metadata": {},
   "source": [
    "<button data-toggle=\"collapse\" data-target=\"#sol9\" class='btn btn-primary'>Solution</button>\n",
    "<div id=\"sol9\" class=\"collapse\">\n",
    "```python\n",
    "grouped['volGScites'].mean().sort_values(ascending=False).plot(kind='bar')\n",
    "plt.show()\n",
    "```\n",
    "<img src = './plot_groupby.png'>"
   ]
  },
  {
   "cell_type": "markdown",
   "metadata": {},
   "source": [
    "## Merging datasets"
   ]
  },
  {
   "cell_type": "markdown",
   "metadata": {},
   "source": [
    "So far, we have not talked about *replication* of papers\n",
    "\n",
    "This data is located in a different Stata file, which we will load in and assign to the variable `cites`\n",
    "\n",
    "`cites` contains data on each citation of a paper in the `volume` dataframe\n",
    "\n",
    "We are interested in the indicator variables, **replication** and **extension**"
   ]
  },
  {
   "cell_type": "code",
   "execution_count": 26,
   "metadata": {},
   "outputs": [
    {
     "data": {
      "text/html": [
       "<div>\n",
       "<style>\n",
       "    .dataframe thead tr:only-child th {\n",
       "        text-align: right;\n",
       "    }\n",
       "\n",
       "    .dataframe thead th {\n",
       "        text-align: left;\n",
       "    }\n",
       "\n",
       "    .dataframe tbody tr th {\n",
       "        vertical-align: top;\n",
       "    }\n",
       "</style>\n",
       "<table border=\"1\" class=\"dataframe\">\n",
       "  <thead>\n",
       "    <tr style=\"text-align: right;\">\n",
       "      <th></th>\n",
       "      <th>volID</th>\n",
       "      <th>paperID</th>\n",
       "      <th>volCoder</th>\n",
       "      <th>replication</th>\n",
       "      <th>extension</th>\n",
       "      <th>cField</th>\n",
       "      <th>sameSpec</th>\n",
       "      <th>samePop</th>\n",
       "      <th>sameSample</th>\n",
       "      <th>timesCited</th>\n",
       "      <th>commonAuthor</th>\n",
       "      <th>year</th>\n",
       "      <th>widerScope</th>\n",
       "      <th>frameRep</th>\n",
       "    </tr>\n",
       "  </thead>\n",
       "  <tbody>\n",
       "    <tr>\n",
       "      <th>0</th>\n",
       "      <td>2</td>\n",
       "      <td>25</td>\n",
       "      <td>3.0</td>\n",
       "      <td>0.0</td>\n",
       "      <td>0.0</td>\n",
       "      <td>Labor/IO</td>\n",
       "      <td>0.0</td>\n",
       "      <td>0.0</td>\n",
       "      <td>0.0</td>\n",
       "      <td>2.0</td>\n",
       "      <td>0.0</td>\n",
       "      <td>2012.0</td>\n",
       "      <td>NaN</td>\n",
       "      <td>0.0</td>\n",
       "    </tr>\n",
       "    <tr>\n",
       "      <th>1</th>\n",
       "      <td>2</td>\n",
       "      <td>65</td>\n",
       "      <td>3.0</td>\n",
       "      <td>0.0</td>\n",
       "      <td>0.0</td>\n",
       "      <td>Applied (gen.)</td>\n",
       "      <td>0.0</td>\n",
       "      <td>0.0</td>\n",
       "      <td>0.0</td>\n",
       "      <td>1.0</td>\n",
       "      <td>0.0</td>\n",
       "      <td>2015.0</td>\n",
       "      <td>NaN</td>\n",
       "      <td>0.0</td>\n",
       "    </tr>\n",
       "    <tr>\n",
       "      <th>2</th>\n",
       "      <td>2</td>\n",
       "      <td>69</td>\n",
       "      <td>3.0</td>\n",
       "      <td>0.0</td>\n",
       "      <td>0.0</td>\n",
       "      <td>Development</td>\n",
       "      <td>0.0</td>\n",
       "      <td>0.0</td>\n",
       "      <td>0.0</td>\n",
       "      <td>1.0</td>\n",
       "      <td>0.0</td>\n",
       "      <td>2013.0</td>\n",
       "      <td>NaN</td>\n",
       "      <td>0.0</td>\n",
       "    </tr>\n",
       "    <tr>\n",
       "      <th>3</th>\n",
       "      <td>2</td>\n",
       "      <td>127</td>\n",
       "      <td>3.0</td>\n",
       "      <td>0.0</td>\n",
       "      <td>0.0</td>\n",
       "      <td>Theory</td>\n",
       "      <td>0.0</td>\n",
       "      <td>0.0</td>\n",
       "      <td>0.0</td>\n",
       "      <td>2.0</td>\n",
       "      <td>0.0</td>\n",
       "      <td>2011.0</td>\n",
       "      <td>NaN</td>\n",
       "      <td>0.0</td>\n",
       "    </tr>\n",
       "    <tr>\n",
       "      <th>4</th>\n",
       "      <td>2</td>\n",
       "      <td>135</td>\n",
       "      <td>3.0</td>\n",
       "      <td>0.0</td>\n",
       "      <td>0.0</td>\n",
       "      <td>Applied (gen.)</td>\n",
       "      <td>0.0</td>\n",
       "      <td>0.0</td>\n",
       "      <td>0.0</td>\n",
       "      <td>1.0</td>\n",
       "      <td>0.0</td>\n",
       "      <td>2012.0</td>\n",
       "      <td>NaN</td>\n",
       "      <td>0.0</td>\n",
       "    </tr>\n",
       "  </tbody>\n",
       "</table>\n",
       "</div>"
      ],
      "text/plain": [
       "   volID  paperID  volCoder  replication  extension          cField  sameSpec  \\\n",
       "0      2       25       3.0          0.0        0.0        Labor/IO       0.0   \n",
       "1      2       65       3.0          0.0        0.0  Applied (gen.)       0.0   \n",
       "2      2       69       3.0          0.0        0.0     Development       0.0   \n",
       "3      2      127       3.0          0.0        0.0          Theory       0.0   \n",
       "4      2      135       3.0          0.0        0.0  Applied (gen.)       0.0   \n",
       "\n",
       "   samePop  sameSample  timesCited  commonAuthor    year  widerScope  frameRep  \n",
       "0      0.0         0.0         2.0           0.0  2012.0         NaN       0.0  \n",
       "1      0.0         0.0         1.0           0.0  2015.0         NaN       0.0  \n",
       "2      0.0         0.0         1.0           0.0  2013.0         NaN       0.0  \n",
       "3      0.0         0.0         2.0           0.0  2011.0         NaN       0.0  \n",
       "4      0.0         0.0         1.0           0.0  2012.0         NaN       0.0  "
      ]
     },
     "execution_count": 26,
     "metadata": {},
     "output_type": "execute_result"
    }
   ],
   "source": [
    "cites = pd.read_stata('./AssessingCodedData.dta')\n",
    "cites.head()"
   ]
  },
  {
   "cell_type": "markdown",
   "metadata": {},
   "source": [
    "We want to add this data to our original dataframe\n",
    "\n",
    "To do this, we will group `cites` by `volID`, which is a unique identifier for the original 70 empirical papers\n",
    "\n",
    "We will aggregate using `.sum()` to find the total number of replications and extensions for each of the 70 papers"
   ]
  },
  {
   "cell_type": "code",
   "execution_count": 27,
   "metadata": {},
   "outputs": [
    {
     "data": {
      "text/html": [
       "<div>\n",
       "<style>\n",
       "    .dataframe thead tr:only-child th {\n",
       "        text-align: right;\n",
       "    }\n",
       "\n",
       "    .dataframe thead th {\n",
       "        text-align: left;\n",
       "    }\n",
       "\n",
       "    .dataframe tbody tr th {\n",
       "        vertical-align: top;\n",
       "    }\n",
       "</style>\n",
       "<table border=\"1\" class=\"dataframe\">\n",
       "  <thead>\n",
       "    <tr style=\"text-align: right;\">\n",
       "      <th></th>\n",
       "      <th>replication</th>\n",
       "      <th>extension</th>\n",
       "    </tr>\n",
       "    <tr>\n",
       "      <th>volID</th>\n",
       "      <th></th>\n",
       "      <th></th>\n",
       "    </tr>\n",
       "  </thead>\n",
       "  <tbody>\n",
       "    <tr>\n",
       "      <th>2</th>\n",
       "      <td>1.0</td>\n",
       "      <td>10.0</td>\n",
       "    </tr>\n",
       "    <tr>\n",
       "      <th>3</th>\n",
       "      <td>1.0</td>\n",
       "      <td>2.0</td>\n",
       "    </tr>\n",
       "    <tr>\n",
       "      <th>4</th>\n",
       "      <td>2.0</td>\n",
       "      <td>0.0</td>\n",
       "    </tr>\n",
       "    <tr>\n",
       "      <th>5</th>\n",
       "      <td>0.0</td>\n",
       "      <td>5.0</td>\n",
       "    </tr>\n",
       "    <tr>\n",
       "      <th>6</th>\n",
       "      <td>0.0</td>\n",
       "      <td>0.0</td>\n",
       "    </tr>\n",
       "  </tbody>\n",
       "</table>\n",
       "</div>"
      ],
      "text/plain": [
       "       replication  extension\n",
       "volID                        \n",
       "2              1.0       10.0\n",
       "3              1.0        2.0\n",
       "4              2.0        0.0\n",
       "5              0.0        5.0\n",
       "6              0.0        0.0"
      ]
     },
     "execution_count": 27,
     "metadata": {},
     "output_type": "execute_result"
    }
   ],
   "source": [
    "volumes_cites = cites[['volID', 'replication', 'extension']].groupby('volID').sum()\n",
    "volumes_cites.head()"
   ]
  },
  {
   "cell_type": "markdown",
   "metadata": {},
   "source": [
    "We will also add a new column that sums total replications and extensions"
   ]
  },
  {
   "cell_type": "code",
   "execution_count": 28,
   "metadata": {},
   "outputs": [
    {
     "data": {
      "text/html": [
       "<div>\n",
       "<style>\n",
       "    .dataframe thead tr:only-child th {\n",
       "        text-align: right;\n",
       "    }\n",
       "\n",
       "    .dataframe thead th {\n",
       "        text-align: left;\n",
       "    }\n",
       "\n",
       "    .dataframe tbody tr th {\n",
       "        vertical-align: top;\n",
       "    }\n",
       "</style>\n",
       "<table border=\"1\" class=\"dataframe\">\n",
       "  <thead>\n",
       "    <tr style=\"text-align: right;\">\n",
       "      <th></th>\n",
       "      <th>replication</th>\n",
       "      <th>extension</th>\n",
       "      <th>total</th>\n",
       "    </tr>\n",
       "    <tr>\n",
       "      <th>volID</th>\n",
       "      <th></th>\n",
       "      <th></th>\n",
       "      <th></th>\n",
       "    </tr>\n",
       "  </thead>\n",
       "  <tbody>\n",
       "    <tr>\n",
       "      <th>2</th>\n",
       "      <td>1.0</td>\n",
       "      <td>10.0</td>\n",
       "      <td>11.0</td>\n",
       "    </tr>\n",
       "    <tr>\n",
       "      <th>3</th>\n",
       "      <td>1.0</td>\n",
       "      <td>2.0</td>\n",
       "      <td>3.0</td>\n",
       "    </tr>\n",
       "    <tr>\n",
       "      <th>4</th>\n",
       "      <td>2.0</td>\n",
       "      <td>0.0</td>\n",
       "      <td>2.0</td>\n",
       "    </tr>\n",
       "    <tr>\n",
       "      <th>5</th>\n",
       "      <td>0.0</td>\n",
       "      <td>5.0</td>\n",
       "      <td>5.0</td>\n",
       "    </tr>\n",
       "    <tr>\n",
       "      <th>6</th>\n",
       "      <td>0.0</td>\n",
       "      <td>0.0</td>\n",
       "      <td>0.0</td>\n",
       "    </tr>\n",
       "  </tbody>\n",
       "</table>\n",
       "</div>"
      ],
      "text/plain": [
       "       replication  extension  total\n",
       "volID                               \n",
       "2              1.0       10.0   11.0\n",
       "3              1.0        2.0    3.0\n",
       "4              2.0        0.0    2.0\n",
       "5              0.0        5.0    5.0\n",
       "6              0.0        0.0    0.0"
      ]
     },
     "execution_count": 28,
     "metadata": {},
     "output_type": "execute_result"
    }
   ],
   "source": [
    "volumes_cites['total'] = volumes_cites['replication'] + volumes_cites['extension']\n",
    "volumes_cites.head()"
   ]
  },
  {
   "cell_type": "markdown",
   "metadata": {},
   "source": [
    "To combine this data with our original dataframe, `volume`, we will use `pd.merge()`"
   ]
  },
  {
   "cell_type": "code",
   "execution_count": 29,
   "metadata": {},
   "outputs": [
    {
     "data": {
      "text/html": [
       "<div>\n",
       "<style>\n",
       "    .dataframe thead tr:only-child th {\n",
       "        text-align: right;\n",
       "    }\n",
       "\n",
       "    .dataframe thead th {\n",
       "        text-align: left;\n",
       "    }\n",
       "\n",
       "    .dataframe tbody tr th {\n",
       "        vertical-align: top;\n",
       "    }\n",
       "</style>\n",
       "<table border=\"1\" class=\"dataframe\">\n",
       "  <thead>\n",
       "    <tr style=\"text-align: right;\">\n",
       "      <th></th>\n",
       "      <th>index</th>\n",
       "      <th>volTitle</th>\n",
       "      <th>volID</th>\n",
       "      <th>volCoder</th>\n",
       "      <th>volWoS</th>\n",
       "      <th>volTop200Econ</th>\n",
       "      <th>volGScites</th>\n",
       "      <th>volField</th>\n",
       "      <th>totalCites</th>\n",
       "      <th>replication</th>\n",
       "      <th>extension</th>\n",
       "      <th>total</th>\n",
       "    </tr>\n",
       "  </thead>\n",
       "  <tbody>\n",
       "    <tr>\n",
       "      <th>0</th>\n",
       "      <td>0</td>\n",
       "      <td>A New Approach to Estimating the Production Function for Housing</td>\n",
       "      <td>37</td>\n",
       "      <td>5.0</td>\n",
       "      <td>13</td>\n",
       "      <td>11.0</td>\n",
       "      <td>74</td>\n",
       "      <td>Applied (gen.)</td>\n",
       "      <td>98.0</td>\n",
       "      <td>0.0</td>\n",
       "      <td>1.0</td>\n",
       "      <td>1.0</td>\n",
       "    </tr>\n",
       "    <tr>\n",
       "      <th>1</th>\n",
       "      <td>1</td>\n",
       "      <td>A Study of the Internal Organization of a Bidding Cartel</td>\n",
       "      <td>32</td>\n",
       "      <td>5.0</td>\n",
       "      <td>21</td>\n",
       "      <td>11.0</td>\n",
       "      <td>127</td>\n",
       "      <td>Labor/IO</td>\n",
       "      <td>159.0</td>\n",
       "      <td>0.0</td>\n",
       "      <td>0.0</td>\n",
       "      <td>0.0</td>\n",
       "    </tr>\n",
       "    <tr>\n",
       "      <th>2</th>\n",
       "      <td>2</td>\n",
       "      <td>A Theory of Optimal Random Crackdowns</td>\n",
       "      <td>44</td>\n",
       "      <td>5.0</td>\n",
       "      <td>4</td>\n",
       "      <td>2.0</td>\n",
       "      <td>41</td>\n",
       "      <td>Applied (gen.)</td>\n",
       "      <td>47.0</td>\n",
       "      <td>0.0</td>\n",
       "      <td>0.0</td>\n",
       "      <td>0.0</td>\n",
       "    </tr>\n",
       "    <tr>\n",
       "      <th>3</th>\n",
       "      <td>3</td>\n",
       "      <td>An Exploration of Technology Diffusion</td>\n",
       "      <td>84</td>\n",
       "      <td>2.0</td>\n",
       "      <td>36</td>\n",
       "      <td>16.0</td>\n",
       "      <td>226</td>\n",
       "      <td>Macro/Int/Trade</td>\n",
       "      <td>278.0</td>\n",
       "      <td>0.0</td>\n",
       "      <td>0.0</td>\n",
       "      <td>0.0</td>\n",
       "    </tr>\n",
       "    <tr>\n",
       "      <th>4</th>\n",
       "      <td>4</td>\n",
       "      <td>Are Health Insurance Markets Competitive?</td>\n",
       "      <td>58</td>\n",
       "      <td>5.0</td>\n",
       "      <td>29</td>\n",
       "      <td>16.0</td>\n",
       "      <td>139</td>\n",
       "      <td>Labor/IO</td>\n",
       "      <td>184.0</td>\n",
       "      <td>0.0</td>\n",
       "      <td>0.0</td>\n",
       "      <td>0.0</td>\n",
       "    </tr>\n",
       "  </tbody>\n",
       "</table>\n",
       "</div>"
      ],
      "text/plain": [
       "   index                                                          volTitle  \\\n",
       "0      0  A New Approach to Estimating the Production Function for Housing   \n",
       "1      1          A Study of the Internal Organization of a Bidding Cartel   \n",
       "2      2                             A Theory of Optimal Random Crackdowns   \n",
       "3      3                            An Exploration of Technology Diffusion   \n",
       "4      4                         Are Health Insurance Markets Competitive?   \n",
       "\n",
       "   volID  volCoder  volWoS  volTop200Econ  volGScites         volField  \\\n",
       "0     37       5.0      13           11.0          74   Applied (gen.)   \n",
       "1     32       5.0      21           11.0         127         Labor/IO   \n",
       "2     44       5.0       4            2.0          41   Applied (gen.)   \n",
       "3     84       2.0      36           16.0         226  Macro/Int/Trade   \n",
       "4     58       5.0      29           16.0         139         Labor/IO   \n",
       "\n",
       "   totalCites  replication  extension  total  \n",
       "0        98.0          0.0        1.0    1.0  \n",
       "1       159.0          0.0        0.0    0.0  \n",
       "2        47.0          0.0        0.0    0.0  \n",
       "3       278.0          0.0        0.0    0.0  \n",
       "4       184.0          0.0        0.0    0.0  "
      ]
     },
     "execution_count": 29,
     "metadata": {},
     "output_type": "execute_result"
    }
   ],
   "source": [
    "merged = pd.merge(volume, volumes_cites, how='left', left_on='volID', right_index=True)\n",
    "merged.head()"
   ]
  },
  {
   "cell_type": "markdown",
   "metadata": {},
   "source": [
    "We have specified a 'left' merge, meaning we keep all rows from the left dataset (`volume`) and merge rows from the right dataset (`volume_cites`) where possible\n",
    "\n",
    "* We don't drop any papers which have 0 citations"
   ]
  },
  {
   "cell_type": "code",
   "execution_count": 30,
   "metadata": {},
   "outputs": [
    {
     "data": {
      "image/png": "[encoded data removed]",
      "text/plain": [
       "<IPython.core.display.Image object>"
      ]
     },
     "execution_count": 30,
     "metadata": {},
     "output_type": "execute_result"
    }
   ],
   "source": [
    "Image('./venn_diag.png')"
   ]
  },
  {
   "cell_type": "markdown",
   "metadata": {},
   "source": [
    "Note that we have some `NaN` values in our rows - these are papers in the sample which presumably had zero citations (where there was no data found in the 'right' dataframe)"
   ]
  },
  {
   "cell_type": "code",
   "execution_count": 31,
   "metadata": {},
   "outputs": [
    {
     "data": {
      "text/html": [
       "<div>\n",
       "<style>\n",
       "    .dataframe thead tr:only-child th {\n",
       "        text-align: right;\n",
       "    }\n",
       "\n",
       "    .dataframe thead th {\n",
       "        text-align: left;\n",
       "    }\n",
       "\n",
       "    .dataframe tbody tr th {\n",
       "        vertical-align: top;\n",
       "    }\n",
       "</style>\n",
       "<table border=\"1\" class=\"dataframe\">\n",
       "  <thead>\n",
       "    <tr style=\"text-align: right;\">\n",
       "      <th></th>\n",
       "      <th>index</th>\n",
       "      <th>volTitle</th>\n",
       "      <th>volID</th>\n",
       "      <th>volCoder</th>\n",
       "      <th>volWoS</th>\n",
       "      <th>volTop200Econ</th>\n",
       "      <th>volGScites</th>\n",
       "      <th>volField</th>\n",
       "      <th>totalCites</th>\n",
       "      <th>replication</th>\n",
       "      <th>extension</th>\n",
       "      <th>total</th>\n",
       "    </tr>\n",
       "  </thead>\n",
       "  <tbody>\n",
       "    <tr>\n",
       "      <th>45</th>\n",
       "      <td>45</td>\n",
       "      <td>Preemption Games: Theory and Experiment</td>\n",
       "      <td>72</td>\n",
       "      <td>1.0</td>\n",
       "      <td>1</td>\n",
       "      <td>0.0</td>\n",
       "      <td>18</td>\n",
       "      <td>Behavioral/Exp.</td>\n",
       "      <td>19.0</td>\n",
       "      <td>NaN</td>\n",
       "      <td>NaN</td>\n",
       "      <td>NaN</td>\n",
       "    </tr>\n",
       "    <tr>\n",
       "      <th>57</th>\n",
       "      <td>57</td>\n",
       "      <td>Technology Adoption with Exit in Imperfectly Informed Equity Markets</td>\n",
       "      <td>38</td>\n",
       "      <td>2.0</td>\n",
       "      <td>1</td>\n",
       "      <td>0.0</td>\n",
       "      <td>7</td>\n",
       "      <td>Macro/Int/Trade</td>\n",
       "      <td>8.0</td>\n",
       "      <td>NaN</td>\n",
       "      <td>NaN</td>\n",
       "      <td>NaN</td>\n",
       "    </tr>\n",
       "  </tbody>\n",
       "</table>\n",
       "</div>"
      ],
      "text/plain": [
       "    index  \\\n",
       "45     45   \n",
       "57     57   \n",
       "\n",
       "                                                                volTitle  \\\n",
       "45                               Preemption Games: Theory and Experiment   \n",
       "57  Technology Adoption with Exit in Imperfectly Informed Equity Markets   \n",
       "\n",
       "    volID  volCoder  volWoS  volTop200Econ  volGScites         volField  \\\n",
       "45     72       1.0       1            0.0          18  Behavioral/Exp.   \n",
       "57     38       2.0       1            0.0           7  Macro/Int/Trade   \n",
       "\n",
       "    totalCites  replication  extension  total  \n",
       "45        19.0          NaN        NaN    NaN  \n",
       "57         8.0          NaN        NaN    NaN  "
      ]
     },
     "execution_count": 31,
     "metadata": {},
     "output_type": "execute_result"
    }
   ],
   "source": [
    "merged[merged['total'].isnull()]"
   ]
  },
  {
   "cell_type": "markdown",
   "metadata": {},
   "source": [
    "We will fill these is as 0"
   ]
  },
  {
   "cell_type": "code",
   "execution_count": 32,
   "metadata": {},
   "outputs": [
    {
     "data": {
      "text/html": [
       "<div>\n",
       "<style>\n",
       "    .dataframe thead tr:only-child th {\n",
       "        text-align: right;\n",
       "    }\n",
       "\n",
       "    .dataframe thead th {\n",
       "        text-align: left;\n",
       "    }\n",
       "\n",
       "    .dataframe tbody tr th {\n",
       "        vertical-align: top;\n",
       "    }\n",
       "</style>\n",
       "<table border=\"1\" class=\"dataframe\">\n",
       "  <thead>\n",
       "    <tr style=\"text-align: right;\">\n",
       "      <th></th>\n",
       "      <th>index</th>\n",
       "      <th>volTitle</th>\n",
       "      <th>volID</th>\n",
       "      <th>volCoder</th>\n",
       "      <th>volWoS</th>\n",
       "      <th>volTop200Econ</th>\n",
       "      <th>volGScites</th>\n",
       "      <th>volField</th>\n",
       "      <th>totalCites</th>\n",
       "      <th>replication</th>\n",
       "      <th>extension</th>\n",
       "      <th>total</th>\n",
       "    </tr>\n",
       "  </thead>\n",
       "  <tbody>\n",
       "    <tr>\n",
       "      <th>45</th>\n",
       "      <td>45</td>\n",
       "      <td>Preemption Games: Theory and Experiment</td>\n",
       "      <td>72</td>\n",
       "      <td>1.0</td>\n",
       "      <td>1</td>\n",
       "      <td>0.0</td>\n",
       "      <td>18</td>\n",
       "      <td>Behavioral/Exp.</td>\n",
       "      <td>19.0</td>\n",
       "      <td>0.0</td>\n",
       "      <td>0.0</td>\n",
       "      <td>0.0</td>\n",
       "    </tr>\n",
       "  </tbody>\n",
       "</table>\n",
       "</div>"
      ],
      "text/plain": [
       "    index                                 volTitle  volID  volCoder  volWoS  \\\n",
       "45     45  Preemption Games: Theory and Experiment     72       1.0       1   \n",
       "\n",
       "    volTop200Econ  volGScites         volField  totalCites  replication  \\\n",
       "45            0.0          18  Behavioral/Exp.        19.0          0.0   \n",
       "\n",
       "    extension  total  \n",
       "45        0.0    0.0  "
      ]
     },
     "execution_count": 32,
     "metadata": {},
     "output_type": "execute_result"
    }
   ],
   "source": [
    "merged[['replication', 'extension', 'total']] = merged[['replication', 'extension', 'total']].fillna(0)\n",
    "merged[merged['volTitle'] == 'Preemption Games: Theory and Experiment']"
   ]
  },
  {
   "cell_type": "markdown",
   "metadata": {},
   "source": [
    "We can now use this dataframe to plot the average number of replications and extensions by field"
   ]
  },
  {
   "cell_type": "code",
   "execution_count": 33,
   "metadata": {},
   "outputs": [
    {
     "data": {
      "image/png": "[encoded data removed]",
      "text/plain": [
       "<matplotlib.figure.Figure at 0x10e657dd8>"
      ]
     },
     "metadata": {},
     "output_type": "display_data"
    }
   ],
   "source": [
    "to_plot = merged[['volField', 'total']].groupby('volField').mean()\n",
    "to_plot.sort_values(by='total').plot(kind='bar', color='purple', figsize=(12, 8), legend=False)\n",
    "plt.title('Average number of replications and extensions')\n",
    "plt.xlabel('Field')\n",
    "plt.xticks(rotation=35)\n",
    "plt.show()"
   ]
  },
  {
   "cell_type": "markdown",
   "metadata": {},
   "source": [
    "### Exercises\n",
    "\n",
    "#### Try to recreate this plot. \n",
    "* **Hint:** The plot kind is `'scatter'`"
   ]
  },
  {
   "cell_type": "code",
   "execution_count": 34,
   "metadata": {},
   "outputs": [
    {
     "data": {
      "image/png": "[encoded data removed]",
      "text/plain": [
       "<IPython.core.display.Image object>"
      ]
     },
     "execution_count": 34,
     "metadata": {},
     "output_type": "execute_result"
    }
   ],
   "source": [
    "Image('./plot_exer1.png')"
   ]
  },
  {
   "cell_type": "code",
   "execution_count": null,
   "metadata": {
    "collapsed": true
   },
   "outputs": [],
   "source": []
  },
  {
   "cell_type": "markdown",
   "metadata": {},
   "source": [
    "<button data-toggle=\"collapse\" data-target=\"#sol10\" class='btn btn-primary'>Solution</button>\n",
    "<div id=\"sol10\" class=\"collapse\">\n",
    "```python\n",
    "merged.plot(x='volWoS', y='total', kind='scatter', alpha=0.6, figsize=(12, 8))\n",
    "plt.ylabel('Total replications and extensions')\n",
    "plt.xlabel('Number of citations')\n",
    "plt.grid()\n",
    "plt.show()\n",
    "```"
   ]
  },
  {
   "cell_type": "markdown",
   "metadata": {},
   "source": [
    "## Another plotting library: `seaborn`\n",
    "\n",
    "* `seaborn` is a plotting library built on top of `matplotlib`\n",
    "\n",
    "* It is geared towards producing pretty plots for statistical applications\n",
    "\n",
    "* You can find an example gallery of `seaborn` plots [here](https://seaborn.pydata.org/examples/index.html)"
   ]
  },
  {
   "cell_type": "code",
   "execution_count": 35,
   "metadata": {
    "collapsed": true
   },
   "outputs": [],
   "source": [
    "import seaborn as sns  # Import the package\n",
    "sns.set_style(\"darkgrid\")"
   ]
  },
  {
   "cell_type": "code",
   "execution_count": 36,
   "metadata": {
    "scrolled": true
   },
   "outputs": [
    {
     "data": {
      "image/png": "[encoded data removed]",
      "text/plain": [
       "<matplotlib.figure.Figure at 0x1145ab9e8>"
      ]
     },
     "metadata": {},
     "output_type": "display_data"
    }
   ],
   "source": [
    "sns.boxplot(x='volField', y='total', data=merged)\n",
    "plt.show()"
   ]
  },
  {
   "cell_type": "code",
   "execution_count": 37,
   "metadata": {},
   "outputs": [
    {
     "data": {
      "image/png": "[encoded data removed]",
      "text/plain": [
       "<matplotlib.figure.Figure at 0x11260d5f8>"
      ]
     },
     "metadata": {},
     "output_type": "display_data"
    }
   ],
   "source": [
    "sns.jointplot(x='volWoS', y='replication', data=merged)\n",
    "plt.show()"
   ]
  },
  {
   "cell_type": "code",
   "execution_count": 38,
   "metadata": {},
   "outputs": [
    {
     "data": {
      "image/png": "[encoded data removed]",
      "text/plain": [
       "<matplotlib.figure.Figure at 0x11260eb38>"
      ]
     },
     "metadata": {},
     "output_type": "display_data"
    }
   ],
   "source": [
    "sns.kdeplot(data=merged['extension'], shade=True, color='purple', legend=False)\n",
    "sns.kdeplot(data=merged['replication'], shade=True, color='green', legend=False)\n",
    "plt.xlim(0, 10)\n",
    "plt.ylim(0, 1)\n",
    "plt.title('Distribution of extensions and replications')\n",
    "plt.legend()\n",
    "plt.show()"
   ]
  },
  {
   "cell_type": "markdown",
   "metadata": {},
   "source": [
    "### Exercise\n",
    "\n",
    "The following figure is from the original paper, plotting the cumulative density function of citations for papers that were either replicated or not replicated\n",
    "\n",
    "Can you recreate the figure using the `kdeplot` function from `seaborn`? Hint: have a look at the documentation of `kdeplot` by running `sns.kdeplot?`"
   ]
  },
  {
   "cell_type": "code",
   "execution_count": 39,
   "metadata": {
    "scrolled": true
   },
   "outputs": [
    {
     "data": {
      "image/png": "[encoded data removed]",
      "text/plain": [
       "<IPython.core.display.Image object>"
      ]
     },
     "execution_count": 39,
     "metadata": {},
     "output_type": "execute_result"
    }
   ],
   "source": [
    "Image('./plot_exer3.png')"
   ]
  },
  {
   "cell_type": "code",
   "execution_count": null,
   "metadata": {
    "collapsed": true
   },
   "outputs": [],
   "source": []
  },
  {
   "cell_type": "markdown",
   "metadata": {},
   "source": [
    "<button data-toggle=\"collapse\" data-target=\"#sol12\" class='btn btn-primary'>Solution</button>\n",
    "<div id=\"sol12\" class=\"collapse\">\n",
    "```python\n",
    "sns.kdeplot(data=merged[merged['replication'] > 0].loc[:, 'volWoS'], cumulative=True, bw=2)\n",
    "sns.kdeplot(data=merged[merged['replication'] == 0].loc[:, 'volWoS'], cumulative=True, linestyle='--', bw=2)\n",
    "plt.xlim(0, 200)\n",
    "plt.xlabel('Web of Science Citations')\n",
    "plt.ylabel('CDF')\n",
    "plt.legend(['One or more replications', 'No replications'])\n",
    "plt.show()\n",
    "```"
   ]
  },
  {
   "cell_type": "markdown",
   "metadata": {},
   "source": [
    "## Bokeh example\n",
    "\n",
    "Bokeh is a Python library that makes creating interactive plots super easy - an example gallery is [here](http://bokeh.pydata.org/en/latest/docs/gallery.html)"
   ]
  },
  {
   "cell_type": "code",
   "execution_count": 40,
   "metadata": {},
   "outputs": [
    {
     "data": {
      "text/html": [
       "\n",
       "    <div class=\"bk-root\">\n",
       "        <a href=\"https://bokeh.pydata.org\" target=\"_blank\" class=\"bk-logo bk-logo-small bk-logo-notebook\"></a>\n",
       "        <span id=\"dc35775b-993d-4c46-94e6-9114986e6552\">Loading BokehJS ...</span>\n",
       "    </div>"
      ]
     },
     "metadata": {},
     "output_type": "display_data"
    },
    {
     "data": {
      "application/javascript": [
       "\n",
       "(function(root) {\n",
       "  function now() {\n",
       "    return new Date();\n",
       "  }\n",
       "\n",
       "  var force = true;\n",
       "\n",
       "  if (typeof (root._bokeh_onload_callbacks) === \"undefined\" || force === true) {\n",
       "    root._bokeh_onload_callbacks = [];\n",
       "    root._bokeh_is_loading = undefined;\n",
       "  }\n",
       "\n",
       "\n",
       "  \n",
       "  if (typeof (root._bokeh_timeout) === \"undefined\" || force === true) {\n",
       "    root._bokeh_timeout = Date.now() + 5000;\n",
       "    root._bokeh_failed_load = false;\n",
       "  }\n",
       "\n",
       "  var NB_LOAD_WARNING = {'data': {'text/html':\n",
       "     \"<div style='background-color: #fdd'>\\n\"+\n",
       "     \"<p>\\n\"+\n",
       "     \"BokehJS does not appear to have successfully loaded. If loading BokehJS from CDN, this \\n\"+\n",
       "     \"may be due to a slow or bad network connection. Possible fixes:\\n\"+\n",
       "     \"</p>\\n\"+\n",
       "     \"<ul>\\n\"+\n",
       "     \"<li>re-rerun `output_notebook()` to attempt to load from CDN again, or</li>\\n\"+\n",
       "     \"<li>use INLINE resources instead, as so:</li>\\n\"+\n",
       "     \"</ul>\\n\"+\n",
       "     \"<code>\\n\"+\n",
       "     \"from bokeh.resources import INLINE\\n\"+\n",
       "     \"output_notebook(resources=INLINE)\\n\"+\n",
       "     \"</code>\\n\"+\n",
       "     \"</div>\"}};\n",
       "\n",
       "  function display_loaded() {\n",
       "    if (root.Bokeh !== undefined) {\n",
       "      var el = document.getElementById(\"dc35775b-993d-4c46-94e6-9114986e6552\");\n",
       "      if (el != null) {\n",
       "        el.textContent = \"BokehJS \" + Bokeh.version + \" successfully loaded.\";\n",
       "      }\n",
       "    } else if (Date.now() < root._bokeh_timeout) {\n",
       "      setTimeout(display_loaded, 100)\n",
       "    }\n",
       "  }\n",
       "\n",
       "\n",
       "  function run_callbacks() {\n",
       "    try {\n",
       "      root._bokeh_onload_callbacks.forEach(function(callback) { callback() });\n",
       "    }\n",
       "    finally {\n",
       "      delete root._bokeh_onload_callbacks\n",
       "    }\n",
       "    console.info(\"Bokeh: all callbacks have finished\");\n",
       "  }\n",
       "\n",
       "  function load_libs(js_urls, callback) {\n",
       "    root._bokeh_onload_callbacks.push(callback);\n",
       "    if (root._bokeh_is_loading > 0) {\n",
       "      console.log(\"Bokeh: BokehJS is being loaded, scheduling callback at\", now());\n",
       "      return null;\n",
       "    }\n",
       "    if (js_urls == null || js_urls.length === 0) {\n",
       "      run_callbacks();\n",
       "      return null;\n",
       "    }\n",
       "    console.log(\"Bokeh: BokehJS not loaded, scheduling load and callback at\", now());\n",
       "    root._bokeh_is_loading = js_urls.length;\n",
       "    for (var i = 0; i < js_urls.length; i++) {\n",
       "      var url = js_urls[i];\n",
       "      var s = document.createElement('script');\n",
       "      s.src = url;\n",
       "      s.async = false;\n",
       "      s.onreadystatechange = s.onload = function() {\n",
       "        root._bokeh_is_loading--;\n",
       "        if (root._bokeh_is_loading === 0) {\n",
       "          console.log(\"Bokeh: all BokehJS libraries loaded\");\n",
       "          run_callbacks()\n",
       "        }\n",
       "      };\n",
       "      s.onerror = function() {\n",
       "        console.warn(\"failed to load library \" + url);\n",
       "      };\n",
       "      console.log(\"Bokeh: injecting script tag for BokehJS library: \", url);\n",
       "      document.getElementsByTagName(\"head\")[0].appendChild(s);\n",
       "    }\n",
       "  };var element = document.getElementById(\"dc35775b-993d-4c46-94e6-9114986e6552\");\n",
       "  if (element == null) {\n",
       "    console.log(\"Bokeh: ERROR: autoload.js configured with elementid 'dc35775b-993d-4c46-94e6-9114986e6552' but no matching script tag was found. \")\n",
       "    return false;\n",
       "  }\n",
       "\n",
       "  var js_urls = [\"https://cdn.pydata.org/bokeh/release/bokeh-0.12.7.min.js\", \"https://cdn.pydata.org/bokeh/release/bokeh-widgets-0.12.7.min.js\", \"https://cdn.pydata.org/bokeh/release/bokeh-tables-0.12.7.min.js\", \"https://cdn.pydata.org/bokeh/release/bokeh-gl-0.12.7.min.js\"];\n",
       "\n",
       "  var inline_js = [\n",
       "    function(Bokeh) {\n",
       "      Bokeh.set_log_level(\"info\");\n",
       "    },\n",
       "    \n",
       "    function(Bokeh) {\n",
       "      \n",
       "    },\n",
       "    \n",
       "    function(Bokeh) {\n",
       "      \n",
       "      document.getElementById(\"dc35775b-993d-4c46-94e6-9114986e6552\").textContent = \"BokehJS is loading...\";\n",
       "    },\n",
       "    function(Bokeh) {\n",
       "      console.log(\"Bokeh: injecting CSS: https://cdn.pydata.org/bokeh/release/bokeh-0.12.7.min.css\");\n",
       "      Bokeh.embed.inject_css(\"https://cdn.pydata.org/bokeh/release/bokeh-0.12.7.min.css\");\n",
       "      console.log(\"Bokeh: injecting CSS: https://cdn.pydata.org/bokeh/release/bokeh-widgets-0.12.7.min.css\");\n",
       "      Bokeh.embed.inject_css(\"https://cdn.pydata.org/bokeh/release/bokeh-widgets-0.12.7.min.css\");\n",
       "      console.log(\"Bokeh: injecting CSS: https://cdn.pydata.org/bokeh/release/bokeh-tables-0.12.7.min.css\");\n",
       "      Bokeh.embed.inject_css(\"https://cdn.pydata.org/bokeh/release/bokeh-tables-0.12.7.min.css\");\n",
       "    }\n",
       "  ];\n",
       "\n",
       "  function run_inline_js() {\n",
       "    \n",
       "    if ((root.Bokeh !== undefined) || (force === true)) {\n",
       "      for (var i = 0; i < inline_js.length; i++) {\n",
       "        inline_js[i].call(root, root.Bokeh);\n",
       "      }if (force === true) {\n",
       "        display_loaded();\n",
       "      }} else if (Date.now() < root._bokeh_timeout) {\n",
       "      setTimeout(run_inline_js, 100);\n",
       "    } else if (!root._bokeh_failed_load) {\n",
       "      console.log(\"Bokeh: BokehJS failed to load within specified timeout.\");\n",
       "      root._bokeh_failed_load = true;\n",
       "    } else if (force !== true) {\n",
       "      var cell = $(document.getElementById(\"dc35775b-993d-4c46-94e6-9114986e6552\")).parents('.cell').data().cell;\n",
       "      cell.output_area.append_execute_result(NB_LOAD_WARNING)\n",
       "    }\n",
       "\n",
       "  }\n",
       "\n",
       "  if (root._bokeh_is_loading === 0) {\n",
       "    console.log(\"Bokeh: BokehJS loaded, going straight to plotting\");\n",
       "    run_inline_js();\n",
       "  } else {\n",
       "    load_libs(js_urls, function() {\n",
       "      console.log(\"Bokeh: BokehJS plotting callback run at\", now());\n",
       "      run_inline_js();\n",
       "    });\n",
       "  }\n",
       "}(window));"
      ]
     },
     "metadata": {},
     "output_type": "display_data"
    },
    {
     "data": {
      "text/html": [
       "\n",
       "\n",
       "    <div class=\"bk-root\">\n",
       "        <div class=\"bk-plotdiv\" id=\"d828911c-4cae-4146-bd03-a0c68afd1a18\"></div>\n",
       "    </div>\n",
       "<script type=\"text/javascript\">\n",
       "  \n",
       "  (function(root) {\n",
       "    function now() {\n",
       "      return new Date();\n",
       "    }\n",
       "  \n",
       "    var force = false;\n",
       "  \n",
       "    if (typeof (root._bokeh_onload_callbacks) === \"undefined\" || force === true) {\n",
       "      root._bokeh_onload_callbacks = [];\n",
       "      root._bokeh_is_loading = undefined;\n",
       "    }\n",
       "  \n",
       "  \n",
       "    \n",
       "    if (typeof (root._bokeh_timeout) === \"undefined\" || force === true) {\n",
       "      root._bokeh_timeout = Date.now() + 0;\n",
       "      root._bokeh_failed_load = false;\n",
       "    }\n",
       "  \n",
       "    var NB_LOAD_WARNING = {'data': {'text/html':\n",
       "       \"<div style='background-color: #fdd'>\\n\"+\n",
       "       \"<p>\\n\"+\n",
       "       \"BokehJS does not appear to have successfully loaded. If loading BokehJS from CDN, this \\n\"+\n",
       "       \"may be due to a slow or bad network connection. Possible fixes:\\n\"+\n",
       "       \"</p>\\n\"+\n",
       "       \"<ul>\\n\"+\n",
       "       \"<li>re-rerun `output_notebook()` to attempt to load from CDN again, or</li>\\n\"+\n",
       "       \"<li>use INLINE resources instead, as so:</li>\\n\"+\n",
       "       \"</ul>\\n\"+\n",
       "       \"<code>\\n\"+\n",
       "       \"from bokeh.resources import INLINE\\n\"+\n",
       "       \"output_notebook(resources=INLINE)\\n\"+\n",
       "       \"</code>\\n\"+\n",
       "       \"</div>\"}};\n",
       "  \n",
       "    function display_loaded() {\n",
       "      if (root.Bokeh !== undefined) {\n",
       "        var el = document.getElementById(\"d828911c-4cae-4146-bd03-a0c68afd1a18\");\n",
       "        if (el != null) {\n",
       "          el.textContent = \"BokehJS \" + Bokeh.version + \" successfully loaded.\";\n",
       "        }\n",
       "      } else if (Date.now() < root._bokeh_timeout) {\n",
       "        setTimeout(display_loaded, 100)\n",
       "      }\n",
       "    }\n",
       "  \n",
       "  \n",
       "    function run_callbacks() {\n",
       "      try {\n",
       "        root._bokeh_onload_callbacks.forEach(function(callback) { callback() });\n",
       "      }\n",
       "      finally {\n",
       "        delete root._bokeh_onload_callbacks\n",
       "      }\n",
       "      console.info(\"Bokeh: all callbacks have finished\");\n",
       "    }\n",
       "  \n",
       "    function load_libs(js_urls, callback) {\n",
       "      root._bokeh_onload_callbacks.push(callback);\n",
       "      if (root._bokeh_is_loading > 0) {\n",
       "        console.log(\"Bokeh: BokehJS is being loaded, scheduling callback at\", now());\n",
       "        return null;\n",
       "      }\n",
       "      if (js_urls == null || js_urls.length === 0) {\n",
       "        run_callbacks();\n",
       "        return null;\n",
       "      }\n",
       "      console.log(\"Bokeh: BokehJS not loaded, scheduling load and callback at\", now());\n",
       "      root._bokeh_is_loading = js_urls.length;\n",
       "      for (var i = 0; i < js_urls.length; i++) {\n",
       "        var url = js_urls[i];\n",
       "        var s = document.createElement('script');\n",
       "        s.src = url;\n",
       "        s.async = false;\n",
       "        s.onreadystatechange = s.onload = function() {\n",
       "          root._bokeh_is_loading--;\n",
       "          if (root._bokeh_is_loading === 0) {\n",
       "            console.log(\"Bokeh: all BokehJS libraries loaded\");\n",
       "            run_callbacks()\n",
       "          }\n",
       "        };\n",
       "        s.onerror = function() {\n",
       "          console.warn(\"failed to load library \" + url);\n",
       "        };\n",
       "        console.log(\"Bokeh: injecting script tag for BokehJS library: \", url);\n",
       "        document.getElementsByTagName(\"head\")[0].appendChild(s);\n",
       "      }\n",
       "    };var element = document.getElementById(\"d828911c-4cae-4146-bd03-a0c68afd1a18\");\n",
       "    if (element == null) {\n",
       "      console.log(\"Bokeh: ERROR: autoload.js configured with elementid 'd828911c-4cae-4146-bd03-a0c68afd1a18' but no matching script tag was found. \")\n",
       "      return false;\n",
       "    }\n",
       "  \n",
       "    var js_urls = [];\n",
       "  \n",
       "    var inline_js = [\n",
       "      function(Bokeh) {\n",
       "        (function() {\n",
       "          var fn = function() {\n",
       "            var docs_json = {\"288945f3-e954-4148-b2cc-c75c8606adee\":{\"roots\":{\"references\":[{\"attributes\":{\"fill_alpha\":{\"value\":0.7},\"fill_color\":{\"value\":\"red\"},\"line_alpha\":{\"value\":0.7},\"line_color\":{\"value\":\"red\"},\"size\":{\"units\":\"screen\",\"value\":7},\"x\":{\"field\":\"volWoS\"},\"y\":{\"field\":\"replication\"}},\"id\":\"11204248-687b-4029-95e6-1f4dd1f6bfdb\",\"type\":\"Circle\"},{\"attributes\":{\"click_policy\":\"hide\",\"items\":[{\"id\":\"3bda9015-22ec-443f-9220-434e7f2040ce\",\"type\":\"LegendItem\"},{\"id\":\"2dd20fb2-c210-4f8a-afdd-7cfba503ab20\",\"type\":\"LegendItem\"}],\"plot\":{\"id\":\"590d9de4-7b5d-463d-aee0-ef48029cf26b\",\"subtype\":\"Figure\",\"type\":\"Plot\"}},\"id\":\"d734edab-5c49-4883-b6fd-21d9c1d602bf\",\"type\":\"Legend\"},{\"attributes\":{\"active_drag\":\"auto\",\"active_inspect\":\"auto\",\"active_scroll\":\"auto\",\"active_tap\":\"auto\",\"tools\":[{\"id\":\"c954a806-0499-4c33-a68f-8d1c6daf8e67\",\"type\":\"HoverTool\"}]},\"id\":\"d330d666-a5db-4e73-83de-cc26dc9148a4\",\"type\":\"Toolbar\"},{\"attributes\":{},\"id\":\"905ea554-05a2-48a1-9c8b-52d8edff4d1d\",\"type\":\"LinearScale\"},{\"attributes\":{\"axis_label\":\"Number of citations\",\"formatter\":{\"id\":\"d2ad60be-2694-4c4d-9866-7e16c838f57c\",\"type\":\"BasicTickFormatter\"},\"plot\":{\"id\":\"590d9de4-7b5d-463d-aee0-ef48029cf26b\",\"subtype\":\"Figure\",\"type\":\"Plot\"},\"ticker\":{\"id\":\"6d50cd37-57b6-418a-9780-ba8a53997d6d\",\"type\":\"BasicTicker\"}},\"id\":\"b3fc12c6-7767-4fab-a76b-cad5eaa73f5f\",\"type\":\"LinearAxis\"},{\"attributes\":{\"data_source\":{\"id\":\"cf45804f-bfa8-408c-8412-6065c760785f\",\"type\":\"ColumnDataSource\"},\"glyph\":{\"id\":\"e3937fd1-6f1e-4e16-9aae-7470895937d3\",\"type\":\"Circle\"},\"hover_glyph\":null,\"muted_glyph\":null,\"nonselection_glyph\":{\"id\":\"1c2a4dc8-bb34-4a2c-9678-c2361a9c7232\",\"type\":\"Circle\"},\"selection_glyph\":null,\"view\":{\"id\":\"16d69cdd-4d77-4a91-b0be-13d286f2c26b\",\"type\":\"CDSView\"}},\"id\":\"73e34e3f-b3d7-4a89-848d-f67c5a7b0eb6\",\"type\":\"GlyphRenderer\"},{\"attributes\":{},\"id\":\"c08320a2-4922-45b5-96e1-8fb55ae31b44\",\"type\":\"BasicTicker\"},{\"attributes\":{\"source\":{\"id\":\"cf45804f-bfa8-408c-8412-6065c760785f\",\"type\":\"ColumnDataSource\"}},\"id\":\"c01a50b8-0193-45e8-b3d4-fa67e22e7ccc\",\"type\":\"CDSView\"},{\"attributes\":{\"callback\":null},\"id\":\"3d32d2f5-6344-44b5-b82a-dfd9372ef38d\",\"type\":\"DataRange1d\"},{\"attributes\":{\"callback\":null,\"tooltips\":[[\"Title\",\"@volTitle\"],[\"(x,y)\",\"($x, $y)\"]]},\"id\":\"c954a806-0499-4c33-a68f-8d1c6daf8e67\",\"type\":\"HoverTool\"},{\"attributes\":{\"plot\":{\"id\":\"590d9de4-7b5d-463d-aee0-ef48029cf26b\",\"subtype\":\"Figure\",\"type\":\"Plot\"},\"ticker\":{\"id\":\"6d50cd37-57b6-418a-9780-ba8a53997d6d\",\"type\":\"BasicTicker\"}},\"id\":\"7f8cbf1c-0069-405c-b134-6e874fb758f0\",\"type\":\"Grid\"},{\"attributes\":{\"below\":[{\"id\":\"b3fc12c6-7767-4fab-a76b-cad5eaa73f5f\",\"type\":\"LinearAxis\"}],\"left\":[{\"id\":\"f4fa08f8-2cf6-476a-b2f7-dc834334cd3f\",\"type\":\"LinearAxis\"}],\"renderers\":[{\"id\":\"b3fc12c6-7767-4fab-a76b-cad5eaa73f5f\",\"type\":\"LinearAxis\"},{\"id\":\"7f8cbf1c-0069-405c-b134-6e874fb758f0\",\"type\":\"Grid\"},{\"id\":\"f4fa08f8-2cf6-476a-b2f7-dc834334cd3f\",\"type\":\"LinearAxis\"},{\"id\":\"14b87955-1295-400b-a9ba-d89aed1f4e24\",\"type\":\"Grid\"},{\"id\":\"d734edab-5c49-4883-b6fd-21d9c1d602bf\",\"type\":\"Legend\"},{\"id\":\"02f61db5-3dd4-447e-9349-8897158ce8b0\",\"type\":\"GlyphRenderer\"},{\"id\":\"73e34e3f-b3d7-4a89-848d-f67c5a7b0eb6\",\"type\":\"GlyphRenderer\"}],\"title\":{\"id\":\"24b4b17a-df60-42c5-b2d2-8104abf778de\",\"type\":\"Title\"},\"toolbar\":{\"id\":\"d330d666-a5db-4e73-83de-cc26dc9148a4\",\"type\":\"Toolbar\"},\"x_range\":{\"id\":\"b4e9ac72-7c49-4094-af7a-4c6cb2e60e7e\",\"type\":\"DataRange1d\"},\"x_scale\":{\"id\":\"df394263-9020-48a4-a028-5fd6cfe45766\",\"type\":\"LinearScale\"},\"y_range\":{\"id\":\"3d32d2f5-6344-44b5-b82a-dfd9372ef38d\",\"type\":\"DataRange1d\"},\"y_scale\":{\"id\":\"905ea554-05a2-48a1-9c8b-52d8edff4d1d\",\"type\":\"LinearScale\"}},\"id\":\"590d9de4-7b5d-463d-aee0-ef48029cf26b\",\"subtype\":\"Figure\",\"type\":\"Plot\"},{\"attributes\":{\"axis_label\":\"Number of replications or extensions\",\"formatter\":{\"id\":\"60ecc0fa-e1ee-4d34-9e0b-c4ee23049706\",\"type\":\"BasicTickFormatter\"},\"plot\":{\"id\":\"590d9de4-7b5d-463d-aee0-ef48029cf26b\",\"subtype\":\"Figure\",\"type\":\"Plot\"},\"ticker\":{\"id\":\"c08320a2-4922-45b5-96e1-8fb55ae31b44\",\"type\":\"BasicTicker\"}},\"id\":\"f4fa08f8-2cf6-476a-b2f7-dc834334cd3f\",\"type\":\"LinearAxis\"},{\"attributes\":{},\"id\":\"60ecc0fa-e1ee-4d34-9e0b-c4ee23049706\",\"type\":\"BasicTickFormatter\"},{\"attributes\":{\"fill_alpha\":{\"value\":0.1},\"fill_color\":{\"value\":\"#1f77b4\"},\"line_alpha\":{\"value\":0.1},\"line_color\":{\"value\":\"#1f77b4\"},\"size\":{\"units\":\"screen\",\"value\":7},\"x\":{\"field\":\"volWoS\"},\"y\":{\"field\":\"extension\"}},\"id\":\"1c2a4dc8-bb34-4a2c-9678-c2361a9c7232\",\"type\":\"Circle\"},{\"attributes\":{\"plot\":null,\"text\":\"\"},\"id\":\"24b4b17a-df60-42c5-b2d2-8104abf778de\",\"type\":\"Title\"},{\"attributes\":{\"source\":{\"id\":\"cf45804f-bfa8-408c-8412-6065c760785f\",\"type\":\"ColumnDataSource\"}},\"id\":\"16d69cdd-4d77-4a91-b0be-13d286f2c26b\",\"type\":\"CDSView\"},{\"attributes\":{\"fill_alpha\":{\"value\":0.7},\"fill_color\":{\"value\":\"blue\"},\"line_alpha\":{\"value\":0.7},\"line_color\":{\"value\":\"blue\"},\"size\":{\"units\":\"screen\",\"value\":7},\"x\":{\"field\":\"volWoS\"},\"y\":{\"field\":\"extension\"}},\"id\":\"e3937fd1-6f1e-4e16-9aae-7470895937d3\",\"type\":\"Circle\"},{\"attributes\":{\"data_source\":{\"id\":\"cf45804f-bfa8-408c-8412-6065c760785f\",\"type\":\"ColumnDataSource\"},\"glyph\":{\"id\":\"11204248-687b-4029-95e6-1f4dd1f6bfdb\",\"type\":\"Circle\"},\"hover_glyph\":null,\"muted_glyph\":null,\"nonselection_glyph\":{\"id\":\"f067d6e9-831e-48c8-a785-b17c7e96691e\",\"type\":\"Circle\"},\"selection_glyph\":null,\"view\":{\"id\":\"c01a50b8-0193-45e8-b3d4-fa67e22e7ccc\",\"type\":\"CDSView\"}},\"id\":\"02f61db5-3dd4-447e-9349-8897158ce8b0\",\"type\":\"GlyphRenderer\"},{\"attributes\":{\"callback\":null},\"id\":\"b4e9ac72-7c49-4094-af7a-4c6cb2e60e7e\",\"type\":\"DataRange1d\"},{\"attributes\":{\"fill_alpha\":{\"value\":0.1},\"fill_color\":{\"value\":\"#1f77b4\"},\"line_alpha\":{\"value\":0.1},\"line_color\":{\"value\":\"#1f77b4\"},\"size\":{\"units\":\"screen\",\"value\":7},\"x\":{\"field\":\"volWoS\"},\"y\":{\"field\":\"replication\"}},\"id\":\"f067d6e9-831e-48c8-a785-b17c7e96691e\",\"type\":\"Circle\"},{\"attributes\":{\"callback\":null,\"column_names\":[\"volTitle\",\"volWoS\",\"replication\",\"extension\",\"index\"],\"data\":{\"extension\":{\"__ndarray__\":\"AAAAAAAA8D8AAAAAAAAAAAAAAAAAAAAAAAAAAAAAAAAAAAAAAAAAAAAAAAAAACBAAAAAAAAAAAAAAAAAAAAAAAAAAAAAAAAAAAAAAAAAAAAAAAAAAAAAAAAAAAAAAABAAAAAAAAAAAAAAAAAAADwPwAAAAAAABBAAAAAAAAAAEAAAAAAAAAAAAAAAAAAAPA/AAAAAAAAAAAAAAAAAAAAAAAAAAAAAAAAAAAAAAAACEAAAAAAAAAIQAAAAAAAAAAAAAAAAAAAAAAAAAAAAAAIQAAAAAAAAAhAAAAAAAAAAEAAAAAAAAAQQAAAAAAAAAAAAAAAAAAA8D8AAAAAAADwPwAAAAAAAAAAAAAAAAAAAAAAAAAAAAAkQAAAAAAAAAAAAAAAAAAAFEAAAAAAAAAAAAAAAAAAAAAAAAAAAAAAAEAAAAAAAAAAQAAAAAAAAAAAAAAAAAAAAAAAAAAAAAAAAAAAAAAAABxAAAAAAAAAAAAAAAAAAAAAAAAAAAAAAAAAAAAAAAAAFEAAAAAAAAAUQAAAAAAAABBAAAAAAAAACEAAAAAAAAAiQAAAAAAAAPA/AAAAAAAAMEAAAAAAAAAAAAAAAAAAAABAAAAAAAAAAAAAAAAAAADwPwAAAAAAAAAAAAAAAAAAAAAAAAAAAADwPwAAAAAAAAAAAAAAAAAAEEAAAAAAAADwPwAAAAAAAAhAAAAAAAAA8D8AAAAAAAAAAAAAAAAAAAAAAAAAAAAAAAA=\",\"dtype\":\"float64\",\"shape\":[70]},\"index\":[0,1,2,3,4,5,6,7,8,9,10,11,12,13,14,15,16,17,18,19,20,21,22,23,24,25,26,27,28,29,30,31,32,33,34,35,36,37,38,39,40,41,42,43,44,45,46,47,48,49,50,51,52,53,54,55,56,57,58,59,60,61,62,63,64,65,66,67,68,69],\"replication\":{\"__ndarray__\":\"AAAAAAAAAAAAAAAAAAAAAAAAAAAAAAAAAAAAAAAAAAAAAAAAAAAAAAAAAAAAACJAAAAAAAAAAAAAAAAAAAAAAAAAAAAAAAAAAAAAAAAAAAAAAAAAAAAAAAAAAAAAAAAAAAAAAAAAAAAAAAAAAAAAAAAAAAAAAPA/AAAAAAAAFEAAAAAAAAAAAAAAAAAAAAAAAAAAAAAA8D8AAAAAAADwPwAAAAAAAAAAAAAAAAAAAAAAAAAAAAAAAAAAAAAAAPA/AAAAAAAAAAAAAAAAAAAIQAAAAAAAAAAAAAAAAAAAAEAAAAAAAAAAAAAAAAAAAAAAAAAAAAAAAAAAAAAAAAAAAAAAAAAAAAAAAAAAAAAAAAAAAAAAAADwPwAAAAAAAAAAAAAAAAAAAAAAAAAAAAAAQAAAAAAAAAAAAAAAAAAAAAAAAAAAAADwPwAAAAAAAAAAAAAAAAAAAAAAAAAAAAAAAAAAAAAAAAAAAAAAAAAAAAAAAAAAAADwPwAAAAAAABhAAAAAAAAAAAAAAAAAAAAcQAAAAAAAAPA/AAAAAAAA8D8AAAAAAADwPwAAAAAAAAAAAAAAAAAAAEAAAAAAAAAAAAAAAAAAAAAAAAAAAAAAAAAAAAAAAAAAAAAAAAAAAAAAAAAAAAAAAAAAAAAAAAAAAAAAAAAAAAAAAAAAAAAA8D8AAAAAAAAAAAAAAAAAAAAAAAAAAAAAAAAAAAAAAAAAAAAAAAAAAAAAAAAAAAAAFEA=\",\"dtype\":\"float64\",\"shape\":[70]},\"volTitle\":[\"A New Approach to Estimating the Production Function for Housing\",\"A Study of the Internal Organization of a Bidding Cartel\",\"A Theory of Optimal Random Crackdowns\",\"An Exploration of Technology Diffusion\",\"Are Health Insurance Markets Competitive?\",\"Are Risk Aversion and Impatience Related to Cognitive Ability?\",\"Can Higher Prices Stimulate Product Use? Evidence from a Field Experiment in Zambia\",\"Can Multistage Production Explain the Home Bias in Trade?\",\"Constrained School Choice: An Experimental Study\",\"Consumption Taxes and Redistribution\",\"Contractibility and the Design of Research Agreements\",\"Currency Choice and Exchange Rate Pass-Through\",\"Demographics and the Politics of Capital Taxation in a Life-Cycle Economy\",\"Determinants of Redistributive Politics: An Empirical Analysis of Land Reforms in West Bengal, India\",\"Do We Follow Others when We Should? A Simple Test of Rational Expectations\",\"Doing Well by Doing Good? Green Office Buildings\",\"Early Admissions at Selective Colleges\",\"Earnings Losses of Displaced Workers Revisited\",\"Efficiency Gains from Team-Based Coordination-Large-Scale Experimental Evidence\",\"Emissions Trading, Electricity Restructuring, and Investment in Pollution Abatement\",\"Entry, Exit, and Investment-Specific Technical Change\",\"Financial Exchange Rates and International Currency Exposures\",\"Identifying the Elasticity of Substitution with Biased Technical Change\",\"Infrequent Portfolio Decisions: A Solution to the Forward Discount Puzzle\",\"Inheritance Law and Investment in Family Firms\",\"Inherited Trust and Growth\",\"Institutions and Behavior: Experimental Evidence on the Effects of Democracy\",\"Intergroup Conflict and Intra-Group Punishment in an Experimental Contest Game\",\"International Trade and Income Differences\",\"Intertemporal Consumption and Credit Constraints: Does Total Expenditure Respond to an Exogenous Shock to Credit?\",\"Inventories, Lumpy Trade, and Large Devaluations\",\"Investment and Usage of New Technologies: Evidence from a Shared ATM Network\",\"Is Reputation Good or Bad? An Experiment\",\"Is a Donor in Hand Better than Two in the Bush? Evidence from a Natural Field Experiment\",\"Learning about a New Technology: Pineapple in Ghana\",\"Margins of Multinational Labor Substitution\",\"Matching and Sorting in Online Dating\",\"Momma's Got the Pill\\\": How Anthony Comstock and Griswold v. Connecticut Shaped US Childbearing\",\"Monetary Policy Rules and Macroeconomic Stability: Some New Evidence\",\"Multinationals and Anti-Sweatshop Activism\",\"Multiple-Product Firms and Product Switching\",\"Organizational Structure, Communication, and Group Ethics\",\"Patient Cost-Sharing and Hospitalization Offsets in the Elderly\",\"Pavlovian Processes in Consumer Choice: The Physical Presence of a Good Increases Willingness-to-Pay\",\"Pinocchio's Pupil: Using Eyetracking and Pupil Dilation to Understand Truth Telling and Deception in Sender-Receiver Games\",\"Preemption Games: Theory and Experiment\",\"Product Creation and Destruction: Evidence and Price Implications\",\"Psychological Pressure in Competitive Environments: Evidence from a Randomized Natural Experiment\",\"Real Business Cycles in Emerging Countries?\",\"Risk and Time Preferences: Linking Experimental and Household Survey Data from Vietnam\",\"Self-Interest through Delegation: An Additional Rationale for the Principal-Agent Relationship\",\"Social Comparisons and Contributions to Online Communities: A Field Experiment on MovieLens\",\"Social Identity and Preferences\",\"Social Preferences and Strategic Uncertainty: An Experiment on Markets and Contracts\",\"Social Preferences, Beliefs, and the Dynamics of Free Riding in Public Goods Experiments\",\"Specific Capital and Vintage Effects on the Dynamics of Unemployment and Vacancies\",\"Sudden Stops, Financial Crises, and Leverage\",\"Technology Adoption with Exit in Imperfectly Informed Equity Markets\",\"Technology Capital and the US Current Account\",\"The Burden of the Nondiversifiable Risk of Entrepreneurship\",\"The Changing Incidence of Geography\",\"The Effect of Medicare Part D on Pharmaceutical Prices and Utilization\",\"The Gender Wage Gap and Domestic Violence\",\"The Macroeconomic Effects of Tax Changes: Estimates Based on a New Measure of Fiscal Shocks\",\"The Political Economy of the US Mortgage Default Crisis\",\"Tournaments and Office Politics: Evidence from a Real Effort Experiment\",\"Trade Shocks and Labor Adjustment: A Structural Empirical Approach\",\"Wage Risk and Employment Risk over the Life Cycle\",\"Watta Satta: Bride Exchange and Women's Welfare in Rural Pakistan\",\"What Causes Industry Agglomeration? Evidence from Coagglomeration Patterns\"],\"volWoS\":{\"__ndarray__\":\"DQAAABUAAAAEAAAAJAAAAB0AAACOAAAALAAAABgAAAARAAAAAwAAABsAAAAzAAAAAwAAAAwAAAASAAAARQAAAAsAAAA3AAAAEAAAAB0AAAAJAAAAGgAAAC0AAAAfAAAAFgAAAGYAAAAmAAAAMwAAADMAAAAKAAAAFQAAAAcAAAAIAAAAEgAAALAAAAATAAAASwAAABcAAAAUAAAAFQAAAG8AAAAIAAAAQgAAABwAAAA4AAAAAQAAACMAAAAbAAAAMwAAAHMAAAApAAAAMQAAAEsAAAAOAAAAwwAAAAQAAABdAAAAAQAAABQAAAAWAAAAEgAAAB4AAAAeAAAArQAAACMAAAAdAAAAHwAAACsAAAAGAAAAjQAAAA==\",\"dtype\":\"int32\",\"shape\":[70]}}},\"id\":\"cf45804f-bfa8-408c-8412-6065c760785f\",\"type\":\"ColumnDataSource\"},{\"attributes\":{},\"id\":\"d2ad60be-2694-4c4d-9866-7e16c838f57c\",\"type\":\"BasicTickFormatter\"},{\"attributes\":{\"dimension\":1,\"plot\":{\"id\":\"590d9de4-7b5d-463d-aee0-ef48029cf26b\",\"subtype\":\"Figure\",\"type\":\"Plot\"},\"ticker\":{\"id\":\"c08320a2-4922-45b5-96e1-8fb55ae31b44\",\"type\":\"BasicTicker\"}},\"id\":\"14b87955-1295-400b-a9ba-d89aed1f4e24\",\"type\":\"Grid\"},{\"attributes\":{\"label\":{\"value\":\"Replications\"},\"renderers\":[{\"id\":\"02f61db5-3dd4-447e-9349-8897158ce8b0\",\"type\":\"GlyphRenderer\"}]},\"id\":\"3bda9015-22ec-443f-9220-434e7f2040ce\",\"type\":\"LegendItem\"},{\"attributes\":{},\"id\":\"6d50cd37-57b6-418a-9780-ba8a53997d6d\",\"type\":\"BasicTicker\"},{\"attributes\":{},\"id\":\"df394263-9020-48a4-a028-5fd6cfe45766\",\"type\":\"LinearScale\"},{\"attributes\":{\"label\":{\"value\":\"Extensions\"},\"renderers\":[{\"id\":\"73e34e3f-b3d7-4a89-848d-f67c5a7b0eb6\",\"type\":\"GlyphRenderer\"}]},\"id\":\"2dd20fb2-c210-4f8a-afdd-7cfba503ab20\",\"type\":\"LegendItem\"}],\"root_ids\":[\"590d9de4-7b5d-463d-aee0-ef48029cf26b\"]},\"title\":\"Bokeh Application\",\"version\":\"0.12.7\"}};\n",
       "            var render_items = [{\"docid\":\"288945f3-e954-4148-b2cc-c75c8606adee\",\"elementid\":\"d828911c-4cae-4146-bd03-a0c68afd1a18\",\"modelid\":\"590d9de4-7b5d-463d-aee0-ef48029cf26b\"}];\n",
       "            \n",
       "            Bokeh.embed.embed_items(docs_json, render_items);\n",
       "          };\n",
       "          if (document.readyState != \"loading\") fn();\n",
       "          else document.addEventListener(\"DOMContentLoaded\", fn);\n",
       "        })();\n",
       "      },\n",
       "      function(Bokeh) {\n",
       "      }\n",
       "    ];\n",
       "  \n",
       "    function run_inline_js() {\n",
       "      \n",
       "      if ((root.Bokeh !== undefined) || (force === true)) {\n",
       "        for (var i = 0; i < inline_js.length; i++) {\n",
       "          inline_js[i].call(root, root.Bokeh);\n",
       "        }if (force === true) {\n",
       "          display_loaded();\n",
       "        }} else if (Date.now() < root._bokeh_timeout) {\n",
       "        setTimeout(run_inline_js, 100);\n",
       "      } else if (!root._bokeh_failed_load) {\n",
       "        console.log(\"Bokeh: BokehJS failed to load within specified timeout.\");\n",
       "        root._bokeh_failed_load = true;\n",
       "      } else if (force !== true) {\n",
       "        var cell = $(document.getElementById(\"d828911c-4cae-4146-bd03-a0c68afd1a18\")).parents('.cell').data().cell;\n",
       "        cell.output_area.append_execute_result(NB_LOAD_WARNING)\n",
       "      }\n",
       "  \n",
       "    }\n",
       "  \n",
       "    if (root._bokeh_is_loading === 0) {\n",
       "      console.log(\"Bokeh: BokehJS loaded, going straight to plotting\");\n",
       "      run_inline_js();\n",
       "    } else {\n",
       "      load_libs(js_urls, function() {\n",
       "        console.log(\"Bokeh: BokehJS plotting callback run at\", now());\n",
       "        run_inline_js();\n",
       "      });\n",
       "    }\n",
       "  }(window));\n",
       "</script>"
      ]
     },
     "metadata": {},
     "output_type": "display_data"
    }
   ],
   "source": [
    "from bokeh.plotting import figure, output_notebook, show\n",
    "from bokeh.models import ColumnDataSource, HoverTool\n",
    "output_notebook()\n",
    "\n",
    "# Add data source\n",
    "source = ColumnDataSource(merged[['volTitle', 'volWoS', 'replication', 'extension']])\n",
    "colors = ['red', 'blue']\n",
    "\n",
    "# Add title tooltips\n",
    "hover = HoverTool(tooltips=[\n",
    "    (\"Title\", \"@volTitle\"),\n",
    "    (\"(x,y)\", \"($x, $y)\")\n",
    "])\n",
    "\n",
    "# Create figure\n",
    "p = figure(tools=[hover])\n",
    "\n",
    "# Plot scatter\n",
    "for to_plot, color in zip(['replication', 'extension'], colors):\n",
    "    p.circle(x='volWoS', y=to_plot, source=source, size=7, alpha=0.7, legend=[to_plot.title() + 's'], color=color)\n",
    "\n",
    "p.legend.click_policy = 'hide'\n",
    "p.xaxis.axis_label = 'Number of citations'\n",
    "p.yaxis.axis_label = 'Number of replications or extensions'\n",
    "\n",
    "show(p)"
   ]
  },
  {
   "cell_type": "markdown",
   "metadata": {},
   "source": [
    "## Other resources\n",
    "\n",
    "Here are some free, online resources for learning pandas/matplotlib:\n",
    "\n",
    "* QuantEcon lectures: [Pandas](https://lectures.quantecon.org/py/pandas.html), [Pandas for Panel Data](https://lectures.quantecon.org/py/pandas_panel.html), [Matplotlib](https://lectures.quantecon.org/py/matplotlib.html)\n",
    "* QuantEcon [Stata-R-Pandas cheatsheet](https://cheatsheets.quantecon.org/stats-cheatsheet.html)\n",
    "* SciPy 2017: [Anatomy of Matplotlib](https://www.youtube.com/watch?v=rARMKS8jE9g)\n",
    "* Coursera/University of Michigan: [Introduction to Data Science in Python](https://www.coursera.org/learn/python-data-analysis)"
   ]
  },
  {
   "cell_type": "markdown",
   "metadata": {},
   "source": [
    "# Optional: object-orientated plotting\n",
    "\n",
    "* `matplotlib`'s OOP interface allows greater flexibility for plotting - recommended for creating more complicated plots\n",
    "* We will be working with two objects - `Figure` and `Axes`"
   ]
  },
  {
   "cell_type": "code",
   "execution_count": 41,
   "metadata": {
    "collapsed": true
   },
   "outputs": [],
   "source": [
    "plt.style.use('default') # reset style - seaborn changed the style when we plotted seaborn figures before\n",
    "\n",
    "fig, ax = plt.subplots()"
   ]
  },
  {
   "cell_type": "code",
   "execution_count": 42,
   "metadata": {},
   "outputs": [
    {
     "data": {
      "text/plain": [
       "matplotlib.figure.Figure"
      ]
     },
     "execution_count": 42,
     "metadata": {},
     "output_type": "execute_result"
    }
   ],
   "source": [
    "type(fig)"
   ]
  },
  {
   "cell_type": "code",
   "execution_count": 43,
   "metadata": {},
   "outputs": [
    {
     "data": {
      "text/plain": [
       "matplotlib.axes._subplots.AxesSubplot"
      ]
     },
     "execution_count": 43,
     "metadata": {},
     "output_type": "execute_result"
    }
   ],
   "source": [
    "type(ax)"
   ]
  },
  {
   "cell_type": "code",
   "execution_count": 44,
   "metadata": {},
   "outputs": [
    {
     "data": {
      "image/png": "[encoded data removed]",
      "text/plain": [
       "<matplotlib.figure.Figure at 0x114a9d7b8>"
      ]
     },
     "metadata": {},
     "output_type": "display_data"
    }
   ],
   "source": [
    "fig\n",
    "plt.show()"
   ]
  },
  {
   "cell_type": "code",
   "execution_count": 45,
   "metadata": {},
   "outputs": [
    {
     "data": {
      "image/png": "[encoded data removed]",
      "text/plain": [
       "<matplotlib.figure.Figure at 0x11476a860>"
      ]
     },
     "metadata": {},
     "output_type": "display_data"
    }
   ],
   "source": [
    "fig, ax = plt.subplots()\n",
    "merged.plot(x='volWoS', y='replication', kind='scatter', c='green', ax=ax)\n",
    "merged.plot(x='volWoS', y='extension', kind='scatter', c='blue', ax=ax)\n",
    "plt.xlabel('Citations')\n",
    "plt.ylabel('Replicated or extended')\n",
    "plt.show()"
   ]
  },
  {
   "cell_type": "markdown",
   "metadata": {},
   "source": [
    "We can use the OOP interface to create multiple plots in one figure"
   ]
  },
  {
   "cell_type": "code",
   "execution_count": 46,
   "metadata": {
    "collapsed": true
   },
   "outputs": [],
   "source": [
    "fig, axes = plt.subplots(nrows=1, ncols=2, figsize=(10, 3))"
   ]
  },
  {
   "cell_type": "code",
   "execution_count": 47,
   "metadata": {},
   "outputs": [
    {
     "data": {
      "text/plain": [
       "array([<matplotlib.axes._subplots.AxesSubplot object at 0x10eead6d8>,\n",
       "       <matplotlib.axes._subplots.AxesSubplot object at 0x10eef76a0>], dtype=object)"
      ]
     },
     "execution_count": 47,
     "metadata": {},
     "output_type": "execute_result"
    }
   ],
   "source": [
    "axes"
   ]
  },
  {
   "cell_type": "code",
   "execution_count": 48,
   "metadata": {},
   "outputs": [
    {
     "data": {
      "image/png": "[encoded data removed]",
      "text/plain": [
       "<matplotlib.figure.Figure at 0x114846320>"
      ]
     },
     "execution_count": 48,
     "metadata": {},
     "output_type": "execute_result"
    }
   ],
   "source": [
    "fig"
   ]
  },
  {
   "cell_type": "code",
   "execution_count": 49,
   "metadata": {},
   "outputs": [
    {
     "data": {
      "image/png": "[encoded data removed]",
      "text/plain": [
       "<matplotlib.figure.Figure at 0x114846320>"
      ]
     },
     "metadata": {},
     "output_type": "display_data"
    }
   ],
   "source": [
    "merged.plot(x='volWoS', y='replication', kind='scatter', c='green', ax=axes[0])\n",
    "merged.plot(x='volWoS', y='extension', kind='scatter', c='blue', ax=axes[1])\n",
    "axes[0].set_title('Replications vs. citations')\n",
    "axes[1].set_title('Extensions vs. citations')\n",
    "fig\n",
    "plt.show()"
   ]
  },
  {
   "cell_type": "code",
   "execution_count": 50,
   "metadata": {},
   "outputs": [
    {
     "data": {
      "image/png": "[encoded data removed]",
      "text/plain": [
       "<matplotlib.figure.Figure at 0x1147fba58>"
      ]
     },
     "metadata": {},
     "output_type": "display_data"
    }
   ],
   "source": [
    "fig, axes = plt.subplots(nrows=1, ncols=2, figsize=(10, 3))\n",
    "\n",
    "merged.plot(x='volWoS', y='replication', kind='scatter', c='green', ax=axes[0])\n",
    "merged.plot(x='volWoS', y='extension', kind='scatter', c='blue', ax=axes[1])\n",
    "axes[0].set_title('Replications vs. citations')\n",
    "axes[1].set_title('Extensions vs. citations')\n",
    "\n",
    "for ax in axes:\n",
    "    ax.set(xlim=0, ylim=0, xlabel='Citations', ylabel='Count')\n",
    "    ax.grid()\n",
    "    \n",
    "fig\n",
    "plt.show()"
   ]
  },
  {
   "cell_type": "markdown",
   "metadata": {},
   "source": [
    "### Exercise\n",
    "\n",
    "#### Try to recreate the figure below that contains three plots for each different citation measure, with replications & extensions vs. citations"
   ]
  },
  {
   "cell_type": "code",
   "execution_count": 51,
   "metadata": {
    "scrolled": true
   },
   "outputs": [
    {
     "data": {
      "image/png": "[encoded data removed]",
      "text/plain": [
       "<IPython.core.display.Image object>"
      ]
     },
     "execution_count": 51,
     "metadata": {},
     "output_type": "execute_result"
    }
   ],
   "source": [
    "Image('./plot_exer2.png')"
   ]
  },
  {
   "cell_type": "code",
   "execution_count": null,
   "metadata": {
    "collapsed": true
   },
   "outputs": [],
   "source": []
  },
  {
   "cell_type": "markdown",
   "metadata": {},
   "source": [
    "<button data-toggle=\"collapse\" data-target=\"#sol11\" class='btn btn-primary'>Solution</button>\n",
    "<div id=\"sol11\" class=\"collapse\">\n",
    "```python\n",
    "fig, axes = plt.subplots(nrows=1, ncols=3, figsize=(18, 5), sharey=True)\n",
    "\n",
    "to_plot = ['Macro/Int/Trade', 'Labor/IO', 'Behavioral/Exp.']\n",
    "colors = ['red', 'purple', 'blue']\n",
    "\n",
    "for ax, plot, color in zip(axes, to_plot, colors):\n",
    "    merged[merged['volField'] == plot].plot.scatter(x='volTop200Econ', y='either', s=45, ax=ax, color=color)\n",
    "    ax.set(xlim=0, ylim=0, xlabel='Citations', ylabel='Count', title=plot)\n",
    "    ax.grid()\n",
    "\n",
    "fig\n",
    "plt.show()\n",
    "```"
   ]
  },
  {
   "cell_type": "markdown",
   "metadata": {},
   "source": [
    "#### Create a similar figure, instead using `seaborn` to plot kernel density estimates of citations in three fields"
   ]
  },
  {
   "cell_type": "code",
   "execution_count": 52,
   "metadata": {
    "scrolled": true
   },
   "outputs": [
    {
     "data": {
      "image/png": "[encoded data removed]",
      "text/plain": [
       "<IPython.core.display.Image object>"
      ]
     },
     "execution_count": 52,
     "metadata": {},
     "output_type": "execute_result"
    }
   ],
   "source": [
    "Image('./plot_exer4.png')"
   ]
  },
  {
   "cell_type": "code",
   "execution_count": null,
   "metadata": {
    "collapsed": true
   },
   "outputs": [],
   "source": []
  },
  {
   "cell_type": "markdown",
   "metadata": {},
   "source": [
    "<button data-toggle=\"collapse\" data-target=\"#sol13\" class='btn btn-primary'>Solution</button>\n",
    "<div id=\"sol13\" class=\"collapse\">\n",
    "```python\n",
    "fig, axes = plt.subplots(nrows=1, ncols=3, figsize=(18, 5), sharey=True)\n",
    "\n",
    "to_plot = ['Macro/Int/Trade', 'Labor/IO', 'Behavioral/Exp.']\n",
    "colors = ['red', 'purple', 'blue']\n",
    "\n",
    "for ax, plot, color in zip(axes, to_plot, colors):\n",
    "    sns.kdeplot(merged[merged['volField'] == plot].loc[:, 'volWoS'], ax=ax, color=color, shade=True, legend=False)\n",
    "    ax.set(xlim=0, ylim=0, xlabel='Citations', title=plot)\n",
    "\n",
    "fig\n",
    "plt.show()\n",
    "```"
   ]
  }
 ],
 "metadata": {
  "anaconda-cloud": {},
  "kernelspec": {
   "display_name": "Python 3",
   "language": "python",
   "name": "python3"
  },
  "language_info": {
   "codemirror_mode": {
    "name": "ipython",
    "version": 3
   },
   "file_extension": ".py",
   "mimetype": "text/x-python",
   "name": "python",
   "nbconvert_exporter": "python",
   "pygments_lexer": "ipython3",
   "version": "3.6.2"
  },
  "toc": {
   "colors": {
    "hover_highlight": "#DAA520",
    "navigate_num": "#000000",
    "navigate_text": "#333333",
    "running_highlight": "#FF0000",
    "selected_highlight": "#FFD700",
    "sidebar_border": "#EEEEEE",
    "wrapper_background": "#FFFFFF"
   },
   "moveMenuLeft": true,
   "nav_menu": {
    "height": "30px",
    "width": "252px"
   },
   "navigate_menu": true,
   "number_sections": true,
   "sideBar": true,
   "threshold": 4,
   "toc_cell": false,
   "toc_section_display": "block",
   "toc_window_display": false,
   "widenNotebook": false
  },
  "varInspector": {
   "cols": {
    "lenName": 16,
    "lenType": 16,
    "lenVar": 40
   },
   "kernels_config": {
    "python": {
     "delete_cmd_postfix": "",
     "delete_cmd_prefix": "del ",
     "library": "var_list.py",
     "varRefreshCmd": "print(var_dic_list())"
    },
    "r": {
     "delete_cmd_postfix": ") ",
     "delete_cmd_prefix": "rm(",
     "library": "var_list.r",
     "varRefreshCmd": "cat(var_dic_list()) "
    }
   },
   "types_to_exclude": [
    "module",
    "function",
    "builtin_function_or_method",
    "instance",
    "_Feature"
   ],
   "window_display": false
  }
 },
 "nbformat": 4,
 "nbformat_minor": 2
}
