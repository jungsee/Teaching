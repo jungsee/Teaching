{
 "cells": [
  {
   "cell_type": "code",
   "execution_count": 1,
   "metadata": {},
   "outputs": [
    {
     "name": "stdout",
     "output_type": "stream",
     "text": [
      "Income: 10 Million\n",
      "Tax: 2.1 Million\n",
      "Rate: 21.0 Percent\n",
      "\n",
      "Income: 3 Million\n",
      "Tax: 0.45 Million\n",
      "Rate: 15.0 Percent\n"
     ]
    }
   ],
   "source": [
    "import numpy as np\n",
    "\n",
    "class Tax:\n",
    "\n",
    "    def __init__(self, revenue_input, costs_input):\n",
    "        self.revenue, self.costs, self.brackets, self.percent = revenue_input, costs_input, np.array([0,1,2,5]), np.array([0.1,0.15,0.2,0.25])\n",
    "\n",
    "    def set_revenue(self, revenue_input):\n",
    "        self.revenue = revenue_input\n",
    "\n",
    "    def set_costs(self, costs_input):\n",
    "        self.costs = costs_input\n",
    "\n",
    "    def set_brackets(self, brackets_input):\n",
    "        self.brackets = brackets_input\n",
    "\n",
    "    def set_percent(self, percent_input):\n",
    "        self.percent = percent_input\n",
    "\n",
    "    def compute_income(self):\n",
    "        return self.revenue-self.costs\n",
    "\n",
    "    def compute_tax(self):\n",
    "        self.income = self.compute_income()\n",
    "        if self.income <= 0:\n",
    "            return 0\n",
    "        self.lower_brackets = self.brackets[self.brackets < self.income]\n",
    "        self.lower_percent = self.percent[self.brackets < self.income]\n",
    "        self.tax = np.dot(np.diff(self.lower_brackets),self.lower_percent[:-1])\n",
    "        self.tax = self.tax + self.lower_percent[-1]*(self.income-self.lower_brackets[-1])\n",
    "        return self.tax\n",
    "\n",
    "    def compute_average_tax_rate(self):\n",
    "        return self.compute_tax()/self.income\n",
    "\n",
    "Firm_1 = Tax(10,0)\n",
    "print('Income:', Firm_1.compute_income(), 'Million')\n",
    "print('Tax:', Firm_1.compute_tax(), 'Million')\n",
    "print('Rate:', Firm_1.compute_average_tax_rate()*100, 'Percent')\n",
    "print()\n",
    "\n",
    "Firm_2 = Tax(3,0)\n",
    "print('Income:', Firm_2.compute_income(), 'Million')\n",
    "print('Tax:', Firm_2.compute_tax(), 'Million')\n",
    "print('Rate:', Firm_2.compute_average_tax_rate()*100, 'Percent')"
   ]
  },
  {
   "cell_type": "code",
   "execution_count": 3,
   "metadata": {},
   "outputs": [
    {
     "name": "stdout",
     "output_type": "stream",
     "text": [
      "If straight up, just input the number between 0 and 36. O for odd, E for even. Choose bet type: 3\n",
      "Choose bet amount: #$\n",
      "Invalid bet value!\n",
      "If straight up, just input the number between 0 and 36. O for odd, E for even. Choose bet type: dfds\n",
      "Invalid bet type!\n"
     ]
    }
   ],
   "source": [
    "import random\n",
    "import numpy as np\n",
    "\n",
    "class Roulette: # For simplicity, the roulette version with only a single 0 is implemented\n",
    "\n",
    "    house_earnings = 0\n",
    "\n",
    "    def __init__(self, stash_input):\n",
    "        self.stash = stash_input\n",
    "\n",
    "    def check_stash(self):\n",
    "        print('Current stash:', self.stash)\n",
    "\n",
    "    def check_house_earnings(self):\n",
    "        print('House earnings:', Roulette.house_earnings)\n",
    "\n",
    "    def roll(self):\n",
    "        self.bet_type = input('If straight up, just input the number between 0 and 36. O for odd, E for even. Choose bet type: ')\n",
    "        self.bet_type = self.convert_bet_type()\n",
    "        try:\n",
    "            self.bet_type = int(self.bet_type)\n",
    "        except ValueError:\n",
    "            print('Invalid bet type!')\n",
    "            return\n",
    "\n",
    "        self.bet = input('Choose bet amount: ')\n",
    "        try:\n",
    "            self.bet = float(self.bet)\n",
    "        except ValueError:\n",
    "            print('Invalid bet value!')\n",
    "            return\n",
    "\n",
    "        if self.bet < 0:\n",
    "            print('Invalid negative bet!')\n",
    "            self.check_stash()\n",
    "            return\n",
    "        if self.bet > self.stash:\n",
    "            print('Out of money!')\n",
    "            self.check_stash()\n",
    "            return\n",
    "\n",
    "        self.result = random.randint(0,36)\n",
    "        print('You rolled', self.result)\n",
    "\n",
    "        if self.bet_type == 37:\n",
    "            if np.mod(self.result,2) == 1:\n",
    "                print('You win!')\n",
    "                self.stash += self.bet\n",
    "            else:\n",
    "                print('You lose =(')\n",
    "                self.stash -= self.bet\n",
    "            self.check_stash()\n",
    "            return\n",
    "\n",
    "        if self.bet_type == 38:\n",
    "            if np.mod(self.result,2) == 0 and self.result > 0:\n",
    "                print('You win!')\n",
    "                self.stash += self.bet\n",
    "                Roulette.house_earnings -= self.bet\n",
    "            else:\n",
    "                print('You lose =(')\n",
    "                self.stash -= self.bet\n",
    "                Roulette.house_earnings += self.bet\n",
    "            self.check_stash()\n",
    "            return\n",
    "\n",
    "        if self.result == self.bet_type:\n",
    "            print('You win!')\n",
    "            self.stash += self.bet*36\n",
    "            Roulette.house_earnings -= self.bet*36\n",
    "        else:\n",
    "            print('You lose =(')\n",
    "            self.stash -= self.bet\n",
    "            Roulette.house_earnings += self.bet\n",
    "        self.check_stash()\n",
    "\n",
    "    def add_money(self, money):\n",
    "        self.stash += money\n",
    "        self.check_stash()\n",
    "\n",
    "    def convert_bet_type(self):\n",
    "        return {'O':37,'o':37,'E':38,'e':38}.get(self.bet_type,self.bet_type) # Default value is the original input\n",
    "\n",
    "Player_1 = Roulette(100)\n",
    "Player_1.roll()\n",
    "\n",
    "Player_2 = Roulette(200)\n",
    "Player_2.roll()"
   ]
  },
  {
   "cell_type": "code",
   "execution_count": 6,
   "metadata": {},
   "outputs": [
    {
     "name": "stdout",
     "output_type": "stream",
     "text": [
      "House earnings: 150.0\n",
      "None\n",
      "House earnings: 150.0\n",
      "None\n",
      "150.0\n"
     ]
    }
   ],
   "source": [
    "print(Player_1.check_house_earnings())\n",
    "print(Player_2.check_house_earnings())\n",
    "print(Roulette.house_earnings)"
   ]
  },
  {
   "cell_type": "code",
   "execution_count": 22,
   "metadata": {},
   "outputs": [
    {
     "name": "stdout",
     "output_type": "stream",
     "text": [
      "262\n"
     ]
    },
    {
     "data": {
      "image/png": "[encoded data removed]",
      "text/plain": [
       "<matplotlib.figure.Figure at 0x1dc609471d0>"
      ]
     },
     "metadata": {},
     "output_type": "display_data"
    },
    {
     "data": {
      "image/png": "[encoded data removed]",
      "text/plain": [
       "<matplotlib.figure.Figure at 0x1dc60bd6a20>"
      ]
     },
     "metadata": {},
     "output_type": "display_data"
    },
    {
     "name": "stdout",
     "output_type": "stream",
     "text": [
      "Time elapsed:  2.6330056190490723\n"
     ]
    }
   ],
   "source": [
    "import numpy as np\n",
    "import matplotlib.pyplot as plt\n",
    "import time\n",
    "\n",
    "start = time.time()\n",
    "\n",
    "beta = 0.95\n",
    "num_w = 100\n",
    "num_e = 2\n",
    "tol = 10**(-5)\n",
    "\n",
    "w_vec = np.linspace(0.1,100,num_w)\n",
    "e_vec = np.array([1,2])\n",
    "e_trans = np.array([[0.9,0.1],[0.4,0.6]])\n",
    "\n",
    "wprime = w_vec-0.005\n",
    "value_old = np.ones([num_w,num_e])\n",
    "value_new = np.zeros([num_w,num_e])\n",
    "policy = np.zeros([num_w,num_e])\n",
    "ctr = 0\n",
    "\n",
    "while(np.max(np.abs(value_old-value_new)) > tol):\n",
    "    np.copyto(value_old,value_new)\n",
    "    for e_curr in np.arange(num_e):\n",
    "        for w_curr in np.arange(num_w):\n",
    "            length_temp = np.sum(wprime<=w_vec[w_curr])\n",
    "            value_expected = np.sum(np.kron(e_trans[e_curr,:],np.ones([length_temp,1]))*value_old[wprime<=w_vec[w_curr],:],axis=1)\n",
    "            value_new[w_curr,e_curr] = np.max(e_vec[e_curr]*np.log(w_vec[w_curr]-wprime[wprime<=w_vec[w_curr]])+beta*value_expected)\n",
    "            policy[w_curr,e_curr] = np.argmax(e_vec[e_curr]*np.log(w_vec[w_curr]-wprime[wprime<=w_vec[w_curr]])+beta*value_expected)\n",
    "    ctr = ctr+1\n",
    "\n",
    "policy = policy.astype(int)\n",
    "\n",
    "print(ctr)\n",
    "\n",
    "plt.plot(w_vec, value_new[:,0], 'b', w_vec, value_new[:,1], 'r--', linewidth=2)\n",
    "plt.show()\n",
    "\n",
    "plt.plot(w_vec, w_vec[policy[:,0]], 'b', w_vec, w_vec[policy[:,1]], 'r--', linewidth=2)\n",
    "plt.show()\n",
    "\n",
    "end = time.time()\n",
    "print('Time elapsed: ', end-start)"
   ]
  },
  {
   "cell_type": "code",
   "execution_count": null,
   "metadata": {
    "collapsed": true
   },
   "outputs": [],
   "source": []
  }
 ],
 "metadata": {
  "kernelspec": {
   "display_name": "Python 3",
   "language": "python",
   "name": "python3"
  },
  "language_info": {
   "codemirror_mode": {
    "name": "ipython",
    "version": 3
   },
   "file_extension": ".py",
   "mimetype": "text/x-python",
   "name": "python",
   "nbconvert_exporter": "python",
   "pygments_lexer": "ipython3",
   "version": "3.6.1"
  }
 },
 "nbformat": 4,
 "nbformat_minor": 2
}
